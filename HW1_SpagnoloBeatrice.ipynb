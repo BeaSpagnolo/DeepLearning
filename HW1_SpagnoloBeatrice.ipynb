{
  "nbformat": 4,
  "nbformat_minor": 0,
  "metadata": {
    "colab": {
      "provenance": []
    },
    "kernelspec": {
      "name": "python3",
      "language": "python",
      "display_name": "Python 3 (ipykernel)"
    }
  },
  "cells": [
    {
      "cell_type": "markdown",
      "source": [
        "# **Deep Learning Homework 1: *from the Perceptron to Deep Neural Network***\n",
        "### MSc Computer Science, Data Science, Cybersecurity @UNIPD\n",
        "### 2nd semester - 6 ECTS\n",
        "### Prof. Alessandro Sperduti, Prof. Nicolò Navarin and Dr. Luca Pasa\n",
        "---"
      ],
      "metadata": {
        "id": "SY5WztYNneGg"
      }
    },
    {
      "cell_type": "markdown",
      "metadata": {
        "id": "d8MTQQX3WaFa"
      },
      "source": [
        "In this first homework, we are going to write our own simple feedforward neural network using `Python` and `NumPy` (the standard numeric library for Python). We will start by implementing just a simple neuron, or perceptron, then we define the training algorithm for this simple model.\n",
        "The second part consists in defining a simple neural network to perform classification and regression in real-world cases."
      ]
    },
    {
      "cell_type": "markdown",
      "source": [
        "## **Important Instructions for Submissions**\n",
        "\n",
        "Generally, in the homeworks, you will be either required to complete a part of Python code or to answer questions in text cells. Code and text cells where you are expected to write your answers have been marked by `%STARTCODE` and `%ENDCODE` or `%STARTEXT` and `%ENDTEXT` tags, respectively. Note that you should never change, move or remove these two tags, otherwise your answers will be __not__ valid. As you will see in this notebook, each cell that includes a `[TO COMPLETE]` part has been put between these placeholders.\n",
        "\n",
        "As an example, if the task is to _\"define a variable named `x` and assign it to number 2\"_, the following answer style is presented:"
      ],
      "metadata": {
        "id": "EnhjgoafUY69"
      }
    },
    {
      "cell_type": "markdown",
      "source": [
        "`%STARTCODE`"
      ],
      "metadata": {
        "id": "1F8KAFuXVp_Y"
      }
    },
    {
      "cell_type": "code",
      "source": [
        "x = 2 # [TO COMPLETE]"
      ],
      "metadata": {
        "id": "UrBK7IsgUozD"
      },
      "execution_count": null,
      "outputs": []
    },
    {
      "cell_type": "markdown",
      "source": [
        "`%ENDCODE`"
      ],
      "metadata": {
        "id": "DU5RrnqiVsk9"
      }
    },
    {
      "cell_type": "markdown",
      "source": [
        "Similarly, if the task is a question-answering one, the same style is used. As an instance, the proper answer to the question \"How can we import the numpy library in python?\", must seem like the following:"
      ],
      "metadata": {
        "id": "GcAjL4TOWEbn"
      }
    },
    {
      "cell_type": "markdown",
      "source": [
        "`%STARTEXT`"
      ],
      "metadata": {
        "id": "dvKdI4PBWf4W"
      }
    },
    {
      "cell_type": "markdown",
      "source": [
        "Answer: **[TO COMLPETE]**\n",
        "\n",
        "In order to do so, we use the keyword `import`, accompanied by the name of the library we would like to add to our notebook."
      ],
      "metadata": {
        "id": "BylXZkvyWk1c"
      }
    },
    {
      "cell_type": "markdown",
      "source": [
        "`%ENDTEXT`"
      ],
      "metadata": {
        "id": "uA74CJWmWhtM"
      }
    },
    {
      "cell_type": "markdown",
      "source": [
        "As already mentioned, all `%START` and `%END` keywords have already been placed and you just need to be careful not to delete, move or change them. Now let's start with the first homework!"
      ],
      "metadata": {
        "id": "fmaJhiPFXaXv"
      }
    },
    {
      "cell_type": "markdown",
      "metadata": {
        "id": "-bEFm73cYFQy"
      },
      "source": [
        "## Exercise 1.1: Perceptron\n",
        "\n",
        "In this first exercise, we will implement a simple neuron, or perceptron, as described below. We will have just three inputs and one output neuron (we omit the bias term for now).\n",
        "Notice how the perceptron simply performs a sum of the individual inputs multiplied by the corresponding weights mapped through an activation function $\\sigma(\\cdot)$.  This can also be expressed as a dot product of the weight vector $\\textbf{W}$ and the input vector $\\textbf{x}$, thus: $$\\hat{y}=\\sigma(\\textbf{W}^T \\textbf{x})$$"
      ]
    },
    {
      "cell_type": "markdown",
      "metadata": {
        "id": "hDlidWmiYuKB"
      },
      "source": [
        "We will begin by implementing the perceptron by using the [numpy](https://docs.scipy.org/doc/numpy/reference/) library:"
      ]
    },
    {
      "cell_type": "code",
      "metadata": {
        "id": "i0UCur_TYckH"
      },
      "source": [
        "import numpy as np"
      ],
      "execution_count": null,
      "outputs": []
    },
    {
      "cell_type": "markdown",
      "metadata": {
        "id": "JQONq1k6Y1Zx"
      },
      "source": [
        "### Training data\n",
        "\n",
        "Let's consider a very simple dataset. The dataset is made of four input vectors $\\textbf{x} \\in \\mathbb{R}^3$ and the corresponding desired target values $y$. In the table below, each row is a single sample; the first three columns are the input vector components, whereas the last column is the target output.\n",
        "\n",
        "||Input $x_i$||Output $y$|\n",
        "|:----:|:---:|:---:|---:|\n",
        "| 1    | 1   | 0   | 1  |\n",
        "| 1    | 0   | 0   | 1  |\n",
        "| 0    | 1   | 0   | 0  |\n",
        "| 0    | 0   | 0   | 0  |\n",
        "\n",
        "Notice that our target outputs are equal to the first component of the input, therefore the task that the model should learn is very simple. We will see how the perceptron is able to learn that starting from this toy dataset.\n",
        "\n",
        "Now let's define the `X` and `y` matrices:"
      ]
    },
    {
      "cell_type": "code",
      "metadata": {
        "id": "u1FzAUxhY9PA",
        "colab": {
          "base_uri": "https://localhost:8080/"
        },
        "outputId": "9f23d5a5-553b-4c31-c955-19b03c449036"
      },
      "source": [
        "# Our input data is a matrix, each row is one input sample\n",
        "X = np.array([[1,1,0],\n",
        "              [1,0,0],\n",
        "              [0,1,0],\n",
        "              [0,0,0]])\n",
        "\n",
        "# The target output is a column vector in 2-D array format (.T means transpose)\n",
        "y = np.array([[1,1,0,0]]).T\n",
        "\n",
        "print('X =', X)\n",
        "print('y =', y)"
      ],
      "execution_count": null,
      "outputs": [
        {
          "output_type": "stream",
          "name": "stdout",
          "text": [
            "X = [[1 1 0]\n",
            " [1 0 0]\n",
            " [0 1 0]\n",
            " [0 0 0]]\n",
            "y = [[1]\n",
            " [1]\n",
            " [0]\n",
            " [0]]\n"
          ]
        }
      ]
    },
    {
      "cell_type": "markdown",
      "metadata": {
        "id": "z-W8wMnoZH71"
      },
      "source": [
        "### Activation function\n",
        "\n",
        "As we said before, in order to define a perceptron we need to define the activation function $f(\\cdot)$. There are many possibile activation function that can be used, let's plot some of the most common ones:\n",
        "\n",
        "\n"
      ]
    },
    {
      "cell_type": "code",
      "metadata": {
        "id": "Fi5ZK9zKZssu",
        "colab": {
          "base_uri": "https://localhost:8080/",
          "height": 452
        },
        "outputId": "dd86f547-03ad-46a7-f8e0-39573b2a62fc"
      },
      "source": [
        "import matplotlib.pyplot as plt\n",
        "\n",
        "x_axis = np.arange(-4,4,.01)\n",
        "plt.figure()\n",
        "plt.plot(x_axis, np.maximum(x_axis,0), label='ReLu')\n",
        "plt.plot(x_axis, 1/(1+np.exp(-x_axis)), label='Sigmoid')\n",
        "plt.plot(x_axis, np.tanh(x_axis), label='Tanh')\n",
        "plt.axis([-4, 4, -1.1, 1.1])\n",
        "plt.title('Some Activation Functions')\n",
        "plt.grid(True)\n",
        "plt.legend()\n",
        "plt.show()"
      ],
      "execution_count": null,
      "outputs": [
        {
          "output_type": "display_data",
          "data": {
            "text/plain": [
              "<Figure size 640x480 with 1 Axes>"
            ],
            "image/png": "[encoded data removed]"
          },
          "metadata": {}
        }
      ]
    },
    {
      "cell_type": "markdown",
      "metadata": {
        "id": "jdmJ6-qaZjuZ"
      },
      "source": [
        "In this particular exercise we will use the sigmoid function. So let's define $f(\\cdot)$ as the sigmoid function\n",
        "\n",
        "$$\\sigma(x)=\\frac{1}{1+\\exp^{-x}}$$"
      ]
    },
    {
      "cell_type": "code",
      "metadata": {
        "id": "wwnk5RgKZRox"
      },
      "source": [
        "def sigma(x):\n",
        "    # Sigmoid function\n",
        "    return 1 / ( 1 + np.exp(-x) )"
      ],
      "execution_count": null,
      "outputs": []
    },
    {
      "cell_type": "markdown",
      "metadata": {
        "id": "vX-62n3Io0XU"
      },
      "source": [
        "### Weight initialization\n",
        "\n",
        "Now we have to initialise the weights. Let's initialize them randomly, so that their mean is zero. The weights matrix maps the input space into the output space, therefore in our case $\\mathbf{W} \\in \\mathbb{R}^{3 \\times 1}$"
      ]
    },
    {
      "cell_type": "code",
      "metadata": {
        "id": "9f83YkaNtd5h",
        "colab": {
          "base_uri": "https://localhost:8080/"
        },
        "outputId": "f42b401f-029c-4e7b-8183-6ec8c3ed80be"
      },
      "source": [
        "# fix random seed generator for reproducibility\n",
        "rng = np.random.default_rng(seed=[42,1])\n",
        "\n",
        "# initialize weights randomly with zero mean and uniformly distributed values in [-1,1]\n",
        "W = 2 * rng.random(size=(3,1)) - 1\n",
        "\n",
        "print('W =', W)"
      ],
      "execution_count": null,
      "outputs": [
        {
          "output_type": "stream",
          "name": "stdout",
          "text": [
            "W = [[ 0.58700537]\n",
            " [-0.50808269]\n",
            " [-0.19114733]]\n"
          ]
        }
      ]
    },
    {
      "cell_type": "markdown",
      "metadata": {
        "id": "pZd-aQxAuX49"
      },
      "source": [
        "### Forward propagation\n",
        "\n",
        "Next, let's try to implement one round of forward propagation.  This means taking an input sample and moving it forward through the network, calculating the output of the network eventually.\n",
        "\n",
        "For our single neuron this is simply $\\hat{\\mathbf{y}} = \\sigma(\\mathbf{W}^T \\mathbf{x})$, where $\\mathbf{x}$ is one input vector.\n",
        "\n",
        "Each input sample is arranged as a row of the matrix `X`, therefore we can access the first row by `X[0]`. Let's store it in the variable `X0` for easier access. We'll use `reshape` to make sure it's expressed as a column vector."
      ]
    },
    {
      "cell_type": "code",
      "metadata": {
        "id": "9gTx4QxUumvQ",
        "colab": {
          "base_uri": "https://localhost:8080/"
        },
        "outputId": "c65f4cee-17d7-486d-f4de-ffcf536b5a4e"
      },
      "source": [
        "X0 = np.reshape(X[0], (3,1))\n",
        "print(\"X0 =\", X0)"
      ],
      "execution_count": null,
      "outputs": [
        {
          "output_type": "stream",
          "name": "stdout",
          "text": [
            "X0 = [[1]\n",
            " [1]\n",
            " [0]]\n"
          ]
        }
      ]
    },
    {
      "cell_type": "markdown",
      "metadata": {
        "id": "IpDCnmxWurjC"
      },
      "source": [
        "The output $\\hat{y}$ for the first input can be calculated according to the formula given above"
      ]
    },
    {
      "cell_type": "code",
      "metadata": {
        "id": "idDZfTVKuyPf",
        "colab": {
          "base_uri": "https://localhost:8080/"
        },
        "outputId": "0feaa4aa-e683-4801-969d-7323f3e19e61"
      },
      "source": [
        "y_out = sigma(np.dot(W.T, X0))\n",
        "\n",
        "print('y_out =', y_out)\n",
        "print('y[0] =', y[0])"
      ],
      "execution_count": null,
      "outputs": [
        {
          "output_type": "stream",
          "name": "stdout",
          "text": [
            "y_out = [[0.51972044]]\n",
            "y[0] = [1]\n"
          ]
        }
      ]
    },
    {
      "cell_type": "markdown",
      "metadata": {
        "id": "Oda3Y3btu8Uz"
      },
      "source": [
        "the target result is stored in `y[0]`.  If you check back, you can see we defined it to be $y_0=1$. You can see that our network is sill far away from the right answer... this is why we need to backpropagate the error, to adjust the weights in the right direction!"
      ]
    },
    {
      "cell_type": "markdown",
      "metadata": {
        "id": "oGvgZCDFu-EM"
      },
      "source": [
        "### Backpropagation\n",
        "\n",
        "The following step is updating the weights by propagating the error backwards in the network.  How this is done depends on the activation function, and namely on its derivative. The activation function of the considered model is the sigmoid, and its derivative is:\n",
        "\n",
        "$$\\sigma(x)'=\\sigma(x) \\cdot (1-\\sigma(x))$$\n",
        "\n",
        "Recall that the weight update in general is given as $\\Delta w_{ji} = -\\epsilon \\delta_j x_i$.\n",
        "Our network has only one layer, so $x_i$ is just the input $\\mathbf{x}$, and a single output neuron so there is no actual need for index $j$.\n",
        "\n",
        "In matrix form we can calculate this for all the weights:\n",
        "\n",
        "$$\\Delta \\textbf{W} = -\\epsilon \\delta \\textbf{x}_0$$\n",
        "where $\\delta$ is the gradient (called `grad` in the following code; see the lecture material for its derivation), $ϵ$ is the learning rate, and $\\textbf{x}_0$ is our first input sample in variable `X0`.\n",
        "\n",
        "Recall that $y$ is the desired output, i.e. `y[0]` in this Python code, and $\\hat{y}$ is our predicted value called `y_out` here."
      ]
    },
    {
      "cell_type": "code",
      "metadata": {
        "id": "bs0EG3n9ve6J",
        "colab": {
          "base_uri": "https://localhost:8080/"
        },
        "outputId": "d5bcba6d-fb9f-4a22-d0bf-fe33766bfc7d"
      },
      "source": [
        "# the learning rate determines the step size in the gradient descent, you can experiment with different values if you want\n",
        "learning_rate = 0.5\n",
        "\n",
        "# compute the gradient term\n",
        "grad = (y_out - y[0]) * y_out * (1 - y_out)\n",
        "\n",
        "# Calculate the weight update\n",
        "W_delta = - learning_rate * grad * X0\n",
        "\n",
        "print(\"W_delta = \", W_delta)\n",
        "\n",
        "# Update the weights\n",
        "W += W_delta\n",
        "print(\"Updated weights W = \", W)"
      ],
      "execution_count": null,
      "outputs": [
        {
          "output_type": "stream",
          "name": "stdout",
          "text": [
            "W_delta =  [[0.05994156]\n",
            " [0.05994156]\n",
            " [0.        ]]\n",
            "Updated weights W =  [[ 0.64694693]\n",
            " [-0.44814113]\n",
            " [-0.19114733]]\n"
          ]
        }
      ]
    },
    {
      "cell_type": "markdown",
      "metadata": {
        "id": "Ha1gJ0n9v2oV"
      },
      "source": [
        "Let's try a forward propagation again with the same input."
      ]
    },
    {
      "cell_type": "code",
      "metadata": {
        "id": "fh40oHl2v6rs",
        "colab": {
          "base_uri": "https://localhost:8080/"
        },
        "outputId": "daac0a48-1cc3-434d-ccad-de3814a23782"
      },
      "source": [
        "print(\"y_out_old = \", y_out) # let's print the values before the update\n",
        "y_out = sigma(np.dot(W.T, X0))\n",
        "\n",
        "print('y_out =', y_out)\n",
        "print('y[0] =', y[0])"
      ],
      "execution_count": null,
      "outputs": [
        {
          "output_type": "stream",
          "name": "stdout",
          "text": [
            "y_out_old =  [[0.51972044]]\n",
            "y_out = [[0.5495384]]\n",
            "y[0] = [1]\n"
          ]
        }
      ]
    },
    {
      "cell_type": "markdown",
      "metadata": {
        "id": "lHc3os_AL54y"
      },
      "source": [
        "You should notice that the result has moved (slightly!) towards the correct answer. In order to converge to the right value we have to perform more iterations!"
      ]
    },
    {
      "cell_type": "markdown",
      "metadata": {
        "id": "8INLy50fyORN"
      },
      "source": [
        "### Q1: Training iterations **[TO COMPLETE]**\n",
        "\n",
        "Let's define a complete training procedure for our model. In each iteration we have to perform the forward propagation, then we'll check how much the output differs from the target and propagate the error back (backward propagation).  We'll do this for each sample data point and then iterate this over and over again using a for loop."
      ]
    },
    {
      "cell_type": "markdown",
      "source": [
        "`%STARTCODE`"
      ],
      "metadata": {
        "id": "pide_kEzSjEP"
      }
    },
    {
      "cell_type": "code",
      "metadata": {
        "id": "PPXJwQm4ycgH",
        "colab": {
          "base_uri": "https://localhost:8080/"
        },
        "outputId": "e72cf5dc-e716-44ba-ba44-010d785d616b"
      },
      "source": [
        "# For the training we need to iterate over the dataset several times\n",
        "num_iters = 1000\n",
        "\n",
        "# We'll also store the mean square error (MSE) in every round so we can see how it evolves\n",
        "# mse is just an array to store these values at each round:\n",
        "mse = np.zeros(num_iters)\n",
        "\n",
        "# Looping for the iterations\n",
        "for it in range(num_iters):\n",
        "\n",
        "    # For-loop going over each sample in X\n",
        "    for n in range(len(X)):\n",
        "        # Extract the n_th sample and the corresponding desired output\n",
        "        x_n = np.reshape(X[n], (3,1))\n",
        "        # Get the correponding target value\n",
        "        y_target = y[n].item() # item() is needed to treat 1-dim arrays as scalar\n",
        "\n",
        "        # Forward propagation of the n_th sample\n",
        "        y_out = sigma(np.dot(W.T, x_n)).item()\n",
        "\n",
        "        # Let's keep track of the sum of squared errors\n",
        "        mse[it] += np.square(np.subtract(y_target, y_out)) # TO COMPLETE compute squared error between y_target and y_out\n",
        "        # compute the gradient\n",
        "        grad = (y_out - y_target) * y_out * (1 - y_out) # TO COMPLETE\n",
        "\n",
        "        # Calculate the weights update\n",
        "        W_delta = - learning_rate * grad * x_n\n",
        "\n",
        "        # Update the weights\n",
        "        W += W_delta\n",
        "\n",
        "    # Divide by the number of elements to get the mean of the squared errors\n",
        "    mse[it] /= len(X)\n",
        "\n",
        "# Now let's see the output for each input sample with the trained weights\n",
        "# Using batch mode (see next section) we can do this in a single line\n",
        "print(\"Output after training, y_out =\")\n",
        "y_out = sigma(np.dot(X, W))\n",
        "print(y_out)\n",
        "print(\"Target output, y =\")\n",
        "print(y)"
      ],
      "execution_count": null,
      "outputs": [
        {
          "output_type": "stream",
          "name": "stdout",
          "text": [
            "Output after training, y_out =\n",
            "[[0.95164153]\n",
            " [0.99678581]\n",
            " [0.05966936]\n",
            " [0.5       ]]\n",
            "Target output, y =\n",
            "[[1]\n",
            " [1]\n",
            " [0]\n",
            " [0]]\n"
          ]
        }
      ]
    },
    {
      "cell_type": "markdown",
      "source": [
        "`%ENDCODE`"
      ],
      "metadata": {
        "id": "r4TFfm4tSmHl"
      }
    },
    {
      "cell_type": "markdown",
      "source": [
        "### Q2: Fourth sample **[TO COMPLETE]**\n",
        "Why is the estimation for the fourth sample way different than its real label value? What adjustment can you consider to make this sample get classified correctly as well? (You do not have to implement the adjustment)"
      ],
      "metadata": {
        "id": "pF3Gu_OpRwJh"
      }
    },
    {
      "cell_type": "markdown",
      "source": [
        "`%STARTEXT`"
      ],
      "metadata": {
        "id": "0aSKWdX2S3TF"
      }
    },
    {
      "cell_type": "markdown",
      "source": [
        "Answer: **[TO COMPLETE]**\n",
        "\n",
        "The estimate of the fourth sample (0.5) is different from its actual value (0). This is due to the combination of using the sigmoid activation function and the zero input vector for that sample. In fact, the fourth row of the input matrix X contains all zeros and the sigmoid function with input 0, results in 0.5 which is very far from the desired target value (0).\n",
        "\n",
        "The problem can be solved by modifying the activation function, using for example ReLu or Tanh functions which with value 0 in input return 0 as output. Or by adding bias b to avoid computing the sigmoid at the value zero."
      ],
      "metadata": {
        "id": "nua5TaoySA0m"
      }
    },
    {
      "cell_type": "markdown",
      "source": [
        "`%ENDTEXT`"
      ],
      "metadata": {
        "id": "61rcR2r-TBiV"
      }
    },
    {
      "cell_type": "markdown",
      "metadata": {
        "id": "yT1qLBvBzpDc"
      },
      "source": [
        "After the training phase, the output of the network is fairly close to the target output.\n",
        "\n",
        "\n",
        "How many iterations were required in order to obtain this result? We have set the number of the iteration to $1000$, but it is interesting to investigate the trend of the error through the training. In the next homework, we will discuss how to select the right number of iterations (also known as *epochs*), for now let's just plot its behaviour:"
      ]
    },
    {
      "cell_type": "code",
      "metadata": {
        "id": "a6RsKlA7zrw3",
        "colab": {
          "base_uri": "https://localhost:8080/",
          "height": 472
        },
        "outputId": "8d6faf3c-7ab8-4e6d-91cc-9b5f4d7c980e"
      },
      "source": [
        "plt.figure()\n",
        "plt.plot(range(num_iters), mse, label=\"MSE\")\n",
        "plt.xlabel(\"# Iterations\")\n",
        "plt.title(\"MSE behaviour\")\n",
        "plt.show()"
      ],
      "execution_count": null,
      "outputs": [
        {
          "output_type": "display_data",
          "data": {
            "text/plain": [
              "<Figure size 640x480 with 1 Axes>"
            ],
            "image/png": "[encoded data removed]"
          },
          "metadata": {}
        }
      ]
    },
    {
      "cell_type": "markdown",
      "metadata": {
        "id": "hiS6hr-eMWR1"
      },
      "source": [
        "You should see the error going down pretty quickly in the beginning and then slowing down."
      ]
    },
    {
      "cell_type": "markdown",
      "metadata": {
        "id": "Zoz4y02rxorc"
      },
      "source": [
        "### Batch training\n",
        "\n",
        "With real scenarios it is inefficient to handle each example individually. Our whole dataset can be forward propagated without a for loop:"
      ]
    },
    {
      "cell_type": "code",
      "metadata": {
        "id": "pwc6hfIlxspG",
        "colab": {
          "base_uri": "https://localhost:8080/"
        },
        "outputId": "5069ad67-76b6-43b2-ada7-64985cd69f8a"
      },
      "source": [
        "y_out = sigma(np.dot(X, W))\n",
        "print(\"y_out =\", y_out)"
      ],
      "execution_count": null,
      "outputs": [
        {
          "output_type": "stream",
          "name": "stdout",
          "text": [
            "y_out = [[0.95164153]\n",
            " [0.99678581]\n",
            " [0.05966936]\n",
            " [0.5       ]]\n"
          ]
        }
      ]
    },
    {
      "cell_type": "markdown",
      "metadata": {
        "id": "H8pBN8voyLGv"
      },
      "source": [
        "so we will get the corresponding output (each value in `y_out`) for each input (each row in `X`) in single matrix multiplication.  The error and weight updates can all be calculated in a single go, using matrix multiplications similarly to the steps we did above with single vectors.\n",
        "\n",
        "However, in these exercises you can (but you do not have to) stick to looping over one sample at a time, as we will deal with the batch training mode in the next homeworks and in this case it does not lead to any significant speed advantage."
      ]
    },
    {
      "cell_type": "markdown",
      "source": [
        "## Exercise 1.2: 2D XOR Problem\n",
        "\n",
        "Now let's try a slightly more difficult example. It is a 2D variant of the XOR problem, in which we lay points in a 2D space ideally reproducing the output of the logical function XOR. Here's a visualization of the points in 2D:"
      ],
      "metadata": {
        "id": "t1NBjmZ5K_Nb"
      }
    },
    {
      "cell_type": "code",
      "source": [
        "rng = np.random.default_rng(seed=[42,2])\n",
        "\n",
        "def flip(p=0.1):\n",
        "  if rng.random() < p:\n",
        "    return True\n",
        "  return False\n",
        "\n",
        "def XOR_data_generator(n):\n",
        "  data = rng.random(size=(n, 2))\n",
        "  clusters = {(0.25, 0.25):0, (0.25, 0.75):1,\n",
        "              (0.75, 0.25):1, (0.75, 0.75):0}\n",
        "  labels = [0 for _ in range(n)]\n",
        "  for idx, p in enumerate(data):\n",
        "    max = 0\n",
        "    for c in clusters:\n",
        "      distance = np.sum(np.power((p - np.array(c)), 2))\n",
        "      if distance > max:\n",
        "        labels[idx] = clusters[c]\n",
        "        max = distance\n",
        "    if flip():\n",
        "      labels[idx] = np.abs(labels[idx])\n",
        "  return data, np.array(labels).reshape(-1, 1)\n",
        "\n",
        "X, y = XOR_data_generator(200)\n",
        "\n",
        "plt.title(\"Noisy XOR Dataset\")\n",
        "plt.scatter(X[:,0], X[:,1], c=y)\n",
        "plt.show()"
      ],
      "metadata": {
        "colab": {
          "base_uri": "https://localhost:8080/",
          "height": 452
        },
        "id": "W5cyx0wyLBpz",
        "outputId": "8e672fef-c5b7-4186-9ca5-daff3d3382bd"
      },
      "execution_count": null,
      "outputs": [
        {
          "output_type": "display_data",
          "data": {
            "text/plain": [
              "<Figure size 640x480 with 1 Axes>"
            ],
            "image/png": "[encoded data removed]"
          },
          "metadata": {}
        }
      ]
    },
    {
      "cell_type": "markdown",
      "source": [
        "Recall that the XOR function has the following truth table:\n",
        "\n",
        "||Input|    Output|\n",
        "|:----:|:---:|---:|\n",
        "| 0    | 0   | 1  |\n",
        "| 0    | 1   | 0  |\n",
        "| 1    | 0   | 0  |\n",
        "| 1    | 1   | 1  |\n",
        "\n",
        "You can see how points above and below `0.5` on each axis can be interpreted as \"true\" or \"false\" values, respectively.\n",
        "\n",
        "This problem is interesting because it can not be solved by using a single layer perceptron. Indeed, you will need (at least) a two-layer network to solve it (if this not obvious to you, revise the class material, think about it and come back later!).\n",
        "\n",
        "We will now visually represent the classification boundary that a perceptron learns when we try to fit it to these data points, and observe that—expectedly—it does not separate the two classes.\n"
      ],
      "metadata": {
        "id": "7V-o8iGoG3-h"
      }
    },
    {
      "cell_type": "markdown",
      "source": [
        "### Single-Layer MLP"
      ],
      "metadata": {
        "id": "oesDzp4tMHUK"
      }
    },
    {
      "cell_type": "code",
      "source": [
        "rng = np.random.default_rng(seed=[42,3])\n",
        "\n",
        "# Weights initialization\n",
        "W = 2 * np.random.random((2,1)) - 1\n",
        "\n",
        "# Activation function\n",
        "def sigma(x):\n",
        "    return 1 / (1 + np.exp(-x) )"
      ],
      "metadata": {
        "id": "Li0dgy7gLTrj"
      },
      "execution_count": null,
      "outputs": []
    },
    {
      "cell_type": "code",
      "source": [
        "num_iters = 1000\n",
        "learning_rate = 0.1\n",
        "\n",
        "for it in range(num_iters):\n",
        "    for n in range(len(X)):\n",
        "        x_n = np.reshape(X[n], (2,1))\n",
        "        y_target = y[n]\n",
        "\n",
        "        # Forward propagation\n",
        "        y_out = sigma(np.dot(W.T, x_n))\n",
        "        err = (y_out - y_target).item()\n",
        "\n",
        "        # Compute the gradient\n",
        "        grad = err*y_out*(1 - y_out)\n",
        "\n",
        "        # Calculate the weights update\n",
        "        W_delta = -learning_rate * grad * x_n\n",
        "\n",
        "        # Update the weights\n",
        "        W += W_delta\n",
        "\n",
        "    if it % 10 == 0: # Print every 10 epochs\n",
        "      print(f\"Iteration {it} -- Loss: {err:.6f}\")"
      ],
      "metadata": {
        "id": "y1SvguHsLTuR",
        "colab": {
          "base_uri": "https://localhost:8080/"
        },
        "outputId": "389371a4-89c3-4b5d-8646-3c93dd2a84c3"
      },
      "execution_count": null,
      "outputs": [
        {
          "output_type": "stream",
          "name": "stdout",
          "text": [
            "Iteration 0 -- Loss: 0.488048\n",
            "Iteration 10 -- Loss: 0.450964\n",
            "Iteration 20 -- Loss: 0.453682\n",
            "Iteration 30 -- Loss: 0.454700\n",
            "Iteration 40 -- Loss: 0.455130\n",
            "Iteration 50 -- Loss: 0.455324\n",
            "Iteration 60 -- Loss: 0.455415\n",
            "Iteration 70 -- Loss: 0.455459\n",
            "Iteration 80 -- Loss: 0.455480\n",
            "Iteration 90 -- Loss: 0.455490\n",
            "Iteration 100 -- Loss: 0.455495\n",
            "Iteration 110 -- Loss: 0.455497\n",
            "Iteration 120 -- Loss: 0.455499\n",
            "Iteration 130 -- Loss: 0.455499\n",
            "Iteration 140 -- Loss: 0.455499\n",
            "Iteration 150 -- Loss: 0.455500\n",
            "Iteration 160 -- Loss: 0.455500\n",
            "Iteration 170 -- Loss: 0.455500\n",
            "Iteration 180 -- Loss: 0.455500\n",
            "Iteration 190 -- Loss: 0.455500\n",
            "Iteration 200 -- Loss: 0.455500\n",
            "Iteration 210 -- Loss: 0.455500\n",
            "Iteration 220 -- Loss: 0.455500\n",
            "Iteration 230 -- Loss: 0.455500\n",
            "Iteration 240 -- Loss: 0.455500\n",
            "Iteration 250 -- Loss: 0.455500\n",
            "Iteration 260 -- Loss: 0.455500\n",
            "Iteration 270 -- Loss: 0.455500\n",
            "Iteration 280 -- Loss: 0.455500\n",
            "Iteration 290 -- Loss: 0.455500\n",
            "Iteration 300 -- Loss: 0.455500\n",
            "Iteration 310 -- Loss: 0.455500\n",
            "Iteration 320 -- Loss: 0.455500\n",
            "Iteration 330 -- Loss: 0.455500\n",
            "Iteration 340 -- Loss: 0.455500\n",
            "Iteration 350 -- Loss: 0.455500\n",
            "Iteration 360 -- Loss: 0.455500\n",
            "Iteration 370 -- Loss: 0.455500\n",
            "Iteration 380 -- Loss: 0.455500\n",
            "Iteration 390 -- Loss: 0.455500\n",
            "Iteration 400 -- Loss: 0.455500\n",
            "Iteration 410 -- Loss: 0.455500\n",
            "Iteration 420 -- Loss: 0.455500\n",
            "Iteration 430 -- Loss: 0.455500\n",
            "Iteration 440 -- Loss: 0.455500\n",
            "Iteration 450 -- Loss: 0.455500\n",
            "Iteration 460 -- Loss: 0.455500\n",
            "Iteration 470 -- Loss: 0.455500\n",
            "Iteration 480 -- Loss: 0.455500\n",
            "Iteration 490 -- Loss: 0.455500\n",
            "Iteration 500 -- Loss: 0.455500\n",
            "Iteration 510 -- Loss: 0.455500\n",
            "Iteration 520 -- Loss: 0.455500\n",
            "Iteration 530 -- Loss: 0.455500\n",
            "Iteration 540 -- Loss: 0.455500\n",
            "Iteration 550 -- Loss: 0.455500\n",
            "Iteration 560 -- Loss: 0.455500\n",
            "Iteration 570 -- Loss: 0.455500\n",
            "Iteration 580 -- Loss: 0.455500\n",
            "Iteration 590 -- Loss: 0.455500\n",
            "Iteration 600 -- Loss: 0.455500\n",
            "Iteration 610 -- Loss: 0.455500\n",
            "Iteration 620 -- Loss: 0.455500\n",
            "Iteration 630 -- Loss: 0.455500\n",
            "Iteration 640 -- Loss: 0.455500\n",
            "Iteration 650 -- Loss: 0.455500\n",
            "Iteration 660 -- Loss: 0.455500\n",
            "Iteration 670 -- Loss: 0.455500\n",
            "Iteration 680 -- Loss: 0.455500\n",
            "Iteration 690 -- Loss: 0.455500\n",
            "Iteration 700 -- Loss: 0.455500\n",
            "Iteration 710 -- Loss: 0.455500\n",
            "Iteration 720 -- Loss: 0.455500\n",
            "Iteration 730 -- Loss: 0.455500\n",
            "Iteration 740 -- Loss: 0.455500\n",
            "Iteration 750 -- Loss: 0.455500\n",
            "Iteration 760 -- Loss: 0.455500\n",
            "Iteration 770 -- Loss: 0.455500\n",
            "Iteration 780 -- Loss: 0.455500\n",
            "Iteration 790 -- Loss: 0.455500\n",
            "Iteration 800 -- Loss: 0.455500\n",
            "Iteration 810 -- Loss: 0.455500\n",
            "Iteration 820 -- Loss: 0.455500\n",
            "Iteration 830 -- Loss: 0.455500\n",
            "Iteration 840 -- Loss: 0.455500\n",
            "Iteration 850 -- Loss: 0.455500\n",
            "Iteration 860 -- Loss: 0.455500\n",
            "Iteration 870 -- Loss: 0.455500\n",
            "Iteration 880 -- Loss: 0.455500\n",
            "Iteration 890 -- Loss: 0.455500\n",
            "Iteration 900 -- Loss: 0.455500\n",
            "Iteration 910 -- Loss: 0.455500\n",
            "Iteration 920 -- Loss: 0.455500\n",
            "Iteration 930 -- Loss: 0.455500\n",
            "Iteration 940 -- Loss: 0.455500\n",
            "Iteration 950 -- Loss: 0.455500\n",
            "Iteration 960 -- Loss: 0.455500\n",
            "Iteration 970 -- Loss: 0.455500\n",
            "Iteration 980 -- Loss: 0.455500\n",
            "Iteration 990 -- Loss: 0.455500\n"
          ]
        }
      ]
    },
    {
      "cell_type": "code",
      "source": [
        "def Classifier_plotter(X, y, m):\n",
        "  scale = np.max(X, axis=0)[0]\n",
        "  line = np.array([[0, 0], [scale, m*scale]])\n",
        "  plt.plot(line[:,0], line[:,1], label=\" MLP Classification Boundary\")\n",
        "\n",
        "  plt.scatter(X[:,0], X[:,1], c=y)\n",
        "  plt.xlim([-0.05,1.05])\n",
        "  plt.ylim([-0.05,1.05])\n",
        "  plt.legend()\n",
        "  plt.show()"
      ],
      "metadata": {
        "id": "zUnfXDXjLTxY"
      },
      "execution_count": null,
      "outputs": []
    },
    {
      "cell_type": "code",
      "source": [
        "m = -W[0][0] / W[1][0]\n",
        "Classifier_plotter(X, y, m)"
      ],
      "metadata": {
        "id": "0oslY-4sLT0T",
        "colab": {
          "base_uri": "https://localhost:8080/",
          "height": 430
        },
        "outputId": "06176a78-7e91-4c2b-f081-e5f3d5eaff7b"
      },
      "execution_count": null,
      "outputs": [
        {
          "output_type": "display_data",
          "data": {
            "text/plain": [
              "<Figure size 640x480 with 1 Axes>"
            ],
            "image/png": "[encoded data removed]"
          },
          "metadata": {}
        }
      ]
    },
    {
      "cell_type": "markdown",
      "source": [
        "### Q3: Two-Layer MLP [TO COMPLETE]\n",
        "We will now define a 2-layer feedforward network with a nonlinear activation, which will be able to represent the data points in a different 2D space in which they are linearly separable, and learn a classification boundary in that space.\n",
        "\n",
        "Once again, we will visually represent the data points in the new 2D space and the learned classification boundary. Notice that, to simplify the visualization of the datapoints in the new space, we will have just 2 nodes in the hidden layer."
      ],
      "metadata": {
        "id": "aOSGhQHGMLlw"
      }
    },
    {
      "cell_type": "code",
      "source": [
        "num_hidden = 2\n",
        "rng = np.random.default_rng(seed=[42,5])\n",
        "\n",
        "# initialize weights randomly with zero mean and uniformly distributed values in [-1,1]\n",
        "W_1 = 2 * rng.random((2,num_hidden)) - 1\n",
        "W_2 = 2 * rng.random((num_hidden,1)) - 1"
      ],
      "metadata": {
        "id": "0ub7PCMHLT3J"
      },
      "execution_count": null,
      "outputs": []
    },
    {
      "cell_type": "markdown",
      "source": [
        "`%STARTCODE`"
      ],
      "metadata": {
        "id": "4DZFyrqYXY38"
      }
    },
    {
      "cell_type": "code",
      "source": [
        "num_iters = 2000\n",
        "learning_rate = 0.1 # learning rate\n",
        "\n",
        "mse = np.zeros(num_iters)\n",
        "\n",
        "for it in range(num_iters):\n",
        "    for n in range(len(X)):\n",
        "        x_n = np.reshape(X[n], (2,1))\n",
        "        y_target = y[n].item()\n",
        "\n",
        "        # Forward propagation\n",
        "        # Calculate h\n",
        "        h = sigma(np.dot(W_1.T, x_n))\n",
        "\n",
        "        # Calculate y_out\n",
        "        y_out = sigma(np.dot(W_2.T, h)).item()\n",
        "\n",
        "        # Let's keep track of the sum of squared errors\n",
        "        mse[it] += np.square(np.subtract(y_target, y_out)) # TO COMPLETE\n",
        "\n",
        "        # Compute the gradient\n",
        "        grad = (y_out - y_target) * y_out * (1 - y_out) # TO COMPLETE\n",
        "\n",
        "        W_2_delta = -learning_rate * grad * h\n",
        "\n",
        "        # Calculate the weight updates for W_1\n",
        "        # hint: you can either do this in parallel with vectorized operations,\n",
        "        # or by performing a for loop over i (hidden nodes)\n",
        "        # and k (input nodes) and calculate each W_1_ik update separately\n",
        "        # TO COMPLETE\n",
        "        W_1_delta = np.zeros((num_hidden, len(x_n))) # Optional to initialize the matrix\n",
        "\n",
        "        grad_1 = ((y_out - y_target) * ((y_out * (1 - y_out)) * (W_2 * (h * (1-h)))) * x_n.T).T\n",
        "        W_1_delta = -learning_rate * grad_1\n",
        "\n",
        "        # Update the weights, note: it's important the W weights are updated at the end,\n",
        "        # the above calculation should be done with the old weights\n",
        "        W_1 += W_1_delta # TO COMPLETE\n",
        "        W_2 += W_2_delta # TO COMPLETE\n",
        "\n",
        "    # Divide by the number of elements to get the mean of the squared errors\n",
        "    mse[it] /= len(X)\n",
        "\n",
        "    if it % 10 == 0:\n",
        "      print(f\"Iteration {it} -- Loss: {mse[it]:.6f}\")"
      ],
      "metadata": {
        "id": "wgp9yxsQMO2Y",
        "colab": {
          "base_uri": "https://localhost:8080/"
        },
        "outputId": "7b2d84fa-0fa7-485d-ffb8-d9831901fde8"
      },
      "execution_count": null,
      "outputs": [
        {
          "output_type": "stream",
          "name": "stdout",
          "text": [
            "Iteration 0 -- Loss: 0.247230\n",
            "Iteration 10 -- Loss: 0.246917\n",
            "Iteration 20 -- Loss: 0.246587\n",
            "Iteration 30 -- Loss: 0.246194\n",
            "Iteration 40 -- Loss: 0.245731\n",
            "Iteration 50 -- Loss: 0.245200\n",
            "Iteration 60 -- Loss: 0.244608\n",
            "Iteration 70 -- Loss: 0.243967\n",
            "Iteration 80 -- Loss: 0.243286\n",
            "Iteration 90 -- Loss: 0.242562\n",
            "Iteration 100 -- Loss: 0.241777\n",
            "Iteration 110 -- Loss: 0.240895\n",
            "Iteration 120 -- Loss: 0.239868\n",
            "Iteration 130 -- Loss: 0.238637\n",
            "Iteration 140 -- Loss: 0.237136\n",
            "Iteration 150 -- Loss: 0.235302\n",
            "Iteration 160 -- Loss: 0.233095\n",
            "Iteration 170 -- Loss: 0.230513\n",
            "Iteration 180 -- Loss: 0.227591\n",
            "Iteration 190 -- Loss: 0.224370\n",
            "Iteration 200 -- Loss: 0.220857\n",
            "Iteration 210 -- Loss: 0.217027\n",
            "Iteration 220 -- Loss: 0.212899\n",
            "Iteration 230 -- Loss: 0.208617\n",
            "Iteration 240 -- Loss: 0.204409\n",
            "Iteration 250 -- Loss: 0.200470\n",
            "Iteration 260 -- Loss: 0.196907\n",
            "Iteration 270 -- Loss: 0.193748\n",
            "Iteration 280 -- Loss: 0.190977\n",
            "Iteration 290 -- Loss: 0.188560\n",
            "Iteration 300 -- Loss: 0.186455\n",
            "Iteration 310 -- Loss: 0.184620\n",
            "Iteration 320 -- Loss: 0.183019\n",
            "Iteration 330 -- Loss: 0.181619\n",
            "Iteration 340 -- Loss: 0.180391\n",
            "Iteration 350 -- Loss: 0.179310\n",
            "Iteration 360 -- Loss: 0.178358\n",
            "Iteration 370 -- Loss: 0.177514\n",
            "Iteration 380 -- Loss: 0.176766\n",
            "Iteration 390 -- Loss: 0.176100\n",
            "Iteration 400 -- Loss: 0.175504\n",
            "Iteration 410 -- Loss: 0.174971\n",
            "Iteration 420 -- Loss: 0.174492\n",
            "Iteration 430 -- Loss: 0.174061\n",
            "Iteration 440 -- Loss: 0.173671\n",
            "Iteration 450 -- Loss: 0.173318\n",
            "Iteration 460 -- Loss: 0.172998\n",
            "Iteration 470 -- Loss: 0.172707\n",
            "Iteration 480 -- Loss: 0.172441\n",
            "Iteration 490 -- Loss: 0.172198\n",
            "Iteration 500 -- Loss: 0.171976\n",
            "Iteration 510 -- Loss: 0.171772\n",
            "Iteration 520 -- Loss: 0.171584\n",
            "Iteration 530 -- Loss: 0.171411\n",
            "Iteration 540 -- Loss: 0.171252\n",
            "Iteration 550 -- Loss: 0.171104\n",
            "Iteration 560 -- Loss: 0.170968\n",
            "Iteration 570 -- Loss: 0.170842\n",
            "Iteration 580 -- Loss: 0.170724\n",
            "Iteration 590 -- Loss: 0.170615\n",
            "Iteration 600 -- Loss: 0.170513\n",
            "Iteration 610 -- Loss: 0.170419\n",
            "Iteration 620 -- Loss: 0.170330\n",
            "Iteration 630 -- Loss: 0.170248\n",
            "Iteration 640 -- Loss: 0.170170\n",
            "Iteration 650 -- Loss: 0.170098\n",
            "Iteration 660 -- Loss: 0.170030\n",
            "Iteration 670 -- Loss: 0.169966\n",
            "Iteration 680 -- Loss: 0.169906\n",
            "Iteration 690 -- Loss: 0.169849\n",
            "Iteration 700 -- Loss: 0.169796\n",
            "Iteration 710 -- Loss: 0.169746\n",
            "Iteration 720 -- Loss: 0.169699\n",
            "Iteration 730 -- Loss: 0.169654\n",
            "Iteration 740 -- Loss: 0.169612\n",
            "Iteration 750 -- Loss: 0.169572\n",
            "Iteration 760 -- Loss: 0.169534\n",
            "Iteration 770 -- Loss: 0.169499\n",
            "Iteration 780 -- Loss: 0.169465\n",
            "Iteration 790 -- Loss: 0.169432\n",
            "Iteration 800 -- Loss: 0.169402\n",
            "Iteration 810 -- Loss: 0.169373\n",
            "Iteration 820 -- Loss: 0.169345\n",
            "Iteration 830 -- Loss: 0.169319\n",
            "Iteration 840 -- Loss: 0.169293\n",
            "Iteration 850 -- Loss: 0.169269\n",
            "Iteration 860 -- Loss: 0.169247\n",
            "Iteration 870 -- Loss: 0.169225\n",
            "Iteration 880 -- Loss: 0.169204\n",
            "Iteration 890 -- Loss: 0.169184\n",
            "Iteration 900 -- Loss: 0.169165\n",
            "Iteration 910 -- Loss: 0.169147\n",
            "Iteration 920 -- Loss: 0.169130\n",
            "Iteration 930 -- Loss: 0.169113\n",
            "Iteration 940 -- Loss: 0.169097\n",
            "Iteration 950 -- Loss: 0.169082\n",
            "Iteration 960 -- Loss: 0.169067\n",
            "Iteration 970 -- Loss: 0.169053\n",
            "Iteration 980 -- Loss: 0.169039\n",
            "Iteration 990 -- Loss: 0.169026\n",
            "Iteration 1000 -- Loss: 0.169013\n",
            "Iteration 1010 -- Loss: 0.169001\n",
            "Iteration 1020 -- Loss: 0.168990\n",
            "Iteration 1030 -- Loss: 0.168979\n",
            "Iteration 1040 -- Loss: 0.168968\n",
            "Iteration 1050 -- Loss: 0.168957\n",
            "Iteration 1060 -- Loss: 0.168947\n",
            "Iteration 1070 -- Loss: 0.168938\n",
            "Iteration 1080 -- Loss: 0.168928\n",
            "Iteration 1090 -- Loss: 0.168919\n",
            "Iteration 1100 -- Loss: 0.168910\n",
            "Iteration 1110 -- Loss: 0.168902\n",
            "Iteration 1120 -- Loss: 0.168894\n",
            "Iteration 1130 -- Loss: 0.168886\n",
            "Iteration 1140 -- Loss: 0.168878\n",
            "Iteration 1150 -- Loss: 0.168871\n",
            "Iteration 1160 -- Loss: 0.168864\n",
            "Iteration 1170 -- Loss: 0.168857\n",
            "Iteration 1180 -- Loss: 0.168850\n",
            "Iteration 1190 -- Loss: 0.168843\n",
            "Iteration 1200 -- Loss: 0.168837\n",
            "Iteration 1210 -- Loss: 0.168831\n",
            "Iteration 1220 -- Loss: 0.168825\n",
            "Iteration 1230 -- Loss: 0.168819\n",
            "Iteration 1240 -- Loss: 0.168813\n",
            "Iteration 1250 -- Loss: 0.168808\n",
            "Iteration 1260 -- Loss: 0.168802\n",
            "Iteration 1270 -- Loss: 0.168797\n",
            "Iteration 1280 -- Loss: 0.168792\n",
            "Iteration 1290 -- Loss: 0.168787\n",
            "Iteration 1300 -- Loss: 0.168782\n",
            "Iteration 1310 -- Loss: 0.168777\n",
            "Iteration 1320 -- Loss: 0.168773\n",
            "Iteration 1330 -- Loss: 0.168768\n",
            "Iteration 1340 -- Loss: 0.168764\n",
            "Iteration 1350 -- Loss: 0.168759\n",
            "Iteration 1360 -- Loss: 0.168755\n",
            "Iteration 1370 -- Loss: 0.168751\n",
            "Iteration 1380 -- Loss: 0.168747\n",
            "Iteration 1390 -- Loss: 0.168743\n",
            "Iteration 1400 -- Loss: 0.168739\n",
            "Iteration 1410 -- Loss: 0.168736\n",
            "Iteration 1420 -- Loss: 0.168732\n",
            "Iteration 1430 -- Loss: 0.168728\n",
            "Iteration 1440 -- Loss: 0.168725\n",
            "Iteration 1450 -- Loss: 0.168722\n",
            "Iteration 1460 -- Loss: 0.168718\n",
            "Iteration 1470 -- Loss: 0.168715\n",
            "Iteration 1480 -- Loss: 0.168712\n",
            "Iteration 1490 -- Loss: 0.168708\n",
            "Iteration 1500 -- Loss: 0.168705\n",
            "Iteration 1510 -- Loss: 0.168702\n",
            "Iteration 1520 -- Loss: 0.168699\n",
            "Iteration 1530 -- Loss: 0.168696\n",
            "Iteration 1540 -- Loss: 0.168693\n",
            "Iteration 1550 -- Loss: 0.168691\n",
            "Iteration 1560 -- Loss: 0.168688\n",
            "Iteration 1570 -- Loss: 0.168685\n",
            "Iteration 1580 -- Loss: 0.168682\n",
            "Iteration 1590 -- Loss: 0.168680\n",
            "Iteration 1600 -- Loss: 0.168677\n",
            "Iteration 1610 -- Loss: 0.168675\n",
            "Iteration 1620 -- Loss: 0.168672\n",
            "Iteration 1630 -- Loss: 0.168670\n",
            "Iteration 1640 -- Loss: 0.168667\n",
            "Iteration 1650 -- Loss: 0.168665\n",
            "Iteration 1660 -- Loss: 0.168663\n",
            "Iteration 1670 -- Loss: 0.168660\n",
            "Iteration 1680 -- Loss: 0.168658\n",
            "Iteration 1690 -- Loss: 0.168656\n",
            "Iteration 1700 -- Loss: 0.168654\n",
            "Iteration 1710 -- Loss: 0.168651\n",
            "Iteration 1720 -- Loss: 0.168649\n",
            "Iteration 1730 -- Loss: 0.168647\n",
            "Iteration 1740 -- Loss: 0.168645\n",
            "Iteration 1750 -- Loss: 0.168643\n",
            "Iteration 1760 -- Loss: 0.168641\n",
            "Iteration 1770 -- Loss: 0.168639\n",
            "Iteration 1780 -- Loss: 0.168637\n",
            "Iteration 1790 -- Loss: 0.168635\n",
            "Iteration 1800 -- Loss: 0.168633\n",
            "Iteration 1810 -- Loss: 0.168631\n",
            "Iteration 1820 -- Loss: 0.168630\n",
            "Iteration 1830 -- Loss: 0.168628\n",
            "Iteration 1840 -- Loss: 0.168626\n",
            "Iteration 1850 -- Loss: 0.168624\n",
            "Iteration 1860 -- Loss: 0.168622\n",
            "Iteration 1870 -- Loss: 0.168621\n",
            "Iteration 1880 -- Loss: 0.168619\n",
            "Iteration 1890 -- Loss: 0.168617\n",
            "Iteration 1900 -- Loss: 0.168616\n",
            "Iteration 1910 -- Loss: 0.168614\n",
            "Iteration 1920 -- Loss: 0.168612\n",
            "Iteration 1930 -- Loss: 0.168611\n",
            "Iteration 1940 -- Loss: 0.168609\n",
            "Iteration 1950 -- Loss: 0.168608\n",
            "Iteration 1960 -- Loss: 0.168606\n",
            "Iteration 1970 -- Loss: 0.168605\n",
            "Iteration 1980 -- Loss: 0.168603\n",
            "Iteration 1990 -- Loss: 0.168602\n"
          ]
        }
      ]
    },
    {
      "cell_type": "markdown",
      "source": [
        "`%ENDCODE`"
      ],
      "metadata": {
        "id": "RmcNgOdVXgE0"
      }
    },
    {
      "cell_type": "code",
      "source": [
        "X_new = sigma(np.dot(X, W_1))\n",
        "m = -W_2[0][0] / W_2[1][0]\n",
        "Classifier_plotter(X_new, y, m)"
      ],
      "metadata": {
        "id": "duVjjZaqMO4_",
        "colab": {
          "base_uri": "https://localhost:8080/",
          "height": 430
        },
        "outputId": "139c7d98-95a3-4f0f-d60e-d9a2c6ed43d6"
      },
      "execution_count": null,
      "outputs": [
        {
          "output_type": "display_data",
          "data": {
            "text/plain": [
              "<Figure size 640x480 with 1 Axes>"
            ],
            "image/png": "[encoded data removed]"
          },
          "metadata": {}
        }
      ]
    },
    {
      "cell_type": "markdown",
      "source": [
        "You should see how in the latent space the points are almost perfectly divided by the classification boundary learned by the network."
      ],
      "metadata": {
        "id": "KrWyaQqwLdxi"
      }
    },
    {
      "cell_type": "markdown",
      "metadata": {
        "id": "cAmf-t0PurMP"
      },
      "source": [
        "## Exercise 1.3: Handwritten digits classification\n",
        "In the next two exercises we will try to apply what we learned in the previous ones in two slightly more realistic scenarios.\n",
        "\n",
        "In particular, we now consider a simple digits classification problem. The model turns out to be similar to the perceptron implemented in Exercise 1.1, but here we will use softmax activation function and cross-entropy loss function. The idea is to create a model that has in input an image of a handwritten digit and that return a vector of 10 probabilities (one for each possible digit $0-9$)."
      ]
    },
    {
      "cell_type": "markdown",
      "metadata": {
        "id": "IAYb_cd8vkG-"
      },
      "source": [
        "### Dataset\n",
        "The dataset that we will use in this exercise is included in [scikit-learn](https://scikit-learn.org/stable/), one of the major Machine Learning libraries. The dataset is called `load_digits` and contains several hundreds of samples. Each datapoint is made of the handwritten digit image (or rather its $8\\times8$ pixel representation), that will be the input of our model, and the target digit value.\n",
        "\n",
        "Let's start by plotting one of this handwritten digit:"
      ]
    },
    {
      "cell_type": "code",
      "metadata": {
        "id": "MGrkAeWtufMk",
        "colab": {
          "base_uri": "https://localhost:8080/",
          "height": 521
        },
        "outputId": "c01c18e3-626a-4e9f-b799-44d4e6ec2d1d"
      },
      "source": [
        "import matplotlib.pyplot as plt\n",
        "import numpy as np\n",
        "from sklearn.datasets import load_digits\n",
        "\n",
        "digits = load_digits()\n",
        "\n",
        "def plot_digit(x, y):\n",
        "  plt.figure(figsize=(6, 6))\n",
        "  plt.imshow(x, cmap=plt.cm.gray_r,\n",
        "            interpolation='nearest')\n",
        "  plt.title(\"Image True Label: %d\" % y)\n",
        "  plt.tick_params(bottom=False, left=False, labelbottom=False, labelleft=False)\n",
        "  plt.show()\n",
        "\n",
        "sample_index = 42\n",
        "plot_digit(digits.images[sample_index], digits.target[sample_index])"
      ],
      "execution_count": null,
      "outputs": [
        {
          "output_type": "display_data",
          "data": {
            "text/plain": [
              "<Figure size 600x600 with 1 Axes>"
            ],
            "image/png": "[encoded data removed]"
          },
          "metadata": {}
        }
      ]
    },
    {
      "cell_type": "markdown",
      "metadata": {
        "id": "K0OsnNJbv69J"
      },
      "source": [
        "It is better to check how an input in the dataset $\\mathbf{X}$ and its related target $\\mathbf{y}$ are represented in the dataset:"
      ]
    },
    {
      "cell_type": "code",
      "metadata": {
        "id": "ei9Uda4av5q2",
        "colab": {
          "base_uri": "https://localhost:8080/"
        },
        "outputId": "4a4662b6-1ae6-46d1-b440-a709c6202896"
      },
      "source": [
        "data = np.asarray(digits.images[sample_index], dtype='float32')\n",
        "target = np.asarray(digits.target[sample_index], dtype='int32')\n",
        "\n",
        "import sys\n",
        "np.set_printoptions(threshold=sys.maxsize) # In this way we print the full array\n",
        "print(\"X:\", data)\n",
        "print(\"y:\", target)"
      ],
      "execution_count": null,
      "outputs": [
        {
          "output_type": "stream",
          "name": "stdout",
          "text": [
            "X: [[ 0.  0.  0.  0. 12.  5.  0.  0.]\n",
            " [ 0.  0.  0.  2. 16. 12.  0.  0.]\n",
            " [ 0.  0.  1. 12. 16. 11.  0.  0.]\n",
            " [ 0.  2. 12. 16. 16. 10.  0.  0.]\n",
            " [ 0.  6. 11.  5. 15.  6.  0.  0.]\n",
            " [ 0.  0.  0.  1. 16.  9.  0.  0.]\n",
            " [ 0.  0.  0.  2. 16. 11.  0.  0.]\n",
            " [ 0.  0.  0.  3. 16.  8.  0.  0.]]\n",
            "y: 1\n"
          ]
        }
      ]
    },
    {
      "cell_type": "code",
      "source": [
        "# the dataset is the flattened version of all the images ( 8 x 8 = 64 values for 1797 images)\n",
        "print(digits.data.shape)"
      ],
      "metadata": {
        "id": "HfYJPxfQl7jL",
        "colab": {
          "base_uri": "https://localhost:8080/"
        },
        "outputId": "1672cf6c-3699-41c4-c2e9-6ae5ae102658"
      },
      "execution_count": null,
      "outputs": [
        {
          "output_type": "stream",
          "name": "stdout",
          "text": [
            "(1797, 64)\n"
          ]
        }
      ]
    },
    {
      "cell_type": "markdown",
      "source": [
        "So essentialy the dataset is a matrix with the (color) values for each pixel and for each image, whereas the target is the digit itself."
      ],
      "metadata": {
        "id": "T9yg07qT3-Kr"
      }
    },
    {
      "cell_type": "markdown",
      "metadata": {
        "id": "8Hc97pziwLKa"
      },
      "source": [
        "#### One-hot encoding\n",
        "In order to have a representation of the target that will be similar to the output of the model (i.e. $\\hat{y}=0$ or $1$ for each of the 10 digits), we will use one-hot encoding. Basically, the one-hot encoding allow us to encode a categorical integer feature using a one-of-K scheme, where each class is translated to a specific index of an array."
      ]
    },
    {
      "cell_type": "code",
      "metadata": {
        "id": "eF6jEnOmwRUk"
      },
      "source": [
        "def one_hot(n_classes, y):\n",
        "    return np.eye(n_classes)[y]"
      ],
      "execution_count": null,
      "outputs": []
    },
    {
      "cell_type": "markdown",
      "source": [
        "For example, if there are 10 classes in total and a sample belongs to class number 3, we can translate the output to the following length-ten array of 0 and 1 (class 3 is in the fourth index because we start counting from zero!):"
      ],
      "metadata": {
        "id": "onD0qqMx6shM"
      }
    },
    {
      "cell_type": "code",
      "metadata": {
        "id": "r4CISmJ39lts",
        "colab": {
          "base_uri": "https://localhost:8080/"
        },
        "outputId": "7a90e925-c6a4-4231-8070-f04247bf33dd"
      },
      "source": [
        "one_hot(n_classes=10, y=3)"
      ],
      "execution_count": null,
      "outputs": [
        {
          "output_type": "execute_result",
          "data": {
            "text/plain": [
              "array([0., 0., 0., 1., 0., 0., 0., 0., 0., 0.])"
            ]
          },
          "metadata": {},
          "execution_count": 26
        }
      ]
    },
    {
      "cell_type": "markdown",
      "metadata": {
        "id": "gkSruP-bwkki"
      },
      "source": [
        "As activation function we will use the Softmax function: this particular function is very useful when we have to deal with multiclassification tasks and one-hot target because it turns numbers, a.k.a. logits (pre-activations), into $m$ probabilities that sum to one. Basically, Softmax function outputs a vector that represents the probability distributions of a list of potential outcomes $j$:\n",
        "$$\n",
        "softmax(\\mathbf{x})_j = \\frac{e^{x_j}}{\\sum_{i=1}^{m}{e^{x_i}}}\n",
        "$$"
      ]
    },
    {
      "cell_type": "code",
      "source": [
        "def softmax(X):\n",
        "    return np.exp(X) / np.sum(np.exp(X))"
      ],
      "metadata": {
        "id": "jRpVpZDGU2Cj"
      },
      "execution_count": null,
      "outputs": []
    },
    {
      "cell_type": "markdown",
      "metadata": {
        "id": "KP7xOmNqsE-R"
      },
      "source": [
        "### Loss Function: Cross Entropy ###\n",
        "Usually, a neural network classifier that use the softmax function in the final layer is trained using Cross-Entropy as loss function:\n",
        "$$H(Y,P)=-E_{y \\sim Y}[log \\;P(y)]$$\n",
        "where $Y$ and $P$ are the true and predicted labels distributions."
      ]
    },
    {
      "cell_type": "code",
      "metadata": {
        "id": "UYnPJ1lWsFkP"
      },
      "source": [
        "EPSILON = 1e-8 # this is needed for numerical stability\n",
        "\n",
        "def cross_entropy(Y_true, Y_pred):\n",
        "    Y_true, Y_pred = np.atleast_2d(Y_true), np.atleast_2d(Y_pred) # make sure the dimensions are right\n",
        "    loglikelihoods = np.sum(np.log(EPSILON + Y_pred) * Y_true, axis=1)\n",
        "    return -np.mean(loglikelihoods)"
      ],
      "execution_count": null,
      "outputs": []
    },
    {
      "cell_type": "markdown",
      "metadata": {
        "id": "R2jR9ijztQWP"
      },
      "source": [
        "### Weights Initailiazation\n",
        "\n",
        "Similarly to what we did in previous exercises, we have to initialize the weights but in this case we will consider the bias term as well. Therefore, we define the weights $\\mathbf{W}\\in\\mathbb{R}^{m \\times n}$ and the bias $\\mathbf{b}\\in\\mathbb{R}^m$, where $n$ is the input size and $m$ is the number of classes.\n",
        "Now we can define the output of our model as\n",
        "\n",
        "$$\\hat{\\mathbf{y}}=softmax(\\textbf{W} \\textbf{x}+\\mathbf{b})$$\n",
        "\n"
      ]
    },
    {
      "cell_type": "code",
      "metadata": {
        "id": "FtgOtaVL-4xd"
      },
      "source": [
        "rng = np.random.default_rng(seed=[42,10])\n",
        "\n",
        "input_size = digits.data.shape[1]\n",
        "n_classes = len(np.unique(digits.target))\n",
        "\n",
        "W = rng.uniform(size=(input_size,n_classes), high=0.1, low=-0.1) # Another way to sample from uniform distributions\n",
        "b = rng.uniform(size=n_classes, high=0.1, low=-0.1)"
      ],
      "execution_count": null,
      "outputs": []
    },
    {
      "cell_type": "markdown",
      "metadata": {
        "id": "6Ab3_mFz-9kG"
      },
      "source": [
        "Let's consider a sample from the training set, and plot the current output of our model before training it."
      ]
    },
    {
      "cell_type": "code",
      "metadata": {
        "id": "6VpIr1KY_CTd",
        "colab": {
          "base_uri": "https://localhost:8080/",
          "height": 472
        },
        "outputId": "0f773ca8-3b64-4f5b-8c63-381ee3011500"
      },
      "source": [
        "def plot_predictions(y_out, true_label):\n",
        "  plt.bar(range(n_classes), y_out, label=\"Predictions\", color=\"red\")\n",
        "  plt.ylim(0, 1)\n",
        "  plt.xticks(range(n_classes))\n",
        "  plt.legend()\n",
        "  plt.ylabel(\"Probability\")\n",
        "  plt.xlabel(\"Digit Class\")\n",
        "  plt.title(\"Image True Label: %d\" % true_label)\n",
        "  plt.show()\n",
        "\n",
        "y_out = softmax(np.dot(digits.data[sample_index], W) + b)\n",
        "plot_predictions(y_out, digits.target[sample_index])"
      ],
      "execution_count": null,
      "outputs": [
        {
          "output_type": "display_data",
          "data": {
            "text/plain": [
              "<Figure size 640x480 with 1 Axes>"
            ],
            "image/png": "[encoded data removed]"
          },
          "metadata": {}
        }
      ]
    },
    {
      "cell_type": "markdown",
      "source": [
        "We see that the most likely predictions for our _untrained_ model is just $5$ (or it could have been any other random guess) for the handwritten $1$."
      ],
      "metadata": {
        "id": "LCdvwX-VjyeO"
      }
    },
    {
      "cell_type": "markdown",
      "metadata": {
        "id": "r4DYTEEh_QDf"
      },
      "source": [
        "### Q4: Training procedure [TO COMPLETE]\n",
        "As in the previous exercise let's define a training procedure. Note that in this case, we have to compute the gradient according to the softmax function and the loss function that the training has to optimize.\n",
        "\n",
        "Hence, the gradient for the weights $\\textbf{W}$ is:\n",
        "\n",
        "$\\nabla_W=(\\mathbf{\\hat{y}}-\\mathbf{y}) \\cdot \\mathbf{x}$\n",
        "\n",
        "while for the bias is:\n",
        "\n",
        "$\\nabla_b=(\\mathbf{\\hat{y}}-\\mathbf{y})$\n",
        "\n",
        "During the training procedure let's also compute the accuracy of the predictions and the loss value at each iteration:\n",
        "\n"
      ]
    },
    {
      "cell_type": "markdown",
      "source": [
        "`%STARTCODE`"
      ],
      "metadata": {
        "id": "QvqY4kDVx8Fq"
      }
    },
    {
      "cell_type": "code",
      "metadata": {
        "id": "OcQfByoE_a6v",
        "colab": {
          "base_uri": "https://localhost:8080/"
        },
        "outputId": "1e978d26-4628-45bc-839a-b13a1d95bfc4"
      },
      "source": [
        "num_iters = 50 # Feel free to change this\n",
        "learning_rate = 0.0005 # Feel free to change this\n",
        "\n",
        "for it in range(num_iters):\n",
        "    iteration_accuracy = []\n",
        "    iteration_loss = []\n",
        "    for i, (X, y) in enumerate(zip(digits.data, digits.target)):\n",
        "\n",
        "        # Complete the training loop\n",
        "        # TO COMPLETE\n",
        "        y_out = softmax(np.dot(X, W) + b)\n",
        "        pred_err = y_out - one_hot(n_classes, y)\n",
        "\n",
        "        # Compute the gradient and update parameters\n",
        "        # TO COMPLETE\n",
        "        grad_W = np.outer(pred_err, X)\n",
        "        grad_b = pred_err\n",
        "        W -= learning_rate * grad_W.T\n",
        "        b -= learning_rate * grad_b\n",
        "\n",
        "        iteration_accuracy.append(np.argmax(y_out) == y)\n",
        "        iteration_loss.append(cross_entropy(one_hot(n_classes,y), y_out))\n",
        "\n",
        "    print(f\"Iteration: {it} -- Accuracy: {np.mean(np.asarray(iteration_accuracy)):.2%} -- Loss: {np.mean(iteration_loss):.4f}\")"
      ],
      "execution_count": null,
      "outputs": [
        {
          "output_type": "stream",
          "name": "stdout",
          "text": [
            "Iteration: 0 -- Accuracy: 82.97% -- Loss: 0.6307\n",
            "Iteration: 1 -- Accuracy: 95.05% -- Loss: 0.1696\n",
            "Iteration: 2 -- Accuracy: 96.49% -- Loss: 0.1305\n",
            "Iteration: 3 -- Accuracy: 96.99% -- Loss: 0.1116\n",
            "Iteration: 4 -- Accuracy: 97.16% -- Loss: 0.0994\n",
            "Iteration: 5 -- Accuracy: 97.50% -- Loss: 0.0905\n",
            "Iteration: 6 -- Accuracy: 97.66% -- Loss: 0.0834\n",
            "Iteration: 7 -- Accuracy: 97.89% -- Loss: 0.0775\n",
            "Iteration: 8 -- Accuracy: 98.11% -- Loss: 0.0726\n",
            "Iteration: 9 -- Accuracy: 98.27% -- Loss: 0.0683\n",
            "Iteration: 10 -- Accuracy: 98.50% -- Loss: 0.0646\n",
            "Iteration: 11 -- Accuracy: 98.55% -- Loss: 0.0614\n",
            "Iteration: 12 -- Accuracy: 98.72% -- Loss: 0.0585\n",
            "Iteration: 13 -- Accuracy: 98.78% -- Loss: 0.0559\n",
            "Iteration: 14 -- Accuracy: 98.94% -- Loss: 0.0536\n",
            "Iteration: 15 -- Accuracy: 99.05% -- Loss: 0.0515\n",
            "Iteration: 16 -- Accuracy: 99.11% -- Loss: 0.0496\n",
            "Iteration: 17 -- Accuracy: 99.11% -- Loss: 0.0478\n",
            "Iteration: 18 -- Accuracy: 99.11% -- Loss: 0.0463\n",
            "Iteration: 19 -- Accuracy: 99.17% -- Loss: 0.0448\n",
            "Iteration: 20 -- Accuracy: 99.28% -- Loss: 0.0434\n",
            "Iteration: 21 -- Accuracy: 99.33% -- Loss: 0.0422\n",
            "Iteration: 22 -- Accuracy: 99.33% -- Loss: 0.0410\n",
            "Iteration: 23 -- Accuracy: 99.33% -- Loss: 0.0399\n",
            "Iteration: 24 -- Accuracy: 99.44% -- Loss: 0.0389\n",
            "Iteration: 25 -- Accuracy: 99.44% -- Loss: 0.0380\n",
            "Iteration: 26 -- Accuracy: 99.44% -- Loss: 0.0371\n",
            "Iteration: 27 -- Accuracy: 99.44% -- Loss: 0.0362\n",
            "Iteration: 28 -- Accuracy: 99.50% -- Loss: 0.0354\n",
            "Iteration: 29 -- Accuracy: 99.55% -- Loss: 0.0346\n",
            "Iteration: 30 -- Accuracy: 99.55% -- Loss: 0.0339\n",
            "Iteration: 31 -- Accuracy: 99.67% -- Loss: 0.0332\n",
            "Iteration: 32 -- Accuracy: 99.67% -- Loss: 0.0325\n",
            "Iteration: 33 -- Accuracy: 99.67% -- Loss: 0.0319\n",
            "Iteration: 34 -- Accuracy: 99.72% -- Loss: 0.0313\n",
            "Iteration: 35 -- Accuracy: 99.78% -- Loss: 0.0307\n",
            "Iteration: 36 -- Accuracy: 99.78% -- Loss: 0.0302\n",
            "Iteration: 37 -- Accuracy: 99.78% -- Loss: 0.0296\n",
            "Iteration: 38 -- Accuracy: 99.78% -- Loss: 0.0291\n",
            "Iteration: 39 -- Accuracy: 99.78% -- Loss: 0.0286\n",
            "Iteration: 40 -- Accuracy: 99.78% -- Loss: 0.0281\n",
            "Iteration: 41 -- Accuracy: 99.78% -- Loss: 0.0277\n",
            "Iteration: 42 -- Accuracy: 99.78% -- Loss: 0.0272\n",
            "Iteration: 43 -- Accuracy: 99.78% -- Loss: 0.0268\n",
            "Iteration: 44 -- Accuracy: 99.78% -- Loss: 0.0264\n",
            "Iteration: 45 -- Accuracy: 99.78% -- Loss: 0.0260\n",
            "Iteration: 46 -- Accuracy: 99.78% -- Loss: 0.0256\n",
            "Iteration: 47 -- Accuracy: 99.78% -- Loss: 0.0252\n",
            "Iteration: 48 -- Accuracy: 99.78% -- Loss: 0.0248\n",
            "Iteration: 49 -- Accuracy: 99.78% -- Loss: 0.0245\n"
          ]
        }
      ]
    },
    {
      "cell_type": "markdown",
      "source": [
        "`%ENDCODE`"
      ],
      "metadata": {
        "id": "mo3tIVERyAUv"
      }
    },
    {
      "cell_type": "markdown",
      "metadata": {
        "id": "QnJH8lWaxtc4"
      },
      "source": [
        "As you should see during the training the accuracy increases after each iteration, while the loss function value progressively declines. To succeed in the assignement, you should reach at least Accuracy$>99.00\\%$ and MSE $< 0.05$.\n",
        "\n",
        "Finally, let's check how the prediction capability of our model changes after the training:"
      ]
    },
    {
      "cell_type": "code",
      "metadata": {
        "id": "jGrzV9w6_lwz",
        "colab": {
          "base_uri": "https://localhost:8080/",
          "height": 472
        },
        "outputId": "69e9428c-7082-4a5b-9d80-a1fe1f4dff97"
      },
      "source": [
        "y_out = softmax(np.dot(digits.data[sample_index], W) + b)\n",
        "plot_predictions(y_out, digits.target[sample_index])"
      ],
      "execution_count": null,
      "outputs": [
        {
          "output_type": "display_data",
          "data": {
            "text/plain": [
              "<Figure size 640x480 with 1 Axes>"
            ],
            "image/png": "[encoded data removed]"
          },
          "metadata": {}
        }
      ]
    },
    {
      "cell_type": "markdown",
      "source": [
        "Now, let's test our model on custom generated images whose size are $8 \\times 8$. As you can see, we can simply simulate the number drawing by considering some non-zero pixels among zero-valued pixels. For example, the following test case includes `number 2` inside, that can be seen from positions of non-zero pixel locations as well."
      ],
      "metadata": {
        "id": "eCED9tQGbgz_"
      }
    },
    {
      "cell_type": "code",
      "source": [
        "test_num = 2\n",
        "px = 10\n",
        "test_img = np.array([\n",
        "                    [0.,  0.,  px,  px, px,  px,  0.,  0.],\n",
        "                    [0.,  0.,  0.,  0., 0.,  px,  0.,  0.],\n",
        "                    [0.,  0.,  0.,  0., 0.,  px,  0.,  0.],\n",
        "                    [0.,  0.,  0.,  0., px,  px,  0.,  0.],\n",
        "                    [0.,  0.,  0.,  0., px,  0.,  0.,  0.],\n",
        "                    [0.,  0.,  0.,  px, 0.,  0.,  0.,  0.],\n",
        "                    [0.,  0.,  px,  px, 0.,  0.,  0.,  0.],\n",
        "                    [0.,  0.,  px,  px, px,  px,  0.,  0.]\n",
        "])\n",
        "plot_digit(test_img, test_num)\n",
        "\n",
        "test_img = test_img.flatten() # flatten the array to length (64, )\n",
        "y_pred = softmax(np.dot(test_img, W) + b)\n",
        "plot_predictions(y_pred, test_num)"
      ],
      "metadata": {
        "id": "LaV-ENlYWQ-q",
        "colab": {
          "base_uri": "https://localhost:8080/",
          "height": 976
        },
        "outputId": "cbbd17cb-2081-4960-abb1-037cccddaeec"
      },
      "execution_count": null,
      "outputs": [
        {
          "output_type": "display_data",
          "data": {
            "text/plain": [
              "<Figure size 600x600 with 1 Axes>"
            ],
            "image/png": "[encoded data removed]"
          },
          "metadata": {}
        },
        {
          "output_type": "display_data",
          "data": {
            "text/plain": [
              "<Figure size 640x480 with 1 Axes>"
            ],
            "image/png": "[encoded data removed]"
          },
          "metadata": {}
        }
      ]
    },
    {
      "cell_type": "markdown",
      "source": [
        "You should try different numbers by changing the values in \"test_img\" array. You might observe and review the effect of `px` on the final estimation. Are you able to draw a number that is still recognizable for a human but not for the model?"
      ],
      "metadata": {
        "id": "imQEdCGDoJmT"
      }
    },
    {
      "cell_type": "code",
      "source": [
        "test_num = 3 # [TO COMPLETE] Number you choose to draw on the test_img grid\n",
        "px = 10\n",
        "test_img = np.array([\n",
        "                    [0.,  0.,  px,  px, px,  0.,  0.,  0.],\n",
        "                    [0.,  0.,  0.,  0., px,  0.,  0.,  0.],\n",
        "                    [0.,  0.,  0.,  0., px,  0.,  0.,  0.],\n",
        "                    [0.,  0.,  px,  px, px,  0.,  0.,  0.],\n",
        "                    [0.,  0.,  0.,  0., px,  0.,  0.,  0.],\n",
        "                    [0.,  0.,  0.,  0., px,  0.,  0.,  0.],\n",
        "                    [0.,  0.,  px,  px, px,  0.,  0.,  0.],\n",
        "                    [0.,  0.,  0.,  0., 0.,  0.,  0.,  0.]\n",
        "])\n",
        "plot_digit(test_img, test_num)\n",
        "\n",
        "test_img = test_img.flatten() # flatten the array to length (64, )\n",
        "y_pred = softmax(np.dot(test_img, W) + b)\n",
        "plot_predictions(y_pred, test_num)"
      ],
      "metadata": {
        "id": "NCtOx-yLn7E-",
        "colab": {
          "base_uri": "https://localhost:8080/",
          "height": 976
        },
        "outputId": "58ca9a26-aa21-4643-e61c-c00addfaa5b5"
      },
      "execution_count": null,
      "outputs": [
        {
          "output_type": "display_data",
          "data": {
            "text/plain": [
              "<Figure size 600x600 with 1 Axes>"
            ],
            "image/png": "[encoded data removed]"
          },
          "metadata": {}
        },
        {
          "output_type": "display_data",
          "data": {
            "text/plain": [
              "<Figure size 640x480 with 1 Axes>"
            ],
            "image/png": "[encoded data removed]"
          },
          "metadata": {}
        }
      ]
    },
    {
      "cell_type": "markdown",
      "source": [
        "## Exercise 1.4: Regression\n",
        "\n",
        "In this last exercise, to showcase the versatility of Deep Learning, we are going to train a Multi-Layer Perceptron to estimate the date of first performance of Shakespearean plays based on statistics about the words used in them (fancy, isn't it?). The dataset was first presented in [this paper](https://www.semanticscholar.org/paper/Multiple-regression-techniques-for-modeling-dates-Moscato-Craig/0e32c43760b42d78758097b30c9666aaf4f779c8).\n",
        "\n",
        "We will quickly go through it and prepare the data for you, there is no need to grasp all the details here. Your task is only to implement a 2-layer MLP model and training loop similarly to what we have done so far."
      ],
      "metadata": {
        "id": "nQA1GTUlLJXZ"
      }
    },
    {
      "cell_type": "code",
      "source": [
        "# Download the Dataset\n",
        "\n",
        "! wget https://archive.ics.uci.edu/static/public/747/181+early+modern+english+plays+transcriptions+of+early+editions+in+tei+encoding.zip\n",
        "! unzip -f /content/181+early+modern+english+plays+transcriptions+of+early+editions+in+tei+encoding.zip"
      ],
      "metadata": {
        "id": "XgdEZmRCdSqL",
        "colab": {
          "base_uri": "https://localhost:8080/"
        },
        "outputId": "b420a788-f384-47ae-e53e-3169b207dd18"
      },
      "execution_count": null,
      "outputs": [
        {
          "output_type": "stream",
          "name": "stdout",
          "text": [
            "--2024-04-02 08:08:15--  https://archive.ics.uci.edu/static/public/747/181+early+modern+english+plays+transcriptions+of+early+editions+in+tei+encoding.zip\n",
            "Resolving archive.ics.uci.edu (archive.ics.uci.edu)... 128.195.10.252\n",
            "Connecting to archive.ics.uci.edu (archive.ics.uci.edu)|128.195.10.252|:443... connected.\n",
            "HTTP request sent, awaiting response... 200 OK\n",
            "Length: unspecified\n",
            "Saving to: ‘181+early+modern+english+plays+transcriptions+of+early+editions+in+tei+encoding.zip.2’\n",
            "\n",
            "181+early+modern+en     [ <=>                ] 870.30K  --.-KB/s    in 0.07s   \n",
            "\n",
            "2024-04-02 08:08:15 (11.4 MB/s) - ‘181+early+modern+english+plays+transcriptions+of+early+editions+in+tei+encoding.zip.2’ saved [891188]\n",
            "\n",
            "Archive:  /content/181+early+modern+english+plays+transcriptions+of+early+editions+in+tei+encoding.zip\n"
          ]
        }
      ]
    },
    {
      "cell_type": "code",
      "source": [
        "# Load the dataset with Pandas and shuffle its rows.\n",
        "\n",
        "import pandas as pd\n",
        "\n",
        "df = pd.read_csv('/content/181_plays_1585-610_t.csv') # Adjust path if you are not using Colab\n",
        "df = df.sample(frac=1, random_state=42)\n",
        "df.head()"
      ],
      "metadata": {
        "id": "6iw6pRvJLLxk",
        "colab": {
          "base_uri": "https://localhost:8080/",
          "height": 235
        },
        "outputId": "5495da85-7a98-4a00-ba03-11bc5387200b"
      },
      "execution_count": null,
      "outputs": [
        {
          "output_type": "execute_result",
          "data": {
            "text/plain": [
              "     Date of first performance (best guess)  the  and    i   of    a  you  \\\n",
              "19                                     1608  667  719  359  491  225  203   \n",
              "42                                     1600  436  502  632  255  223  262   \n",
              "153                                    1607  547  425  545  320  469  186   \n",
              "78                                     1592  699  738  503  404  224  251   \n",
              "145                                    1610  881  477  506  630  404  304   \n",
              "\n",
              "      my   is  to[infinitive]  ...  zones  zontes  zoons  zot  zoyas  zoylous  \\\n",
              "19   355  196             278  ...      0       0      0    0      0        0   \n",
              "42   414  274             268  ...      0       0      0    0      0        0   \n",
              "153  260  321             184  ...      0       0      0    0      0        0   \n",
              "78   471  288             271  ...      0       0      0    0      0        0   \n",
              "145  465  278             317  ...      0       0      0    0      0        0   \n",
              "\n",
              "     zucone  zula  zulziman  zygne  \n",
              "19        0     0         0      0  \n",
              "42        0     0         0      0  \n",
              "153       0     0         0      0  \n",
              "78        0     0         0      0  \n",
              "145       0     0         0      0  \n",
              "\n",
              "[5 rows x 51257 columns]"
            ],
            "text/html": [
              "\n",
              "  <div id=\"df-d011ab45-c54e-4fa0-9f77-1b5afded7389\" class=\"colab-df-container\">\n",
              "    <div>\n",
              "<style scoped>\n",
              "    .dataframe tbody tr th:only-of-type {\n",
              "        vertical-align: middle;\n",
              "    }\n",
              "\n",
              "    .dataframe tbody tr th {\n",
              "        vertical-align: top;\n",
              "    }\n",
              "\n",
              "    .dataframe thead th {\n",
              "        text-align: right;\n",
              "    }\n",
              "</style>\n",
              "<table border=\"1\" class=\"dataframe\">\n",
              "  <thead>\n",
              "    <tr style=\"text-align: right;\">\n",
              "      <th></th>\n",
              "      <th>Date of first performance (best guess)</th>\n",
              "      <th>the</th>\n",
              "      <th>and</th>\n",
              "      <th>i</th>\n",
              "      <th>of</th>\n",
              "      <th>a</th>\n",
              "      <th>you</th>\n",
              "      <th>my</th>\n",
              "      <th>is</th>\n",
              "      <th>to[infinitive]</th>\n",
              "      <th>...</th>\n",
              "      <th>zones</th>\n",
              "      <th>zontes</th>\n",
              "      <th>zoons</th>\n",
              "      <th>zot</th>\n",
              "      <th>zoyas</th>\n",
              "      <th>zoylous</th>\n",
              "      <th>zucone</th>\n",
              "      <th>zula</th>\n",
              "      <th>zulziman</th>\n",
              "      <th>zygne</th>\n",
              "    </tr>\n",
              "  </thead>\n",
              "  <tbody>\n",
              "    <tr>\n",
              "      <th>19</th>\n",
              "      <td>1608</td>\n",
              "      <td>667</td>\n",
              "      <td>719</td>\n",
              "      <td>359</td>\n",
              "      <td>491</td>\n",
              "      <td>225</td>\n",
              "      <td>203</td>\n",
              "      <td>355</td>\n",
              "      <td>196</td>\n",
              "      <td>278</td>\n",
              "      <td>...</td>\n",
              "      <td>0</td>\n",
              "      <td>0</td>\n",
              "      <td>0</td>\n",
              "      <td>0</td>\n",
              "      <td>0</td>\n",
              "      <td>0</td>\n",
              "      <td>0</td>\n",
              "      <td>0</td>\n",
              "      <td>0</td>\n",
              "      <td>0</td>\n",
              "    </tr>\n",
              "    <tr>\n",
              "      <th>42</th>\n",
              "      <td>1600</td>\n",
              "      <td>436</td>\n",
              "      <td>502</td>\n",
              "      <td>632</td>\n",
              "      <td>255</td>\n",
              "      <td>223</td>\n",
              "      <td>262</td>\n",
              "      <td>414</td>\n",
              "      <td>274</td>\n",
              "      <td>268</td>\n",
              "      <td>...</td>\n",
              "      <td>0</td>\n",
              "      <td>0</td>\n",
              "      <td>0</td>\n",
              "      <td>0</td>\n",
              "      <td>0</td>\n",
              "      <td>0</td>\n",
              "      <td>0</td>\n",
              "      <td>0</td>\n",
              "      <td>0</td>\n",
              "      <td>0</td>\n",
              "    </tr>\n",
              "    <tr>\n",
              "      <th>153</th>\n",
              "      <td>1607</td>\n",
              "      <td>547</td>\n",
              "      <td>425</td>\n",
              "      <td>545</td>\n",
              "      <td>320</td>\n",
              "      <td>469</td>\n",
              "      <td>186</td>\n",
              "      <td>260</td>\n",
              "      <td>321</td>\n",
              "      <td>184</td>\n",
              "      <td>...</td>\n",
              "      <td>0</td>\n",
              "      <td>0</td>\n",
              "      <td>0</td>\n",
              "      <td>0</td>\n",
              "      <td>0</td>\n",
              "      <td>0</td>\n",
              "      <td>0</td>\n",
              "      <td>0</td>\n",
              "      <td>0</td>\n",
              "      <td>0</td>\n",
              "    </tr>\n",
              "    <tr>\n",
              "      <th>78</th>\n",
              "      <td>1592</td>\n",
              "      <td>699</td>\n",
              "      <td>738</td>\n",
              "      <td>503</td>\n",
              "      <td>404</td>\n",
              "      <td>224</td>\n",
              "      <td>251</td>\n",
              "      <td>471</td>\n",
              "      <td>288</td>\n",
              "      <td>271</td>\n",
              "      <td>...</td>\n",
              "      <td>0</td>\n",
              "      <td>0</td>\n",
              "      <td>0</td>\n",
              "      <td>0</td>\n",
              "      <td>0</td>\n",
              "      <td>0</td>\n",
              "      <td>0</td>\n",
              "      <td>0</td>\n",
              "      <td>0</td>\n",
              "      <td>0</td>\n",
              "    </tr>\n",
              "    <tr>\n",
              "      <th>145</th>\n",
              "      <td>1610</td>\n",
              "      <td>881</td>\n",
              "      <td>477</td>\n",
              "      <td>506</td>\n",
              "      <td>630</td>\n",
              "      <td>404</td>\n",
              "      <td>304</td>\n",
              "      <td>465</td>\n",
              "      <td>278</td>\n",
              "      <td>317</td>\n",
              "      <td>...</td>\n",
              "      <td>0</td>\n",
              "      <td>0</td>\n",
              "      <td>0</td>\n",
              "      <td>0</td>\n",
              "      <td>0</td>\n",
              "      <td>0</td>\n",
              "      <td>0</td>\n",
              "      <td>0</td>\n",
              "      <td>0</td>\n",
              "      <td>0</td>\n",
              "    </tr>\n",
              "  </tbody>\n",
              "</table>\n",
              "<p>5 rows × 51257 columns</p>\n",
              "</div>\n",
              "    <div class=\"colab-df-buttons\">\n",
              "\n",
              "  <div class=\"colab-df-container\">\n",
              "    <button class=\"colab-df-convert\" onclick=\"convertToInteractive('df-d011ab45-c54e-4fa0-9f77-1b5afded7389')\"\n",
              "            title=\"Convert this dataframe to an interactive table.\"\n",
              "            style=\"display:none;\">\n",
              "\n",
              "  <svg xmlns=\"http://www.w3.org/2000/svg\" height=\"24px\" viewBox=\"0 -960 960 960\">\n",
              "    <path d=\"M120-120v-720h720v720H120Zm60-500h600v-160H180v160Zm220 220h160v-160H400v160Zm0 220h160v-160H400v160ZM180-400h160v-160H180v160Zm440 0h160v-160H620v160ZM180-180h160v-160H180v160Zm440 0h160v-160H620v160Z\"/>\n",
              "  </svg>\n",
              "    </button>\n",
              "\n",
              "  <style>\n",
              "    .colab-df-container {\n",
              "      display:flex;\n",
              "      gap: 12px;\n",
              "    }\n",
              "\n",
              "    .colab-df-convert {\n",
              "      background-color: #E8F0FE;\n",
              "      border: none;\n",
              "      border-radius: 50%;\n",
              "      cursor: pointer;\n",
              "      display: none;\n",
              "      fill: #1967D2;\n",
              "      height: 32px;\n",
              "      padding: 0 0 0 0;\n",
              "      width: 32px;\n",
              "    }\n",
              "\n",
              "    .colab-df-convert:hover {\n",
              "      background-color: #E2EBFA;\n",
              "      box-shadow: 0px 1px 2px rgba(60, 64, 67, 0.3), 0px 1px 3px 1px rgba(60, 64, 67, 0.15);\n",
              "      fill: #174EA6;\n",
              "    }\n",
              "\n",
              "    .colab-df-buttons div {\n",
              "      margin-bottom: 4px;\n",
              "    }\n",
              "\n",
              "    [theme=dark] .colab-df-convert {\n",
              "      background-color: #3B4455;\n",
              "      fill: #D2E3FC;\n",
              "    }\n",
              "\n",
              "    [theme=dark] .colab-df-convert:hover {\n",
              "      background-color: #434B5C;\n",
              "      box-shadow: 0px 1px 3px 1px rgba(0, 0, 0, 0.15);\n",
              "      filter: drop-shadow(0px 1px 2px rgba(0, 0, 0, 0.3));\n",
              "      fill: #FFFFFF;\n",
              "    }\n",
              "  </style>\n",
              "\n",
              "    <script>\n",
              "      const buttonEl =\n",
              "        document.querySelector('#df-d011ab45-c54e-4fa0-9f77-1b5afded7389 button.colab-df-convert');\n",
              "      buttonEl.style.display =\n",
              "        google.colab.kernel.accessAllowed ? 'block' : 'none';\n",
              "\n",
              "      async function convertToInteractive(key) {\n",
              "        const element = document.querySelector('#df-d011ab45-c54e-4fa0-9f77-1b5afded7389');\n",
              "        const dataTable =\n",
              "          await google.colab.kernel.invokeFunction('convertToInteractive',\n",
              "                                                    [key], {});\n",
              "        if (!dataTable) return;\n",
              "\n",
              "        const docLinkHtml = 'Like what you see? Visit the ' +\n",
              "          '<a target=\"_blank\" href=https://colab.research.google.com/notebooks/data_table.ipynb>data table notebook</a>'\n",
              "          + ' to learn more about interactive tables.';\n",
              "        element.innerHTML = '';\n",
              "        dataTable['output_type'] = 'display_data';\n",
              "        await google.colab.output.renderOutput(dataTable, element);\n",
              "        const docLink = document.createElement('div');\n",
              "        docLink.innerHTML = docLinkHtml;\n",
              "        element.appendChild(docLink);\n",
              "      }\n",
              "    </script>\n",
              "  </div>\n",
              "\n",
              "\n",
              "<div id=\"df-3d39210e-a992-429a-ad46-c4e1ace97d2f\">\n",
              "  <button class=\"colab-df-quickchart\" onclick=\"quickchart('df-3d39210e-a992-429a-ad46-c4e1ace97d2f')\"\n",
              "            title=\"Suggest charts\"\n",
              "            style=\"display:none;\">\n",
              "\n",
              "<svg xmlns=\"http://www.w3.org/2000/svg\" height=\"24px\"viewBox=\"0 0 24 24\"\n",
              "     width=\"24px\">\n",
              "    <g>\n",
              "        <path d=\"M19 3H5c-1.1 0-2 .9-2 2v14c0 1.1.9 2 2 2h14c1.1 0 2-.9 2-2V5c0-1.1-.9-2-2-2zM9 17H7v-7h2v7zm4 0h-2V7h2v10zm4 0h-2v-4h2v4z\"/>\n",
              "    </g>\n",
              "</svg>\n",
              "  </button>\n",
              "\n",
              "<style>\n",
              "  .colab-df-quickchart {\n",
              "      --bg-color: #E8F0FE;\n",
              "      --fill-color: #1967D2;\n",
              "      --hover-bg-color: #E2EBFA;\n",
              "      --hover-fill-color: #174EA6;\n",
              "      --disabled-fill-color: #AAA;\n",
              "      --disabled-bg-color: #DDD;\n",
              "  }\n",
              "\n",
              "  [theme=dark] .colab-df-quickchart {\n",
              "      --bg-color: #3B4455;\n",
              "      --fill-color: #D2E3FC;\n",
              "      --hover-bg-color: #434B5C;\n",
              "      --hover-fill-color: #FFFFFF;\n",
              "      --disabled-bg-color: #3B4455;\n",
              "      --disabled-fill-color: #666;\n",
              "  }\n",
              "\n",
              "  .colab-df-quickchart {\n",
              "    background-color: var(--bg-color);\n",
              "    border: none;\n",
              "    border-radius: 50%;\n",
              "    cursor: pointer;\n",
              "    display: none;\n",
              "    fill: var(--fill-color);\n",
              "    height: 32px;\n",
              "    padding: 0;\n",
              "    width: 32px;\n",
              "  }\n",
              "\n",
              "  .colab-df-quickchart:hover {\n",
              "    background-color: var(--hover-bg-color);\n",
              "    box-shadow: 0 1px 2px rgba(60, 64, 67, 0.3), 0 1px 3px 1px rgba(60, 64, 67, 0.15);\n",
              "    fill: var(--button-hover-fill-color);\n",
              "  }\n",
              "\n",
              "  .colab-df-quickchart-complete:disabled,\n",
              "  .colab-df-quickchart-complete:disabled:hover {\n",
              "    background-color: var(--disabled-bg-color);\n",
              "    fill: var(--disabled-fill-color);\n",
              "    box-shadow: none;\n",
              "  }\n",
              "\n",
              "  .colab-df-spinner {\n",
              "    border: 2px solid var(--fill-color);\n",
              "    border-color: transparent;\n",
              "    border-bottom-color: var(--fill-color);\n",
              "    animation:\n",
              "      spin 1s steps(1) infinite;\n",
              "  }\n",
              "\n",
              "  @keyframes spin {\n",
              "    0% {\n",
              "      border-color: transparent;\n",
              "      border-bottom-color: var(--fill-color);\n",
              "      border-left-color: var(--fill-color);\n",
              "    }\n",
              "    20% {\n",
              "      border-color: transparent;\n",
              "      border-left-color: var(--fill-color);\n",
              "      border-top-color: var(--fill-color);\n",
              "    }\n",
              "    30% {\n",
              "      border-color: transparent;\n",
              "      border-left-color: var(--fill-color);\n",
              "      border-top-color: var(--fill-color);\n",
              "      border-right-color: var(--fill-color);\n",
              "    }\n",
              "    40% {\n",
              "      border-color: transparent;\n",
              "      border-right-color: var(--fill-color);\n",
              "      border-top-color: var(--fill-color);\n",
              "    }\n",
              "    60% {\n",
              "      border-color: transparent;\n",
              "      border-right-color: var(--fill-color);\n",
              "    }\n",
              "    80% {\n",
              "      border-color: transparent;\n",
              "      border-right-color: var(--fill-color);\n",
              "      border-bottom-color: var(--fill-color);\n",
              "    }\n",
              "    90% {\n",
              "      border-color: transparent;\n",
              "      border-bottom-color: var(--fill-color);\n",
              "    }\n",
              "  }\n",
              "</style>\n",
              "\n",
              "  <script>\n",
              "    async function quickchart(key) {\n",
              "      const quickchartButtonEl =\n",
              "        document.querySelector('#' + key + ' button');\n",
              "      quickchartButtonEl.disabled = true;  // To prevent multiple clicks.\n",
              "      quickchartButtonEl.classList.add('colab-df-spinner');\n",
              "      try {\n",
              "        const charts = await google.colab.kernel.invokeFunction(\n",
              "            'suggestCharts', [key], {});\n",
              "      } catch (error) {\n",
              "        console.error('Error during call to suggestCharts:', error);\n",
              "      }\n",
              "      quickchartButtonEl.classList.remove('colab-df-spinner');\n",
              "      quickchartButtonEl.classList.add('colab-df-quickchart-complete');\n",
              "    }\n",
              "    (() => {\n",
              "      let quickchartButtonEl =\n",
              "        document.querySelector('#df-3d39210e-a992-429a-ad46-c4e1ace97d2f button');\n",
              "      quickchartButtonEl.style.display =\n",
              "        google.colab.kernel.accessAllowed ? 'block' : 'none';\n",
              "    })();\n",
              "  </script>\n",
              "</div>\n",
              "    </div>\n",
              "  </div>\n"
            ],
            "application/vnd.google.colaboratory.intrinsic+json": {
              "type": "dataframe",
              "variable_name": "df"
            }
          },
          "metadata": {},
          "execution_count": 36
        }
      ]
    },
    {
      "cell_type": "code",
      "source": [
        "# Extracting X and y from the Pandas DataFrame\n",
        "\n",
        "X = np.array(df.iloc[:, 1:])\n",
        "y = np.array(df[\"Date of first performance (best guess)\"]).reshape(-1,1)\n",
        "X.shape, y.shape"
      ],
      "metadata": {
        "id": "l2Wi3GOKNH9i",
        "colab": {
          "base_uri": "https://localhost:8080/"
        },
        "outputId": "8606069c-39dd-4613-ede5-dc6fe717bc92"
      },
      "execution_count": null,
      "outputs": [
        {
          "output_type": "execute_result",
          "data": {
            "text/plain": [
              "((181, 51256), (181, 1))"
            ]
          },
          "metadata": {},
          "execution_count": 37
        }
      ]
    },
    {
      "cell_type": "code",
      "source": [
        "# Making into training and test splits with 85%-15% proportions. We will see later on how to use the validation set too.\n",
        "\n",
        "tr, tst = 0.85, 0.15\n",
        "n = int(len(df) * tr)\n",
        "X_train, X_test = X[:n, :], X[n:, :]\n",
        "y_train, y_test = y[:n], y[n:]"
      ],
      "metadata": {
        "id": "rrhivnr0NIG_"
      },
      "execution_count": null,
      "outputs": []
    },
    {
      "cell_type": "code",
      "source": [
        "X_train.shape, X_test.shape, y_train.shape, y_test.shape"
      ],
      "metadata": {
        "id": "KlFAXj4_NIKh",
        "colab": {
          "base_uri": "https://localhost:8080/"
        },
        "outputId": "8b1cf792-22be-45c0-a32d-ac9b62e63852"
      },
      "execution_count": null,
      "outputs": [
        {
          "output_type": "execute_result",
          "data": {
            "text/plain": [
              "((153, 51256), (28, 51256), (153, 1), (28, 1))"
            ]
          },
          "metadata": {},
          "execution_count": 39
        }
      ]
    },
    {
      "cell_type": "markdown",
      "source": [
        "### Data pre-processing\n",
        "\n",
        "To obtain meaningful performances with a basic MLP, we have to translate our tabular data into numerical vectors. Try to understand what each functions does, as these pre-processing steps are common practices in Data Science."
      ],
      "metadata": {
        "id": "hhI6r43xRPCu"
      }
    },
    {
      "cell_type": "code",
      "source": [
        "\"\"\"\n",
        "Rescale training data in the interval [0, 1] and get the min and\n",
        "max coefficients to rescale also validation and test data based on\n",
        "the statistics of the training set, without leaking information.\n",
        "\"\"\"\n",
        "def fit_normalize(array, coeff1=1.0, coeff2=1.0):\n",
        "  minimum, maximum = coeff1*np.min(array), coeff2*np.max(array)\n",
        "  if minimum == maximum == 0: return (array, (0, 0))\n",
        "  scaled_array = (array - minimum) / (maximum - minimum)\n",
        "  return (scaled_array, (minimum, maximum))\n",
        "\n",
        "\"\"\"\n",
        "Function to rescale test data based on the statistics of the training set.\n",
        "\"\"\"\n",
        "def apply_normalize(array, param):\n",
        "  if param[0] == param[1] == 0: return array\n",
        "  scaled_array = (array - param[0]) / (param[1] - param[0])\n",
        "  return scaled_array\n",
        "\n",
        "\"\"\"\n",
        "Reverse function, to go from values in [0, 1] back to years.\n",
        "\"\"\"\n",
        "def reverse(array, params):\n",
        "  return params[0] + array * (params[1] - params[0])"
      ],
      "metadata": {
        "id": "v4lxe5lnNIOK"
      },
      "execution_count": null,
      "outputs": []
    },
    {
      "cell_type": "code",
      "source": [
        "X_train_scaled = np.zeros_like(X_train, dtype=float)\n",
        "X_train_params = []\n",
        "for idx, col in enumerate(X_train.T):\n",
        "  X_train_scaled[: , idx], param = fit_normalize(col)\n",
        "  X_train_params.append(param)"
      ],
      "metadata": {
        "id": "AaPMTSp4Ndyp"
      },
      "execution_count": null,
      "outputs": []
    },
    {
      "cell_type": "code",
      "source": [
        "X_test_scaled = np.zeros_like(X_test, dtype=float)\n",
        "for idx, col in enumerate(X_test.T):\n",
        "  X_test_scaled[: , idx] = apply_normalize(col, X_train_params[idx])"
      ],
      "metadata": {
        "id": "Os3Akx20NXuZ"
      },
      "execution_count": null,
      "outputs": []
    },
    {
      "cell_type": "code",
      "source": [
        "y_train_scaled, y_train_params = fit_normalize(y_train)\n",
        "y_test_scaled = apply_normalize(y_test, y_train_params)"
      ],
      "metadata": {
        "id": "5iol5X96NXxR"
      },
      "execution_count": null,
      "outputs": []
    },
    {
      "cell_type": "markdown",
      "source": [
        "We aslo apply [Principal Component Analysis (PCA)](https://en.wikipedia.org/wiki/Principal_component_analysis?) to lower the dimensionality well below $51256$ while retaining the core of the data structure."
      ],
      "metadata": {
        "id": "QrizqQNT83VI"
      }
    },
    {
      "cell_type": "code",
      "source": [
        "from sklearn.decomposition import PCA\n",
        "n_components = 100\n",
        "pca = PCA(n_components=n_components)\n",
        "X_train_scaled = pca.fit_transform(X_train_scaled)\n",
        "X_test_scaled = pca.transform(X_test_scaled)"
      ],
      "metadata": {
        "id": "eCr9ppuLNlry"
      },
      "execution_count": null,
      "outputs": []
    },
    {
      "cell_type": "code",
      "source": [
        "X_train_scaled.shape, X_test_scaled.shape, y_train_scaled.shape, y_test_scaled.shape"
      ],
      "metadata": {
        "id": "_yaYAb8fNluw",
        "colab": {
          "base_uri": "https://localhost:8080/"
        },
        "outputId": "1747d3bb-01b9-4c83-c7fd-d046f1475503"
      },
      "execution_count": null,
      "outputs": [
        {
          "output_type": "execute_result",
          "data": {
            "text/plain": [
              "((153, 100), (28, 100), (153, 1), (28, 1))"
            ]
          },
          "metadata": {},
          "execution_count": 45
        }
      ]
    },
    {
      "cell_type": "markdown",
      "source": [
        "### Q5: Training Procedure [TO COMPLETE]\n",
        "\n",
        "You will now have to implement a 2-layers MLP and its training loop.\n",
        " **Your goal is to reach a MSE on the test set below $0.03$**. There are many choices to make and tests to run, so do not worry if you do not get immediately this score! Please use the variable names and basic structure we provide, for all the rest you are free to experiment and try different approaches. We will see during the course and in the next homeworks how we can implement better and faster models, leveraging Deep Learning libraries."
      ],
      "metadata": {
        "id": "xXZQCnW8vpXM"
      }
    },
    {
      "cell_type": "markdown",
      "source": [
        "`%STARTCODE`"
      ],
      "metadata": {
        "id": "_mSSu6Xkv64T"
      }
    },
    {
      "cell_type": "code",
      "source": [
        "rng = np.random.default_rng([42, 100])\n",
        "\n",
        "num_hidden = 5 # TO COMPLETE (the higher the better, but more computationally expensive and leads to overfitting)\n",
        "\n",
        "# initialize weights randomly with zero mean and uniformly distributed values in [-1,1]\n",
        "W_1 = 2 * rng.random((n_components,num_hidden)) - 1 # TO COMPLETE\n",
        "W_2 = 2 * rng.random((num_hidden,1)) - 1 # TO COMPLETE\n",
        "\n",
        "# Let us define a helper lambda function to make predictions for validation and testing\n",
        "forward_propagation = lambda x,w1,w2 : sigma(np.dot(sigma(np.dot(x, w1)), w2))"
      ],
      "metadata": {
        "id": "xer_n9AwNuri"
      },
      "execution_count": null,
      "outputs": []
    },
    {
      "cell_type": "code",
      "source": [
        "X = X_train_scaled\n",
        "y = y_train_scaled\n",
        "\n",
        "train_losses = []\n",
        "test_losses = []\n",
        "\n",
        "num_iters = 2000 # TO COMPLETE\n",
        "learning_rate = 0.3 # TO COMPLETE\n",
        "mse = np.zeros(num_iters)\n",
        "for it in range(num_iters):\n",
        "    for n in range(len(X)):\n",
        "        x_n = np.reshape(X[n], (n_components,1))\n",
        "        y_target = y[n].item()\n",
        "        # TO COMPLETE\n",
        "        h = sigma(np.dot(W_1.T, x_n))\n",
        "        y_out = forward_propagation(x_n.T, W_1, W_2)\n",
        "        mse[it] += np.square(np.subtract(y_target, y_out))\n",
        "\n",
        "        grad_2 = (y_out - y_target) * y_out * (1 - y_out)\n",
        "        W_2_delta = -learning_rate * grad_2 * h\n",
        "\n",
        "        grad_1 = ((y_out - y_target) * ((y_out * (1 - y_out)) * (W_2 * (h * (1-h)))) * x_n.T).T\n",
        "        W_1_delta = -learning_rate * grad_1\n",
        "\n",
        "        # Compute grad_W_1 and W_1_delta\n",
        "        # ...\n",
        "        # Update the weights\n",
        "        W_1 += W_1_delta\n",
        "        W_2 += W_2_delta\n",
        "\n",
        "\n",
        "    mse[it] /= len(X)\n",
        "\n",
        "    y_test_scaled_pred = forward_propagation(X_test_scaled, W_1, W_2)\n",
        "    test_mse = np.mean(np.square(y_test_scaled_pred - y_test_scaled))\n",
        "\n",
        "    train_losses.append(mse[it])\n",
        "    test_losses.append(test_mse)\n",
        "    if it % 2 == 0:\n",
        "      print(f\"Iteration {it} -- train_loss: {mse[it]:.4f} -- test_loss {test_mse:.4f}\")"
      ],
      "metadata": {
        "id": "i5b96Ls0Nuuc",
        "colab": {
          "base_uri": "https://localhost:8080/"
        },
        "outputId": "8f8dc1d5-f23e-4b7c-c969-19ce677bd9e6"
      },
      "execution_count": null,
      "outputs": [
        {
          "output_type": "stream",
          "name": "stderr",
          "text": [
            "<ipython-input-47-e723a72414b2>:17: DeprecationWarning: Conversion of an array with ndim > 0 to a scalar is deprecated, and will error in future. Ensure you extract a single element from your array before performing this operation. (Deprecated NumPy 1.25.)\n",
            "  mse[it] += np.square(np.subtract(y_target, y_out))\n"
          ]
        },
        {
          "output_type": "stream",
          "name": "stdout",
          "text": [
            "Iteration 0 -- train_loss: 0.0933 -- test_loss 0.0779\n",
            "Iteration 2 -- train_loss: 0.0740 -- test_loss 0.0695\n",
            "Iteration 4 -- train_loss: 0.0706 -- test_loss 0.0644\n",
            "Iteration 6 -- train_loss: 0.0672 -- test_loss 0.0587\n",
            "Iteration 8 -- train_loss: 0.0632 -- test_loss 0.0519\n",
            "Iteration 10 -- train_loss: 0.0583 -- test_loss 0.0442\n",
            "Iteration 12 -- train_loss: 0.0518 -- test_loss 0.0369\n",
            "Iteration 14 -- train_loss: 0.0454 -- test_loss 0.0318\n",
            "Iteration 16 -- train_loss: 0.0410 -- test_loss 0.0285\n",
            "Iteration 18 -- train_loss: 0.0378 -- test_loss 0.0266\n",
            "Iteration 20 -- train_loss: 0.0338 -- test_loss 0.0252\n",
            "Iteration 22 -- train_loss: 0.0317 -- test_loss 0.0242\n",
            "Iteration 24 -- train_loss: 0.0303 -- test_loss 0.0229\n",
            "Iteration 26 -- train_loss: 0.0282 -- test_loss 0.0222\n",
            "Iteration 28 -- train_loss: 0.0258 -- test_loss 0.0221\n",
            "Iteration 30 -- train_loss: 0.0246 -- test_loss 0.0221\n",
            "Iteration 32 -- train_loss: 0.0238 -- test_loss 0.0220\n",
            "Iteration 34 -- train_loss: 0.0217 -- test_loss 0.0214\n",
            "Iteration 36 -- train_loss: 0.0210 -- test_loss 0.0210\n",
            "Iteration 38 -- train_loss: 0.0200 -- test_loss 0.0207\n",
            "Iteration 40 -- train_loss: 0.0195 -- test_loss 0.0205\n",
            "Iteration 42 -- train_loss: 0.0193 -- test_loss 0.0203\n",
            "Iteration 44 -- train_loss: 0.0192 -- test_loss 0.0201\n",
            "Iteration 46 -- train_loss: 0.0190 -- test_loss 0.0201\n",
            "Iteration 48 -- train_loss: 0.0189 -- test_loss 0.0201\n",
            "Iteration 50 -- train_loss: 0.0189 -- test_loss 0.0201\n",
            "Iteration 52 -- train_loss: 0.0188 -- test_loss 0.0202\n",
            "Iteration 54 -- train_loss: 0.0187 -- test_loss 0.0204\n",
            "Iteration 56 -- train_loss: 0.0186 -- test_loss 0.0205\n",
            "Iteration 58 -- train_loss: 0.0186 -- test_loss 0.0206\n",
            "Iteration 60 -- train_loss: 0.0184 -- test_loss 0.0206\n",
            "Iteration 62 -- train_loss: 0.0176 -- test_loss 0.0207\n",
            "Iteration 64 -- train_loss: 0.0175 -- test_loss 0.0208\n",
            "Iteration 66 -- train_loss: 0.0174 -- test_loss 0.0210\n",
            "Iteration 68 -- train_loss: 0.0173 -- test_loss 0.0212\n",
            "Iteration 70 -- train_loss: 0.0171 -- test_loss 0.0216\n",
            "Iteration 72 -- train_loss: 0.0169 -- test_loss 0.0217\n",
            "Iteration 74 -- train_loss: 0.0168 -- test_loss 0.0217\n",
            "Iteration 76 -- train_loss: 0.0167 -- test_loss 0.0219\n",
            "Iteration 78 -- train_loss: 0.0163 -- test_loss 0.0219\n",
            "Iteration 80 -- train_loss: 0.0160 -- test_loss 0.0222\n",
            "Iteration 82 -- train_loss: 0.0160 -- test_loss 0.0223\n",
            "Iteration 84 -- train_loss: 0.0159 -- test_loss 0.0224\n",
            "Iteration 86 -- train_loss: 0.0159 -- test_loss 0.0227\n",
            "Iteration 88 -- train_loss: 0.0157 -- test_loss 0.0225\n",
            "Iteration 90 -- train_loss: 0.0155 -- test_loss 0.0227\n",
            "Iteration 92 -- train_loss: 0.0154 -- test_loss 0.0229\n",
            "Iteration 94 -- train_loss: 0.0153 -- test_loss 0.0231\n",
            "Iteration 96 -- train_loss: 0.0151 -- test_loss 0.0229\n",
            "Iteration 98 -- train_loss: 0.0146 -- test_loss 0.0231\n",
            "Iteration 100 -- train_loss: 0.0146 -- test_loss 0.0234\n",
            "Iteration 102 -- train_loss: 0.0146 -- test_loss 0.0230\n",
            "Iteration 104 -- train_loss: 0.0146 -- test_loss 0.0232\n",
            "Iteration 106 -- train_loss: 0.0145 -- test_loss 0.0234\n",
            "Iteration 108 -- train_loss: 0.0145 -- test_loss 0.0238\n",
            "Iteration 110 -- train_loss: 0.0145 -- test_loss 0.0235\n",
            "Iteration 112 -- train_loss: 0.0145 -- test_loss 0.0240\n",
            "Iteration 114 -- train_loss: 0.0145 -- test_loss 0.0237\n",
            "Iteration 116 -- train_loss: 0.0144 -- test_loss 0.0242\n",
            "Iteration 118 -- train_loss: 0.0144 -- test_loss 0.0239\n",
            "Iteration 120 -- train_loss: 0.0144 -- test_loss 0.0245\n",
            "Iteration 122 -- train_loss: 0.0144 -- test_loss 0.0242\n",
            "Iteration 124 -- train_loss: 0.0143 -- test_loss 0.0248\n",
            "Iteration 126 -- train_loss: 0.0143 -- test_loss 0.0245\n",
            "Iteration 128 -- train_loss: 0.0143 -- test_loss 0.0250\n",
            "Iteration 130 -- train_loss: 0.0143 -- test_loss 0.0247\n",
            "Iteration 132 -- train_loss: 0.0143 -- test_loss 0.0248\n",
            "Iteration 134 -- train_loss: 0.0143 -- test_loss 0.0251\n",
            "Iteration 136 -- train_loss: 0.0142 -- test_loss 0.0255\n",
            "Iteration 138 -- train_loss: 0.0142 -- test_loss 0.0252\n",
            "Iteration 140 -- train_loss: 0.0142 -- test_loss 0.0256\n",
            "Iteration 142 -- train_loss: 0.0142 -- test_loss 0.0254\n",
            "Iteration 144 -- train_loss: 0.0142 -- test_loss 0.0255\n",
            "Iteration 146 -- train_loss: 0.0142 -- test_loss 0.0258\n",
            "Iteration 148 -- train_loss: 0.0141 -- test_loss 0.0259\n",
            "Iteration 150 -- train_loss: 0.0141 -- test_loss 0.0260\n",
            "Iteration 152 -- train_loss: 0.0141 -- test_loss 0.0261\n",
            "Iteration 154 -- train_loss: 0.0141 -- test_loss 0.0262\n",
            "Iteration 156 -- train_loss: 0.0141 -- test_loss 0.0263\n",
            "Iteration 158 -- train_loss: 0.0141 -- test_loss 0.0264\n",
            "Iteration 160 -- train_loss: 0.0141 -- test_loss 0.0265\n",
            "Iteration 162 -- train_loss: 0.0141 -- test_loss 0.0265\n",
            "Iteration 164 -- train_loss: 0.0140 -- test_loss 0.0266\n",
            "Iteration 166 -- train_loss: 0.0140 -- test_loss 0.0267\n",
            "Iteration 168 -- train_loss: 0.0140 -- test_loss 0.0268\n",
            "Iteration 170 -- train_loss: 0.0140 -- test_loss 0.0269\n",
            "Iteration 172 -- train_loss: 0.0139 -- test_loss 0.0270\n",
            "Iteration 174 -- train_loss: 0.0138 -- test_loss 0.0271\n",
            "Iteration 176 -- train_loss: 0.0135 -- test_loss 0.0271\n",
            "Iteration 178 -- train_loss: 0.0133 -- test_loss 0.0270\n",
            "Iteration 180 -- train_loss: 0.0128 -- test_loss 0.0267\n",
            "Iteration 182 -- train_loss: 0.0128 -- test_loss 0.0267\n",
            "Iteration 184 -- train_loss: 0.0128 -- test_loss 0.0267\n",
            "Iteration 186 -- train_loss: 0.0127 -- test_loss 0.0267\n",
            "Iteration 188 -- train_loss: 0.0127 -- test_loss 0.0267\n",
            "Iteration 190 -- train_loss: 0.0127 -- test_loss 0.0267\n",
            "Iteration 192 -- train_loss: 0.0127 -- test_loss 0.0267\n",
            "Iteration 194 -- train_loss: 0.0127 -- test_loss 0.0268\n",
            "Iteration 196 -- train_loss: 0.0126 -- test_loss 0.0268\n",
            "Iteration 198 -- train_loss: 0.0126 -- test_loss 0.0269\n",
            "Iteration 200 -- train_loss: 0.0126 -- test_loss 0.0269\n",
            "Iteration 202 -- train_loss: 0.0126 -- test_loss 0.0269\n",
            "Iteration 204 -- train_loss: 0.0126 -- test_loss 0.0270\n",
            "Iteration 206 -- train_loss: 0.0126 -- test_loss 0.0270\n",
            "Iteration 208 -- train_loss: 0.0126 -- test_loss 0.0270\n",
            "Iteration 210 -- train_loss: 0.0126 -- test_loss 0.0270\n",
            "Iteration 212 -- train_loss: 0.0125 -- test_loss 0.0271\n",
            "Iteration 214 -- train_loss: 0.0125 -- test_loss 0.0271\n",
            "Iteration 216 -- train_loss: 0.0125 -- test_loss 0.0271\n",
            "Iteration 218 -- train_loss: 0.0125 -- test_loss 0.0271\n",
            "Iteration 220 -- train_loss: 0.0125 -- test_loss 0.0270\n",
            "Iteration 222 -- train_loss: 0.0125 -- test_loss 0.0270\n",
            "Iteration 224 -- train_loss: 0.0122 -- test_loss 0.0268\n",
            "Iteration 226 -- train_loss: 0.0120 -- test_loss 0.0268\n",
            "Iteration 228 -- train_loss: 0.0119 -- test_loss 0.0269\n",
            "Iteration 230 -- train_loss: 0.0119 -- test_loss 0.0270\n",
            "Iteration 232 -- train_loss: 0.0119 -- test_loss 0.0270\n",
            "Iteration 234 -- train_loss: 0.0119 -- test_loss 0.0270\n",
            "Iteration 236 -- train_loss: 0.0119 -- test_loss 0.0270\n",
            "Iteration 238 -- train_loss: 0.0119 -- test_loss 0.0270\n",
            "Iteration 240 -- train_loss: 0.0118 -- test_loss 0.0270\n",
            "Iteration 242 -- train_loss: 0.0118 -- test_loss 0.0270\n",
            "Iteration 244 -- train_loss: 0.0117 -- test_loss 0.0271\n",
            "Iteration 246 -- train_loss: 0.0117 -- test_loss 0.0271\n",
            "Iteration 248 -- train_loss: 0.0117 -- test_loss 0.0271\n",
            "Iteration 250 -- train_loss: 0.0116 -- test_loss 0.0272\n",
            "Iteration 252 -- train_loss: 0.0116 -- test_loss 0.0272\n",
            "Iteration 254 -- train_loss: 0.0116 -- test_loss 0.0273\n",
            "Iteration 256 -- train_loss: 0.0116 -- test_loss 0.0273\n",
            "Iteration 258 -- train_loss: 0.0116 -- test_loss 0.0274\n",
            "Iteration 260 -- train_loss: 0.0116 -- test_loss 0.0274\n",
            "Iteration 262 -- train_loss: 0.0116 -- test_loss 0.0274\n",
            "Iteration 264 -- train_loss: 0.0116 -- test_loss 0.0274\n",
            "Iteration 266 -- train_loss: 0.0116 -- test_loss 0.0275\n",
            "Iteration 268 -- train_loss: 0.0116 -- test_loss 0.0275\n",
            "Iteration 270 -- train_loss: 0.0116 -- test_loss 0.0275\n",
            "Iteration 272 -- train_loss: 0.0116 -- test_loss 0.0275\n",
            "Iteration 274 -- train_loss: 0.0116 -- test_loss 0.0275\n",
            "Iteration 276 -- train_loss: 0.0116 -- test_loss 0.0275\n",
            "Iteration 278 -- train_loss: 0.0116 -- test_loss 0.0275\n",
            "Iteration 280 -- train_loss: 0.0116 -- test_loss 0.0274\n",
            "Iteration 282 -- train_loss: 0.0115 -- test_loss 0.0274\n",
            "Iteration 284 -- train_loss: 0.0115 -- test_loss 0.0273\n",
            "Iteration 286 -- train_loss: 0.0112 -- test_loss 0.0271\n",
            "Iteration 288 -- train_loss: 0.0112 -- test_loss 0.0272\n",
            "Iteration 290 -- train_loss: 0.0112 -- test_loss 0.0272\n",
            "Iteration 292 -- train_loss: 0.0111 -- test_loss 0.0273\n",
            "Iteration 294 -- train_loss: 0.0111 -- test_loss 0.0273\n",
            "Iteration 296 -- train_loss: 0.0111 -- test_loss 0.0274\n",
            "Iteration 298 -- train_loss: 0.0111 -- test_loss 0.0274\n",
            "Iteration 300 -- train_loss: 0.0111 -- test_loss 0.0274\n",
            "Iteration 302 -- train_loss: 0.0111 -- test_loss 0.0274\n",
            "Iteration 304 -- train_loss: 0.0111 -- test_loss 0.0274\n",
            "Iteration 306 -- train_loss: 0.0111 -- test_loss 0.0274\n",
            "Iteration 308 -- train_loss: 0.0111 -- test_loss 0.0274\n",
            "Iteration 310 -- train_loss: 0.0111 -- test_loss 0.0273\n",
            "Iteration 312 -- train_loss: 0.0111 -- test_loss 0.0273\n",
            "Iteration 314 -- train_loss: 0.0111 -- test_loss 0.0273\n",
            "Iteration 316 -- train_loss: 0.0111 -- test_loss 0.0273\n",
            "Iteration 318 -- train_loss: 0.0111 -- test_loss 0.0272\n",
            "Iteration 320 -- train_loss: 0.0111 -- test_loss 0.0272\n",
            "Iteration 322 -- train_loss: 0.0111 -- test_loss 0.0272\n",
            "Iteration 324 -- train_loss: 0.0110 -- test_loss 0.0271\n",
            "Iteration 326 -- train_loss: 0.0110 -- test_loss 0.0270\n",
            "Iteration 328 -- train_loss: 0.0110 -- test_loss 0.0268\n",
            "Iteration 330 -- train_loss: 0.0107 -- test_loss 0.0266\n",
            "Iteration 332 -- train_loss: 0.0106 -- test_loss 0.0266\n",
            "Iteration 334 -- train_loss: 0.0106 -- test_loss 0.0265\n",
            "Iteration 336 -- train_loss: 0.0106 -- test_loss 0.0265\n",
            "Iteration 338 -- train_loss: 0.0106 -- test_loss 0.0265\n",
            "Iteration 340 -- train_loss: 0.0106 -- test_loss 0.0265\n",
            "Iteration 342 -- train_loss: 0.0106 -- test_loss 0.0265\n",
            "Iteration 344 -- train_loss: 0.0106 -- test_loss 0.0265\n",
            "Iteration 346 -- train_loss: 0.0106 -- test_loss 0.0265\n",
            "Iteration 348 -- train_loss: 0.0106 -- test_loss 0.0264\n",
            "Iteration 350 -- train_loss: 0.0105 -- test_loss 0.0264\n",
            "Iteration 352 -- train_loss: 0.0103 -- test_loss 0.0264\n",
            "Iteration 354 -- train_loss: 0.0102 -- test_loss 0.0263\n",
            "Iteration 356 -- train_loss: 0.0102 -- test_loss 0.0262\n",
            "Iteration 358 -- train_loss: 0.0102 -- test_loss 0.0261\n",
            "Iteration 360 -- train_loss: 0.0102 -- test_loss 0.0261\n",
            "Iteration 362 -- train_loss: 0.0102 -- test_loss 0.0260\n",
            "Iteration 364 -- train_loss: 0.0102 -- test_loss 0.0260\n",
            "Iteration 366 -- train_loss: 0.0102 -- test_loss 0.0259\n",
            "Iteration 368 -- train_loss: 0.0102 -- test_loss 0.0259\n",
            "Iteration 370 -- train_loss: 0.0102 -- test_loss 0.0259\n",
            "Iteration 372 -- train_loss: 0.0102 -- test_loss 0.0258\n",
            "Iteration 374 -- train_loss: 0.0102 -- test_loss 0.0258\n",
            "Iteration 376 -- train_loss: 0.0102 -- test_loss 0.0258\n",
            "Iteration 378 -- train_loss: 0.0102 -- test_loss 0.0258\n",
            "Iteration 380 -- train_loss: 0.0102 -- test_loss 0.0257\n",
            "Iteration 382 -- train_loss: 0.0102 -- test_loss 0.0257\n",
            "Iteration 384 -- train_loss: 0.0102 -- test_loss 0.0257\n",
            "Iteration 386 -- train_loss: 0.0102 -- test_loss 0.0257\n",
            "Iteration 388 -- train_loss: 0.0102 -- test_loss 0.0257\n",
            "Iteration 390 -- train_loss: 0.0102 -- test_loss 0.0256\n",
            "Iteration 392 -- train_loss: 0.0102 -- test_loss 0.0256\n",
            "Iteration 394 -- train_loss: 0.0102 -- test_loss 0.0256\n",
            "Iteration 396 -- train_loss: 0.0102 -- test_loss 0.0256\n",
            "Iteration 398 -- train_loss: 0.0102 -- test_loss 0.0256\n",
            "Iteration 400 -- train_loss: 0.0101 -- test_loss 0.0255\n",
            "Iteration 402 -- train_loss: 0.0102 -- test_loss 0.0255\n",
            "Iteration 404 -- train_loss: 0.0101 -- test_loss 0.0255\n",
            "Iteration 406 -- train_loss: 0.0102 -- test_loss 0.0255\n",
            "Iteration 408 -- train_loss: 0.0101 -- test_loss 0.0255\n",
            "Iteration 410 -- train_loss: 0.0101 -- test_loss 0.0255\n",
            "Iteration 412 -- train_loss: 0.0101 -- test_loss 0.0255\n",
            "Iteration 414 -- train_loss: 0.0101 -- test_loss 0.0255\n",
            "Iteration 416 -- train_loss: 0.0101 -- test_loss 0.0254\n",
            "Iteration 418 -- train_loss: 0.0101 -- test_loss 0.0254\n",
            "Iteration 420 -- train_loss: 0.0101 -- test_loss 0.0254\n",
            "Iteration 422 -- train_loss: 0.0101 -- test_loss 0.0254\n",
            "Iteration 424 -- train_loss: 0.0101 -- test_loss 0.0254\n",
            "Iteration 426 -- train_loss: 0.0101 -- test_loss 0.0254\n",
            "Iteration 428 -- train_loss: 0.0101 -- test_loss 0.0253\n",
            "Iteration 430 -- train_loss: 0.0101 -- test_loss 0.0253\n",
            "Iteration 432 -- train_loss: 0.0101 -- test_loss 0.0253\n",
            "Iteration 434 -- train_loss: 0.0101 -- test_loss 0.0253\n",
            "Iteration 436 -- train_loss: 0.0101 -- test_loss 0.0253\n",
            "Iteration 438 -- train_loss: 0.0101 -- test_loss 0.0253\n",
            "Iteration 440 -- train_loss: 0.0101 -- test_loss 0.0252\n",
            "Iteration 442 -- train_loss: 0.0101 -- test_loss 0.0252\n",
            "Iteration 444 -- train_loss: 0.0101 -- test_loss 0.0252\n",
            "Iteration 446 -- train_loss: 0.0101 -- test_loss 0.0251\n",
            "Iteration 448 -- train_loss: 0.0101 -- test_loss 0.0251\n",
            "Iteration 450 -- train_loss: 0.0101 -- test_loss 0.0251\n",
            "Iteration 452 -- train_loss: 0.0101 -- test_loss 0.0250\n",
            "Iteration 454 -- train_loss: 0.0101 -- test_loss 0.0250\n",
            "Iteration 456 -- train_loss: 0.0101 -- test_loss 0.0249\n",
            "Iteration 458 -- train_loss: 0.0101 -- test_loss 0.0248\n",
            "Iteration 460 -- train_loss: 0.0101 -- test_loss 0.0247\n",
            "Iteration 462 -- train_loss: 0.0100 -- test_loss 0.0247\n",
            "Iteration 464 -- train_loss: 0.0100 -- test_loss 0.0247\n",
            "Iteration 466 -- train_loss: 0.0100 -- test_loss 0.0247\n",
            "Iteration 468 -- train_loss: 0.0100 -- test_loss 0.0247\n",
            "Iteration 470 -- train_loss: 0.0100 -- test_loss 0.0247\n",
            "Iteration 472 -- train_loss: 0.0100 -- test_loss 0.0247\n",
            "Iteration 474 -- train_loss: 0.0100 -- test_loss 0.0247\n",
            "Iteration 476 -- train_loss: 0.0100 -- test_loss 0.0247\n",
            "Iteration 478 -- train_loss: 0.0100 -- test_loss 0.0247\n",
            "Iteration 480 -- train_loss: 0.0100 -- test_loss 0.0247\n",
            "Iteration 482 -- train_loss: 0.0100 -- test_loss 0.0247\n",
            "Iteration 484 -- train_loss: 0.0100 -- test_loss 0.0247\n",
            "Iteration 486 -- train_loss: 0.0100 -- test_loss 0.0247\n",
            "Iteration 488 -- train_loss: 0.0100 -- test_loss 0.0247\n",
            "Iteration 490 -- train_loss: 0.0100 -- test_loss 0.0247\n",
            "Iteration 492 -- train_loss: 0.0100 -- test_loss 0.0247\n",
            "Iteration 494 -- train_loss: 0.0100 -- test_loss 0.0247\n",
            "Iteration 496 -- train_loss: 0.0100 -- test_loss 0.0247\n",
            "Iteration 498 -- train_loss: 0.0100 -- test_loss 0.0247\n",
            "Iteration 500 -- train_loss: 0.0100 -- test_loss 0.0247\n",
            "Iteration 502 -- train_loss: 0.0100 -- test_loss 0.0247\n",
            "Iteration 504 -- train_loss: 0.0100 -- test_loss 0.0246\n",
            "Iteration 506 -- train_loss: 0.0100 -- test_loss 0.0246\n",
            "Iteration 508 -- train_loss: 0.0100 -- test_loss 0.0246\n",
            "Iteration 510 -- train_loss: 0.0100 -- test_loss 0.0246\n",
            "Iteration 512 -- train_loss: 0.0100 -- test_loss 0.0246\n",
            "Iteration 514 -- train_loss: 0.0100 -- test_loss 0.0245\n",
            "Iteration 516 -- train_loss: 0.0100 -- test_loss 0.0245\n",
            "Iteration 518 -- train_loss: 0.0100 -- test_loss 0.0245\n",
            "Iteration 520 -- train_loss: 0.0100 -- test_loss 0.0245\n",
            "Iteration 522 -- train_loss: 0.0100 -- test_loss 0.0245\n",
            "Iteration 524 -- train_loss: 0.0100 -- test_loss 0.0245\n",
            "Iteration 526 -- train_loss: 0.0100 -- test_loss 0.0245\n",
            "Iteration 528 -- train_loss: 0.0100 -- test_loss 0.0245\n",
            "Iteration 530 -- train_loss: 0.0100 -- test_loss 0.0245\n",
            "Iteration 532 -- train_loss: 0.0100 -- test_loss 0.0245\n",
            "Iteration 534 -- train_loss: 0.0100 -- test_loss 0.0245\n",
            "Iteration 536 -- train_loss: 0.0100 -- test_loss 0.0245\n",
            "Iteration 538 -- train_loss: 0.0100 -- test_loss 0.0245\n",
            "Iteration 540 -- train_loss: 0.0100 -- test_loss 0.0246\n",
            "Iteration 542 -- train_loss: 0.0100 -- test_loss 0.0246\n",
            "Iteration 544 -- train_loss: 0.0100 -- test_loss 0.0246\n",
            "Iteration 546 -- train_loss: 0.0100 -- test_loss 0.0246\n",
            "Iteration 548 -- train_loss: 0.0100 -- test_loss 0.0246\n",
            "Iteration 550 -- train_loss: 0.0100 -- test_loss 0.0246\n",
            "Iteration 552 -- train_loss: 0.0100 -- test_loss 0.0246\n",
            "Iteration 554 -- train_loss: 0.0100 -- test_loss 0.0246\n",
            "Iteration 556 -- train_loss: 0.0100 -- test_loss 0.0246\n",
            "Iteration 558 -- train_loss: 0.0100 -- test_loss 0.0246\n",
            "Iteration 560 -- train_loss: 0.0100 -- test_loss 0.0247\n",
            "Iteration 562 -- train_loss: 0.0099 -- test_loss 0.0247\n",
            "Iteration 564 -- train_loss: 0.0096 -- test_loss 0.0246\n",
            "Iteration 566 -- train_loss: 0.0096 -- test_loss 0.0245\n",
            "Iteration 568 -- train_loss: 0.0096 -- test_loss 0.0245\n",
            "Iteration 570 -- train_loss: 0.0096 -- test_loss 0.0244\n",
            "Iteration 572 -- train_loss: 0.0095 -- test_loss 0.0244\n",
            "Iteration 574 -- train_loss: 0.0095 -- test_loss 0.0243\n",
            "Iteration 576 -- train_loss: 0.0095 -- test_loss 0.0243\n",
            "Iteration 578 -- train_loss: 0.0095 -- test_loss 0.0242\n",
            "Iteration 580 -- train_loss: 0.0095 -- test_loss 0.0242\n",
            "Iteration 582 -- train_loss: 0.0095 -- test_loss 0.0242\n",
            "Iteration 584 -- train_loss: 0.0095 -- test_loss 0.0242\n",
            "Iteration 586 -- train_loss: 0.0095 -- test_loss 0.0242\n",
            "Iteration 588 -- train_loss: 0.0095 -- test_loss 0.0241\n",
            "Iteration 590 -- train_loss: 0.0095 -- test_loss 0.0241\n",
            "Iteration 592 -- train_loss: 0.0095 -- test_loss 0.0241\n",
            "Iteration 594 -- train_loss: 0.0095 -- test_loss 0.0241\n",
            "Iteration 596 -- train_loss: 0.0095 -- test_loss 0.0241\n",
            "Iteration 598 -- train_loss: 0.0095 -- test_loss 0.0241\n",
            "Iteration 600 -- train_loss: 0.0095 -- test_loss 0.0241\n",
            "Iteration 602 -- train_loss: 0.0095 -- test_loss 0.0241\n",
            "Iteration 604 -- train_loss: 0.0095 -- test_loss 0.0241\n",
            "Iteration 606 -- train_loss: 0.0095 -- test_loss 0.0241\n",
            "Iteration 608 -- train_loss: 0.0095 -- test_loss 0.0241\n",
            "Iteration 610 -- train_loss: 0.0095 -- test_loss 0.0241\n",
            "Iteration 612 -- train_loss: 0.0095 -- test_loss 0.0241\n",
            "Iteration 614 -- train_loss: 0.0095 -- test_loss 0.0241\n",
            "Iteration 616 -- train_loss: 0.0095 -- test_loss 0.0241\n",
            "Iteration 618 -- train_loss: 0.0095 -- test_loss 0.0241\n",
            "Iteration 620 -- train_loss: 0.0095 -- test_loss 0.0241\n",
            "Iteration 622 -- train_loss: 0.0095 -- test_loss 0.0241\n",
            "Iteration 624 -- train_loss: 0.0095 -- test_loss 0.0241\n",
            "Iteration 626 -- train_loss: 0.0095 -- test_loss 0.0241\n",
            "Iteration 628 -- train_loss: 0.0095 -- test_loss 0.0241\n",
            "Iteration 630 -- train_loss: 0.0095 -- test_loss 0.0241\n",
            "Iteration 632 -- train_loss: 0.0095 -- test_loss 0.0241\n",
            "Iteration 634 -- train_loss: 0.0095 -- test_loss 0.0241\n",
            "Iteration 636 -- train_loss: 0.0095 -- test_loss 0.0241\n",
            "Iteration 638 -- train_loss: 0.0095 -- test_loss 0.0241\n",
            "Iteration 640 -- train_loss: 0.0095 -- test_loss 0.0241\n",
            "Iteration 642 -- train_loss: 0.0095 -- test_loss 0.0241\n",
            "Iteration 644 -- train_loss: 0.0095 -- test_loss 0.0241\n",
            "Iteration 646 -- train_loss: 0.0095 -- test_loss 0.0240\n",
            "Iteration 648 -- train_loss: 0.0095 -- test_loss 0.0240\n",
            "Iteration 650 -- train_loss: 0.0095 -- test_loss 0.0240\n",
            "Iteration 652 -- train_loss: 0.0095 -- test_loss 0.0240\n",
            "Iteration 654 -- train_loss: 0.0095 -- test_loss 0.0240\n",
            "Iteration 656 -- train_loss: 0.0095 -- test_loss 0.0240\n",
            "Iteration 658 -- train_loss: 0.0095 -- test_loss 0.0240\n",
            "Iteration 660 -- train_loss: 0.0095 -- test_loss 0.0240\n",
            "Iteration 662 -- train_loss: 0.0095 -- test_loss 0.0240\n",
            "Iteration 664 -- train_loss: 0.0095 -- test_loss 0.0240\n",
            "Iteration 666 -- train_loss: 0.0095 -- test_loss 0.0240\n",
            "Iteration 668 -- train_loss: 0.0095 -- test_loss 0.0240\n",
            "Iteration 670 -- train_loss: 0.0095 -- test_loss 0.0240\n",
            "Iteration 672 -- train_loss: 0.0095 -- test_loss 0.0240\n",
            "Iteration 674 -- train_loss: 0.0095 -- test_loss 0.0240\n",
            "Iteration 676 -- train_loss: 0.0095 -- test_loss 0.0240\n",
            "Iteration 678 -- train_loss: 0.0095 -- test_loss 0.0240\n",
            "Iteration 680 -- train_loss: 0.0095 -- test_loss 0.0240\n",
            "Iteration 682 -- train_loss: 0.0095 -- test_loss 0.0240\n",
            "Iteration 684 -- train_loss: 0.0095 -- test_loss 0.0240\n",
            "Iteration 686 -- train_loss: 0.0095 -- test_loss 0.0240\n",
            "Iteration 688 -- train_loss: 0.0095 -- test_loss 0.0240\n",
            "Iteration 690 -- train_loss: 0.0095 -- test_loss 0.0240\n",
            "Iteration 692 -- train_loss: 0.0095 -- test_loss 0.0240\n",
            "Iteration 694 -- train_loss: 0.0095 -- test_loss 0.0240\n",
            "Iteration 696 -- train_loss: 0.0095 -- test_loss 0.0240\n",
            "Iteration 698 -- train_loss: 0.0095 -- test_loss 0.0240\n",
            "Iteration 700 -- train_loss: 0.0095 -- test_loss 0.0240\n",
            "Iteration 702 -- train_loss: 0.0095 -- test_loss 0.0240\n",
            "Iteration 704 -- train_loss: 0.0095 -- test_loss 0.0240\n",
            "Iteration 706 -- train_loss: 0.0095 -- test_loss 0.0240\n",
            "Iteration 708 -- train_loss: 0.0095 -- test_loss 0.0240\n",
            "Iteration 710 -- train_loss: 0.0095 -- test_loss 0.0240\n",
            "Iteration 712 -- train_loss: 0.0095 -- test_loss 0.0240\n",
            "Iteration 714 -- train_loss: 0.0095 -- test_loss 0.0240\n",
            "Iteration 716 -- train_loss: 0.0095 -- test_loss 0.0240\n",
            "Iteration 718 -- train_loss: 0.0095 -- test_loss 0.0240\n",
            "Iteration 720 -- train_loss: 0.0095 -- test_loss 0.0240\n",
            "Iteration 722 -- train_loss: 0.0095 -- test_loss 0.0240\n",
            "Iteration 724 -- train_loss: 0.0095 -- test_loss 0.0240\n",
            "Iteration 726 -- train_loss: 0.0095 -- test_loss 0.0240\n",
            "Iteration 728 -- train_loss: 0.0095 -- test_loss 0.0240\n",
            "Iteration 730 -- train_loss: 0.0095 -- test_loss 0.0240\n",
            "Iteration 732 -- train_loss: 0.0095 -- test_loss 0.0240\n",
            "Iteration 734 -- train_loss: 0.0095 -- test_loss 0.0240\n",
            "Iteration 736 -- train_loss: 0.0095 -- test_loss 0.0240\n",
            "Iteration 738 -- train_loss: 0.0095 -- test_loss 0.0240\n",
            "Iteration 740 -- train_loss: 0.0095 -- test_loss 0.0240\n",
            "Iteration 742 -- train_loss: 0.0095 -- test_loss 0.0240\n",
            "Iteration 744 -- train_loss: 0.0095 -- test_loss 0.0240\n",
            "Iteration 746 -- train_loss: 0.0095 -- test_loss 0.0240\n",
            "Iteration 748 -- train_loss: 0.0095 -- test_loss 0.0240\n",
            "Iteration 750 -- train_loss: 0.0095 -- test_loss 0.0240\n",
            "Iteration 752 -- train_loss: 0.0095 -- test_loss 0.0240\n",
            "Iteration 754 -- train_loss: 0.0095 -- test_loss 0.0240\n",
            "Iteration 756 -- train_loss: 0.0095 -- test_loss 0.0240\n",
            "Iteration 758 -- train_loss: 0.0095 -- test_loss 0.0240\n",
            "Iteration 760 -- train_loss: 0.0095 -- test_loss 0.0240\n",
            "Iteration 762 -- train_loss: 0.0095 -- test_loss 0.0240\n",
            "Iteration 764 -- train_loss: 0.0095 -- test_loss 0.0240\n",
            "Iteration 766 -- train_loss: 0.0095 -- test_loss 0.0240\n",
            "Iteration 768 -- train_loss: 0.0095 -- test_loss 0.0240\n",
            "Iteration 770 -- train_loss: 0.0095 -- test_loss 0.0240\n",
            "Iteration 772 -- train_loss: 0.0095 -- test_loss 0.0240\n",
            "Iteration 774 -- train_loss: 0.0095 -- test_loss 0.0240\n",
            "Iteration 776 -- train_loss: 0.0095 -- test_loss 0.0240\n",
            "Iteration 778 -- train_loss: 0.0095 -- test_loss 0.0240\n",
            "Iteration 780 -- train_loss: 0.0095 -- test_loss 0.0240\n",
            "Iteration 782 -- train_loss: 0.0095 -- test_loss 0.0240\n",
            "Iteration 784 -- train_loss: 0.0095 -- test_loss 0.0240\n",
            "Iteration 786 -- train_loss: 0.0095 -- test_loss 0.0240\n",
            "Iteration 788 -- train_loss: 0.0095 -- test_loss 0.0240\n",
            "Iteration 790 -- train_loss: 0.0095 -- test_loss 0.0241\n",
            "Iteration 792 -- train_loss: 0.0095 -- test_loss 0.0241\n",
            "Iteration 794 -- train_loss: 0.0095 -- test_loss 0.0241\n",
            "Iteration 796 -- train_loss: 0.0095 -- test_loss 0.0241\n",
            "Iteration 798 -- train_loss: 0.0095 -- test_loss 0.0241\n",
            "Iteration 800 -- train_loss: 0.0095 -- test_loss 0.0241\n",
            "Iteration 802 -- train_loss: 0.0095 -- test_loss 0.0241\n",
            "Iteration 804 -- train_loss: 0.0095 -- test_loss 0.0241\n",
            "Iteration 806 -- train_loss: 0.0095 -- test_loss 0.0241\n",
            "Iteration 808 -- train_loss: 0.0095 -- test_loss 0.0241\n",
            "Iteration 810 -- train_loss: 0.0095 -- test_loss 0.0241\n",
            "Iteration 812 -- train_loss: 0.0095 -- test_loss 0.0241\n",
            "Iteration 814 -- train_loss: 0.0095 -- test_loss 0.0241\n",
            "Iteration 816 -- train_loss: 0.0095 -- test_loss 0.0241\n",
            "Iteration 818 -- train_loss: 0.0095 -- test_loss 0.0241\n",
            "Iteration 820 -- train_loss: 0.0095 -- test_loss 0.0241\n",
            "Iteration 822 -- train_loss: 0.0095 -- test_loss 0.0241\n",
            "Iteration 824 -- train_loss: 0.0095 -- test_loss 0.0241\n",
            "Iteration 826 -- train_loss: 0.0095 -- test_loss 0.0241\n",
            "Iteration 828 -- train_loss: 0.0095 -- test_loss 0.0241\n",
            "Iteration 830 -- train_loss: 0.0095 -- test_loss 0.0241\n",
            "Iteration 832 -- train_loss: 0.0095 -- test_loss 0.0241\n",
            "Iteration 834 -- train_loss: 0.0095 -- test_loss 0.0241\n",
            "Iteration 836 -- train_loss: 0.0095 -- test_loss 0.0241\n",
            "Iteration 838 -- train_loss: 0.0095 -- test_loss 0.0241\n",
            "Iteration 840 -- train_loss: 0.0095 -- test_loss 0.0241\n",
            "Iteration 842 -- train_loss: 0.0095 -- test_loss 0.0241\n",
            "Iteration 844 -- train_loss: 0.0095 -- test_loss 0.0241\n",
            "Iteration 846 -- train_loss: 0.0095 -- test_loss 0.0241\n",
            "Iteration 848 -- train_loss: 0.0095 -- test_loss 0.0241\n",
            "Iteration 850 -- train_loss: 0.0095 -- test_loss 0.0241\n",
            "Iteration 852 -- train_loss: 0.0094 -- test_loss 0.0242\n",
            "Iteration 854 -- train_loss: 0.0093 -- test_loss 0.0242\n",
            "Iteration 856 -- train_loss: 0.0092 -- test_loss 0.0243\n",
            "Iteration 858 -- train_loss: 0.0092 -- test_loss 0.0243\n",
            "Iteration 860 -- train_loss: 0.0092 -- test_loss 0.0244\n",
            "Iteration 862 -- train_loss: 0.0092 -- test_loss 0.0244\n",
            "Iteration 864 -- train_loss: 0.0092 -- test_loss 0.0245\n",
            "Iteration 866 -- train_loss: 0.0092 -- test_loss 0.0245\n",
            "Iteration 868 -- train_loss: 0.0092 -- test_loss 0.0245\n",
            "Iteration 870 -- train_loss: 0.0092 -- test_loss 0.0246\n",
            "Iteration 872 -- train_loss: 0.0092 -- test_loss 0.0246\n",
            "Iteration 874 -- train_loss: 0.0092 -- test_loss 0.0246\n",
            "Iteration 876 -- train_loss: 0.0092 -- test_loss 0.0246\n",
            "Iteration 878 -- train_loss: 0.0092 -- test_loss 0.0246\n",
            "Iteration 880 -- train_loss: 0.0092 -- test_loss 0.0247\n",
            "Iteration 882 -- train_loss: 0.0092 -- test_loss 0.0247\n",
            "Iteration 884 -- train_loss: 0.0092 -- test_loss 0.0247\n",
            "Iteration 886 -- train_loss: 0.0092 -- test_loss 0.0247\n",
            "Iteration 888 -- train_loss: 0.0092 -- test_loss 0.0247\n",
            "Iteration 890 -- train_loss: 0.0092 -- test_loss 0.0247\n",
            "Iteration 892 -- train_loss: 0.0092 -- test_loss 0.0247\n",
            "Iteration 894 -- train_loss: 0.0092 -- test_loss 0.0248\n",
            "Iteration 896 -- train_loss: 0.0092 -- test_loss 0.0248\n",
            "Iteration 898 -- train_loss: 0.0092 -- test_loss 0.0248\n",
            "Iteration 900 -- train_loss: 0.0092 -- test_loss 0.0248\n",
            "Iteration 902 -- train_loss: 0.0092 -- test_loss 0.0248\n",
            "Iteration 904 -- train_loss: 0.0092 -- test_loss 0.0248\n",
            "Iteration 906 -- train_loss: 0.0092 -- test_loss 0.0248\n",
            "Iteration 908 -- train_loss: 0.0092 -- test_loss 0.0248\n",
            "Iteration 910 -- train_loss: 0.0092 -- test_loss 0.0248\n",
            "Iteration 912 -- train_loss: 0.0092 -- test_loss 0.0248\n",
            "Iteration 914 -- train_loss: 0.0092 -- test_loss 0.0248\n",
            "Iteration 916 -- train_loss: 0.0092 -- test_loss 0.0248\n",
            "Iteration 918 -- train_loss: 0.0092 -- test_loss 0.0249\n",
            "Iteration 920 -- train_loss: 0.0092 -- test_loss 0.0249\n",
            "Iteration 922 -- train_loss: 0.0092 -- test_loss 0.0249\n",
            "Iteration 924 -- train_loss: 0.0092 -- test_loss 0.0249\n",
            "Iteration 926 -- train_loss: 0.0092 -- test_loss 0.0249\n",
            "Iteration 928 -- train_loss: 0.0092 -- test_loss 0.0249\n",
            "Iteration 930 -- train_loss: 0.0092 -- test_loss 0.0249\n",
            "Iteration 932 -- train_loss: 0.0092 -- test_loss 0.0249\n",
            "Iteration 934 -- train_loss: 0.0092 -- test_loss 0.0249\n",
            "Iteration 936 -- train_loss: 0.0092 -- test_loss 0.0249\n",
            "Iteration 938 -- train_loss: 0.0092 -- test_loss 0.0250\n",
            "Iteration 940 -- train_loss: 0.0092 -- test_loss 0.0250\n",
            "Iteration 942 -- train_loss: 0.0092 -- test_loss 0.0250\n",
            "Iteration 944 -- train_loss: 0.0091 -- test_loss 0.0251\n",
            "Iteration 946 -- train_loss: 0.0091 -- test_loss 0.0250\n",
            "Iteration 948 -- train_loss: 0.0091 -- test_loss 0.0250\n",
            "Iteration 950 -- train_loss: 0.0091 -- test_loss 0.0250\n",
            "Iteration 952 -- train_loss: 0.0091 -- test_loss 0.0249\n",
            "Iteration 954 -- train_loss: 0.0091 -- test_loss 0.0249\n",
            "Iteration 956 -- train_loss: 0.0091 -- test_loss 0.0249\n",
            "Iteration 958 -- train_loss: 0.0091 -- test_loss 0.0249\n",
            "Iteration 960 -- train_loss: 0.0091 -- test_loss 0.0249\n",
            "Iteration 962 -- train_loss: 0.0091 -- test_loss 0.0249\n",
            "Iteration 964 -- train_loss: 0.0091 -- test_loss 0.0248\n",
            "Iteration 966 -- train_loss: 0.0091 -- test_loss 0.0248\n",
            "Iteration 968 -- train_loss: 0.0091 -- test_loss 0.0248\n",
            "Iteration 970 -- train_loss: 0.0091 -- test_loss 0.0248\n",
            "Iteration 972 -- train_loss: 0.0091 -- test_loss 0.0248\n",
            "Iteration 974 -- train_loss: 0.0091 -- test_loss 0.0248\n",
            "Iteration 976 -- train_loss: 0.0091 -- test_loss 0.0248\n",
            "Iteration 978 -- train_loss: 0.0091 -- test_loss 0.0248\n",
            "Iteration 980 -- train_loss: 0.0091 -- test_loss 0.0248\n",
            "Iteration 982 -- train_loss: 0.0091 -- test_loss 0.0248\n",
            "Iteration 984 -- train_loss: 0.0091 -- test_loss 0.0248\n",
            "Iteration 986 -- train_loss: 0.0091 -- test_loss 0.0248\n",
            "Iteration 988 -- train_loss: 0.0091 -- test_loss 0.0248\n",
            "Iteration 990 -- train_loss: 0.0091 -- test_loss 0.0248\n",
            "Iteration 992 -- train_loss: 0.0091 -- test_loss 0.0248\n",
            "Iteration 994 -- train_loss: 0.0091 -- test_loss 0.0248\n",
            "Iteration 996 -- train_loss: 0.0091 -- test_loss 0.0248\n",
            "Iteration 998 -- train_loss: 0.0091 -- test_loss 0.0248\n",
            "Iteration 1000 -- train_loss: 0.0091 -- test_loss 0.0248\n",
            "Iteration 1002 -- train_loss: 0.0091 -- test_loss 0.0249\n",
            "Iteration 1004 -- train_loss: 0.0091 -- test_loss 0.0249\n",
            "Iteration 1006 -- train_loss: 0.0091 -- test_loss 0.0249\n",
            "Iteration 1008 -- train_loss: 0.0091 -- test_loss 0.0249\n",
            "Iteration 1010 -- train_loss: 0.0091 -- test_loss 0.0249\n",
            "Iteration 1012 -- train_loss: 0.0091 -- test_loss 0.0249\n",
            "Iteration 1014 -- train_loss: 0.0091 -- test_loss 0.0249\n",
            "Iteration 1016 -- train_loss: 0.0091 -- test_loss 0.0249\n",
            "Iteration 1018 -- train_loss: 0.0091 -- test_loss 0.0249\n",
            "Iteration 1020 -- train_loss: 0.0091 -- test_loss 0.0249\n",
            "Iteration 1022 -- train_loss: 0.0091 -- test_loss 0.0249\n",
            "Iteration 1024 -- train_loss: 0.0091 -- test_loss 0.0249\n",
            "Iteration 1026 -- train_loss: 0.0091 -- test_loss 0.0249\n",
            "Iteration 1028 -- train_loss: 0.0091 -- test_loss 0.0249\n",
            "Iteration 1030 -- train_loss: 0.0091 -- test_loss 0.0249\n",
            "Iteration 1032 -- train_loss: 0.0091 -- test_loss 0.0249\n",
            "Iteration 1034 -- train_loss: 0.0091 -- test_loss 0.0249\n",
            "Iteration 1036 -- train_loss: 0.0091 -- test_loss 0.0249\n",
            "Iteration 1038 -- train_loss: 0.0091 -- test_loss 0.0249\n",
            "Iteration 1040 -- train_loss: 0.0091 -- test_loss 0.0249\n",
            "Iteration 1042 -- train_loss: 0.0091 -- test_loss 0.0249\n",
            "Iteration 1044 -- train_loss: 0.0091 -- test_loss 0.0249\n",
            "Iteration 1046 -- train_loss: 0.0091 -- test_loss 0.0249\n",
            "Iteration 1048 -- train_loss: 0.0091 -- test_loss 0.0249\n",
            "Iteration 1050 -- train_loss: 0.0091 -- test_loss 0.0249\n",
            "Iteration 1052 -- train_loss: 0.0091 -- test_loss 0.0249\n",
            "Iteration 1054 -- train_loss: 0.0091 -- test_loss 0.0249\n",
            "Iteration 1056 -- train_loss: 0.0091 -- test_loss 0.0249\n",
            "Iteration 1058 -- train_loss: 0.0091 -- test_loss 0.0249\n",
            "Iteration 1060 -- train_loss: 0.0091 -- test_loss 0.0249\n",
            "Iteration 1062 -- train_loss: 0.0091 -- test_loss 0.0249\n",
            "Iteration 1064 -- train_loss: 0.0091 -- test_loss 0.0249\n",
            "Iteration 1066 -- train_loss: 0.0091 -- test_loss 0.0249\n",
            "Iteration 1068 -- train_loss: 0.0091 -- test_loss 0.0249\n",
            "Iteration 1070 -- train_loss: 0.0091 -- test_loss 0.0249\n",
            "Iteration 1072 -- train_loss: 0.0091 -- test_loss 0.0249\n",
            "Iteration 1074 -- train_loss: 0.0091 -- test_loss 0.0249\n",
            "Iteration 1076 -- train_loss: 0.0091 -- test_loss 0.0249\n",
            "Iteration 1078 -- train_loss: 0.0091 -- test_loss 0.0250\n",
            "Iteration 1080 -- train_loss: 0.0091 -- test_loss 0.0250\n",
            "Iteration 1082 -- train_loss: 0.0091 -- test_loss 0.0250\n",
            "Iteration 1084 -- train_loss: 0.0091 -- test_loss 0.0250\n",
            "Iteration 1086 -- train_loss: 0.0091 -- test_loss 0.0250\n",
            "Iteration 1088 -- train_loss: 0.0091 -- test_loss 0.0250\n",
            "Iteration 1090 -- train_loss: 0.0091 -- test_loss 0.0250\n",
            "Iteration 1092 -- train_loss: 0.0091 -- test_loss 0.0250\n",
            "Iteration 1094 -- train_loss: 0.0091 -- test_loss 0.0250\n",
            "Iteration 1096 -- train_loss: 0.0091 -- test_loss 0.0250\n",
            "Iteration 1098 -- train_loss: 0.0091 -- test_loss 0.0250\n",
            "Iteration 1100 -- train_loss: 0.0091 -- test_loss 0.0250\n",
            "Iteration 1102 -- train_loss: 0.0091 -- test_loss 0.0250\n",
            "Iteration 1104 -- train_loss: 0.0091 -- test_loss 0.0250\n",
            "Iteration 1106 -- train_loss: 0.0091 -- test_loss 0.0250\n",
            "Iteration 1108 -- train_loss: 0.0091 -- test_loss 0.0250\n",
            "Iteration 1110 -- train_loss: 0.0091 -- test_loss 0.0250\n",
            "Iteration 1112 -- train_loss: 0.0091 -- test_loss 0.0250\n",
            "Iteration 1114 -- train_loss: 0.0091 -- test_loss 0.0250\n",
            "Iteration 1116 -- train_loss: 0.0091 -- test_loss 0.0250\n",
            "Iteration 1118 -- train_loss: 0.0091 -- test_loss 0.0250\n",
            "Iteration 1120 -- train_loss: 0.0091 -- test_loss 0.0250\n",
            "Iteration 1122 -- train_loss: 0.0091 -- test_loss 0.0250\n",
            "Iteration 1124 -- train_loss: 0.0091 -- test_loss 0.0250\n",
            "Iteration 1126 -- train_loss: 0.0091 -- test_loss 0.0250\n",
            "Iteration 1128 -- train_loss: 0.0091 -- test_loss 0.0250\n",
            "Iteration 1130 -- train_loss: 0.0091 -- test_loss 0.0250\n",
            "Iteration 1132 -- train_loss: 0.0091 -- test_loss 0.0250\n",
            "Iteration 1134 -- train_loss: 0.0091 -- test_loss 0.0250\n",
            "Iteration 1136 -- train_loss: 0.0091 -- test_loss 0.0250\n",
            "Iteration 1138 -- train_loss: 0.0091 -- test_loss 0.0250\n",
            "Iteration 1140 -- train_loss: 0.0091 -- test_loss 0.0250\n",
            "Iteration 1142 -- train_loss: 0.0091 -- test_loss 0.0250\n",
            "Iteration 1144 -- train_loss: 0.0090 -- test_loss 0.0250\n",
            "Iteration 1146 -- train_loss: 0.0090 -- test_loss 0.0251\n",
            "Iteration 1148 -- train_loss: 0.0090 -- test_loss 0.0251\n",
            "Iteration 1150 -- train_loss: 0.0090 -- test_loss 0.0251\n",
            "Iteration 1152 -- train_loss: 0.0090 -- test_loss 0.0251\n",
            "Iteration 1154 -- train_loss: 0.0090 -- test_loss 0.0251\n",
            "Iteration 1156 -- train_loss: 0.0090 -- test_loss 0.0251\n",
            "Iteration 1158 -- train_loss: 0.0090 -- test_loss 0.0251\n",
            "Iteration 1160 -- train_loss: 0.0090 -- test_loss 0.0251\n",
            "Iteration 1162 -- train_loss: 0.0090 -- test_loss 0.0251\n",
            "Iteration 1164 -- train_loss: 0.0090 -- test_loss 0.0251\n",
            "Iteration 1166 -- train_loss: 0.0090 -- test_loss 0.0251\n",
            "Iteration 1168 -- train_loss: 0.0090 -- test_loss 0.0251\n",
            "Iteration 1170 -- train_loss: 0.0090 -- test_loss 0.0251\n",
            "Iteration 1172 -- train_loss: 0.0090 -- test_loss 0.0251\n",
            "Iteration 1174 -- train_loss: 0.0090 -- test_loss 0.0251\n",
            "Iteration 1176 -- train_loss: 0.0090 -- test_loss 0.0251\n",
            "Iteration 1178 -- train_loss: 0.0090 -- test_loss 0.0251\n",
            "Iteration 1180 -- train_loss: 0.0090 -- test_loss 0.0251\n",
            "Iteration 1182 -- train_loss: 0.0090 -- test_loss 0.0251\n",
            "Iteration 1184 -- train_loss: 0.0090 -- test_loss 0.0251\n",
            "Iteration 1186 -- train_loss: 0.0090 -- test_loss 0.0251\n",
            "Iteration 1188 -- train_loss: 0.0090 -- test_loss 0.0251\n",
            "Iteration 1190 -- train_loss: 0.0090 -- test_loss 0.0251\n",
            "Iteration 1192 -- train_loss: 0.0090 -- test_loss 0.0251\n",
            "Iteration 1194 -- train_loss: 0.0090 -- test_loss 0.0251\n",
            "Iteration 1196 -- train_loss: 0.0090 -- test_loss 0.0251\n",
            "Iteration 1198 -- train_loss: 0.0090 -- test_loss 0.0251\n",
            "Iteration 1200 -- train_loss: 0.0090 -- test_loss 0.0251\n",
            "Iteration 1202 -- train_loss: 0.0090 -- test_loss 0.0251\n",
            "Iteration 1204 -- train_loss: 0.0090 -- test_loss 0.0251\n",
            "Iteration 1206 -- train_loss: 0.0090 -- test_loss 0.0251\n",
            "Iteration 1208 -- train_loss: 0.0090 -- test_loss 0.0251\n",
            "Iteration 1210 -- train_loss: 0.0090 -- test_loss 0.0251\n",
            "Iteration 1212 -- train_loss: 0.0090 -- test_loss 0.0252\n",
            "Iteration 1214 -- train_loss: 0.0090 -- test_loss 0.0252\n",
            "Iteration 1216 -- train_loss: 0.0090 -- test_loss 0.0252\n",
            "Iteration 1218 -- train_loss: 0.0090 -- test_loss 0.0252\n",
            "Iteration 1220 -- train_loss: 0.0090 -- test_loss 0.0252\n",
            "Iteration 1222 -- train_loss: 0.0090 -- test_loss 0.0252\n",
            "Iteration 1224 -- train_loss: 0.0090 -- test_loss 0.0252\n",
            "Iteration 1226 -- train_loss: 0.0090 -- test_loss 0.0252\n",
            "Iteration 1228 -- train_loss: 0.0090 -- test_loss 0.0252\n",
            "Iteration 1230 -- train_loss: 0.0090 -- test_loss 0.0252\n",
            "Iteration 1232 -- train_loss: 0.0090 -- test_loss 0.0252\n",
            "Iteration 1234 -- train_loss: 0.0090 -- test_loss 0.0252\n",
            "Iteration 1236 -- train_loss: 0.0090 -- test_loss 0.0252\n",
            "Iteration 1238 -- train_loss: 0.0090 -- test_loss 0.0252\n",
            "Iteration 1240 -- train_loss: 0.0090 -- test_loss 0.0252\n",
            "Iteration 1242 -- train_loss: 0.0090 -- test_loss 0.0252\n",
            "Iteration 1244 -- train_loss: 0.0090 -- test_loss 0.0252\n",
            "Iteration 1246 -- train_loss: 0.0090 -- test_loss 0.0252\n",
            "Iteration 1248 -- train_loss: 0.0090 -- test_loss 0.0252\n",
            "Iteration 1250 -- train_loss: 0.0090 -- test_loss 0.0252\n",
            "Iteration 1252 -- train_loss: 0.0090 -- test_loss 0.0252\n",
            "Iteration 1254 -- train_loss: 0.0090 -- test_loss 0.0252\n",
            "Iteration 1256 -- train_loss: 0.0090 -- test_loss 0.0252\n",
            "Iteration 1258 -- train_loss: 0.0090 -- test_loss 0.0252\n",
            "Iteration 1260 -- train_loss: 0.0090 -- test_loss 0.0252\n",
            "Iteration 1262 -- train_loss: 0.0090 -- test_loss 0.0252\n",
            "Iteration 1264 -- train_loss: 0.0090 -- test_loss 0.0252\n",
            "Iteration 1266 -- train_loss: 0.0090 -- test_loss 0.0252\n",
            "Iteration 1268 -- train_loss: 0.0090 -- test_loss 0.0252\n",
            "Iteration 1270 -- train_loss: 0.0090 -- test_loss 0.0252\n",
            "Iteration 1272 -- train_loss: 0.0090 -- test_loss 0.0252\n",
            "Iteration 1274 -- train_loss: 0.0090 -- test_loss 0.0253\n",
            "Iteration 1276 -- train_loss: 0.0090 -- test_loss 0.0253\n",
            "Iteration 1278 -- train_loss: 0.0090 -- test_loss 0.0253\n",
            "Iteration 1280 -- train_loss: 0.0090 -- test_loss 0.0253\n",
            "Iteration 1282 -- train_loss: 0.0090 -- test_loss 0.0253\n",
            "Iteration 1284 -- train_loss: 0.0090 -- test_loss 0.0253\n",
            "Iteration 1286 -- train_loss: 0.0090 -- test_loss 0.0253\n",
            "Iteration 1288 -- train_loss: 0.0090 -- test_loss 0.0253\n",
            "Iteration 1290 -- train_loss: 0.0090 -- test_loss 0.0253\n",
            "Iteration 1292 -- train_loss: 0.0090 -- test_loss 0.0253\n",
            "Iteration 1294 -- train_loss: 0.0090 -- test_loss 0.0253\n",
            "Iteration 1296 -- train_loss: 0.0090 -- test_loss 0.0253\n",
            "Iteration 1298 -- train_loss: 0.0090 -- test_loss 0.0253\n",
            "Iteration 1300 -- train_loss: 0.0090 -- test_loss 0.0253\n",
            "Iteration 1302 -- train_loss: 0.0090 -- test_loss 0.0253\n",
            "Iteration 1304 -- train_loss: 0.0090 -- test_loss 0.0253\n",
            "Iteration 1306 -- train_loss: 0.0090 -- test_loss 0.0253\n",
            "Iteration 1308 -- train_loss: 0.0090 -- test_loss 0.0253\n",
            "Iteration 1310 -- train_loss: 0.0090 -- test_loss 0.0253\n",
            "Iteration 1312 -- train_loss: 0.0090 -- test_loss 0.0253\n",
            "Iteration 1314 -- train_loss: 0.0090 -- test_loss 0.0253\n",
            "Iteration 1316 -- train_loss: 0.0090 -- test_loss 0.0253\n",
            "Iteration 1318 -- train_loss: 0.0090 -- test_loss 0.0254\n",
            "Iteration 1320 -- train_loss: 0.0090 -- test_loss 0.0254\n",
            "Iteration 1322 -- train_loss: 0.0090 -- test_loss 0.0254\n",
            "Iteration 1324 -- train_loss: 0.0090 -- test_loss 0.0254\n",
            "Iteration 1326 -- train_loss: 0.0090 -- test_loss 0.0254\n",
            "Iteration 1328 -- train_loss: 0.0090 -- test_loss 0.0254\n",
            "Iteration 1330 -- train_loss: 0.0090 -- test_loss 0.0254\n",
            "Iteration 1332 -- train_loss: 0.0090 -- test_loss 0.0254\n",
            "Iteration 1334 -- train_loss: 0.0090 -- test_loss 0.0254\n",
            "Iteration 1336 -- train_loss: 0.0090 -- test_loss 0.0254\n",
            "Iteration 1338 -- train_loss: 0.0090 -- test_loss 0.0254\n",
            "Iteration 1340 -- train_loss: 0.0090 -- test_loss 0.0254\n",
            "Iteration 1342 -- train_loss: 0.0090 -- test_loss 0.0254\n",
            "Iteration 1344 -- train_loss: 0.0090 -- test_loss 0.0254\n",
            "Iteration 1346 -- train_loss: 0.0090 -- test_loss 0.0254\n",
            "Iteration 1348 -- train_loss: 0.0090 -- test_loss 0.0254\n",
            "Iteration 1350 -- train_loss: 0.0090 -- test_loss 0.0254\n",
            "Iteration 1352 -- train_loss: 0.0090 -- test_loss 0.0254\n",
            "Iteration 1354 -- train_loss: 0.0090 -- test_loss 0.0253\n",
            "Iteration 1356 -- train_loss: 0.0090 -- test_loss 0.0253\n",
            "Iteration 1358 -- train_loss: 0.0090 -- test_loss 0.0253\n",
            "Iteration 1360 -- train_loss: 0.0090 -- test_loss 0.0253\n",
            "Iteration 1362 -- train_loss: 0.0090 -- test_loss 0.0253\n",
            "Iteration 1364 -- train_loss: 0.0090 -- test_loss 0.0253\n",
            "Iteration 1366 -- train_loss: 0.0090 -- test_loss 0.0253\n",
            "Iteration 1368 -- train_loss: 0.0090 -- test_loss 0.0253\n",
            "Iteration 1370 -- train_loss: 0.0090 -- test_loss 0.0253\n",
            "Iteration 1372 -- train_loss: 0.0090 -- test_loss 0.0253\n",
            "Iteration 1374 -- train_loss: 0.0090 -- test_loss 0.0253\n",
            "Iteration 1376 -- train_loss: 0.0089 -- test_loss 0.0253\n",
            "Iteration 1378 -- train_loss: 0.0078 -- test_loss 0.0251\n",
            "Iteration 1380 -- train_loss: 0.0078 -- test_loss 0.0250\n",
            "Iteration 1382 -- train_loss: 0.0078 -- test_loss 0.0249\n",
            "Iteration 1384 -- train_loss: 0.0077 -- test_loss 0.0249\n",
            "Iteration 1386 -- train_loss: 0.0077 -- test_loss 0.0249\n",
            "Iteration 1388 -- train_loss: 0.0077 -- test_loss 0.0249\n",
            "Iteration 1390 -- train_loss: 0.0077 -- test_loss 0.0249\n",
            "Iteration 1392 -- train_loss: 0.0077 -- test_loss 0.0249\n",
            "Iteration 1394 -- train_loss: 0.0077 -- test_loss 0.0249\n",
            "Iteration 1396 -- train_loss: 0.0077 -- test_loss 0.0249\n",
            "Iteration 1398 -- train_loss: 0.0077 -- test_loss 0.0249\n",
            "Iteration 1400 -- train_loss: 0.0077 -- test_loss 0.0249\n",
            "Iteration 1402 -- train_loss: 0.0077 -- test_loss 0.0249\n",
            "Iteration 1404 -- train_loss: 0.0077 -- test_loss 0.0249\n",
            "Iteration 1406 -- train_loss: 0.0077 -- test_loss 0.0249\n",
            "Iteration 1408 -- train_loss: 0.0077 -- test_loss 0.0250\n",
            "Iteration 1410 -- train_loss: 0.0077 -- test_loss 0.0249\n",
            "Iteration 1412 -- train_loss: 0.0077 -- test_loss 0.0250\n",
            "Iteration 1414 -- train_loss: 0.0077 -- test_loss 0.0250\n",
            "Iteration 1416 -- train_loss: 0.0077 -- test_loss 0.0250\n",
            "Iteration 1418 -- train_loss: 0.0077 -- test_loss 0.0250\n",
            "Iteration 1420 -- train_loss: 0.0077 -- test_loss 0.0250\n",
            "Iteration 1422 -- train_loss: 0.0077 -- test_loss 0.0250\n",
            "Iteration 1424 -- train_loss: 0.0077 -- test_loss 0.0250\n",
            "Iteration 1426 -- train_loss: 0.0077 -- test_loss 0.0250\n",
            "Iteration 1428 -- train_loss: 0.0077 -- test_loss 0.0250\n",
            "Iteration 1430 -- train_loss: 0.0077 -- test_loss 0.0250\n",
            "Iteration 1432 -- train_loss: 0.0077 -- test_loss 0.0250\n",
            "Iteration 1434 -- train_loss: 0.0077 -- test_loss 0.0250\n",
            "Iteration 1436 -- train_loss: 0.0077 -- test_loss 0.0251\n",
            "Iteration 1438 -- train_loss: 0.0077 -- test_loss 0.0250\n",
            "Iteration 1440 -- train_loss: 0.0077 -- test_loss 0.0251\n",
            "Iteration 1442 -- train_loss: 0.0077 -- test_loss 0.0250\n",
            "Iteration 1444 -- train_loss: 0.0077 -- test_loss 0.0251\n",
            "Iteration 1446 -- train_loss: 0.0077 -- test_loss 0.0250\n",
            "Iteration 1448 -- train_loss: 0.0077 -- test_loss 0.0251\n",
            "Iteration 1450 -- train_loss: 0.0077 -- test_loss 0.0251\n",
            "Iteration 1452 -- train_loss: 0.0077 -- test_loss 0.0251\n",
            "Iteration 1454 -- train_loss: 0.0077 -- test_loss 0.0251\n",
            "Iteration 1456 -- train_loss: 0.0077 -- test_loss 0.0251\n",
            "Iteration 1458 -- train_loss: 0.0077 -- test_loss 0.0251\n",
            "Iteration 1460 -- train_loss: 0.0077 -- test_loss 0.0251\n",
            "Iteration 1462 -- train_loss: 0.0077 -- test_loss 0.0251\n",
            "Iteration 1464 -- train_loss: 0.0077 -- test_loss 0.0251\n",
            "Iteration 1466 -- train_loss: 0.0077 -- test_loss 0.0251\n",
            "Iteration 1468 -- train_loss: 0.0077 -- test_loss 0.0251\n",
            "Iteration 1470 -- train_loss: 0.0077 -- test_loss 0.0251\n",
            "Iteration 1472 -- train_loss: 0.0077 -- test_loss 0.0251\n",
            "Iteration 1474 -- train_loss: 0.0077 -- test_loss 0.0251\n",
            "Iteration 1476 -- train_loss: 0.0077 -- test_loss 0.0252\n",
            "Iteration 1478 -- train_loss: 0.0077 -- test_loss 0.0252\n",
            "Iteration 1480 -- train_loss: 0.0077 -- test_loss 0.0252\n",
            "Iteration 1482 -- train_loss: 0.0077 -- test_loss 0.0252\n",
            "Iteration 1484 -- train_loss: 0.0077 -- test_loss 0.0252\n",
            "Iteration 1486 -- train_loss: 0.0077 -- test_loss 0.0252\n",
            "Iteration 1488 -- train_loss: 0.0077 -- test_loss 0.0252\n",
            "Iteration 1490 -- train_loss: 0.0077 -- test_loss 0.0252\n",
            "Iteration 1492 -- train_loss: 0.0077 -- test_loss 0.0252\n",
            "Iteration 1494 -- train_loss: 0.0077 -- test_loss 0.0252\n",
            "Iteration 1496 -- train_loss: 0.0077 -- test_loss 0.0252\n",
            "Iteration 1498 -- train_loss: 0.0077 -- test_loss 0.0252\n",
            "Iteration 1500 -- train_loss: 0.0077 -- test_loss 0.0252\n",
            "Iteration 1502 -- train_loss: 0.0077 -- test_loss 0.0252\n",
            "Iteration 1504 -- train_loss: 0.0077 -- test_loss 0.0252\n",
            "Iteration 1506 -- train_loss: 0.0077 -- test_loss 0.0252\n",
            "Iteration 1508 -- train_loss: 0.0077 -- test_loss 0.0252\n",
            "Iteration 1510 -- train_loss: 0.0077 -- test_loss 0.0252\n",
            "Iteration 1512 -- train_loss: 0.0077 -- test_loss 0.0252\n",
            "Iteration 1514 -- train_loss: 0.0077 -- test_loss 0.0252\n",
            "Iteration 1516 -- train_loss: 0.0077 -- test_loss 0.0252\n",
            "Iteration 1518 -- train_loss: 0.0077 -- test_loss 0.0252\n",
            "Iteration 1520 -- train_loss: 0.0077 -- test_loss 0.0252\n",
            "Iteration 1522 -- train_loss: 0.0077 -- test_loss 0.0252\n",
            "Iteration 1524 -- train_loss: 0.0077 -- test_loss 0.0252\n",
            "Iteration 1526 -- train_loss: 0.0077 -- test_loss 0.0252\n",
            "Iteration 1528 -- train_loss: 0.0077 -- test_loss 0.0252\n",
            "Iteration 1530 -- train_loss: 0.0077 -- test_loss 0.0252\n",
            "Iteration 1532 -- train_loss: 0.0077 -- test_loss 0.0252\n",
            "Iteration 1534 -- train_loss: 0.0077 -- test_loss 0.0252\n",
            "Iteration 1536 -- train_loss: 0.0077 -- test_loss 0.0253\n",
            "Iteration 1538 -- train_loss: 0.0077 -- test_loss 0.0252\n",
            "Iteration 1540 -- train_loss: 0.0077 -- test_loss 0.0252\n",
            "Iteration 1542 -- train_loss: 0.0077 -- test_loss 0.0253\n",
            "Iteration 1544 -- train_loss: 0.0077 -- test_loss 0.0252\n",
            "Iteration 1546 -- train_loss: 0.0077 -- test_loss 0.0252\n",
            "Iteration 1548 -- train_loss: 0.0077 -- test_loss 0.0253\n",
            "Iteration 1550 -- train_loss: 0.0077 -- test_loss 0.0253\n",
            "Iteration 1552 -- train_loss: 0.0077 -- test_loss 0.0253\n",
            "Iteration 1554 -- train_loss: 0.0077 -- test_loss 0.0252\n",
            "Iteration 1556 -- train_loss: 0.0077 -- test_loss 0.0253\n",
            "Iteration 1558 -- train_loss: 0.0077 -- test_loss 0.0253\n",
            "Iteration 1560 -- train_loss: 0.0077 -- test_loss 0.0253\n",
            "Iteration 1562 -- train_loss: 0.0077 -- test_loss 0.0253\n",
            "Iteration 1564 -- train_loss: 0.0077 -- test_loss 0.0253\n",
            "Iteration 1566 -- train_loss: 0.0077 -- test_loss 0.0253\n",
            "Iteration 1568 -- train_loss: 0.0077 -- test_loss 0.0252\n",
            "Iteration 1570 -- train_loss: 0.0077 -- test_loss 0.0253\n",
            "Iteration 1572 -- train_loss: 0.0077 -- test_loss 0.0253\n",
            "Iteration 1574 -- train_loss: 0.0077 -- test_loss 0.0253\n",
            "Iteration 1576 -- train_loss: 0.0077 -- test_loss 0.0253\n",
            "Iteration 1578 -- train_loss: 0.0077 -- test_loss 0.0253\n",
            "Iteration 1580 -- train_loss: 0.0077 -- test_loss 0.0253\n",
            "Iteration 1582 -- train_loss: 0.0077 -- test_loss 0.0253\n",
            "Iteration 1584 -- train_loss: 0.0077 -- test_loss 0.0253\n",
            "Iteration 1586 -- train_loss: 0.0077 -- test_loss 0.0253\n",
            "Iteration 1588 -- train_loss: 0.0077 -- test_loss 0.0253\n",
            "Iteration 1590 -- train_loss: 0.0077 -- test_loss 0.0253\n",
            "Iteration 1592 -- train_loss: 0.0077 -- test_loss 0.0253\n",
            "Iteration 1594 -- train_loss: 0.0077 -- test_loss 0.0253\n",
            "Iteration 1596 -- train_loss: 0.0077 -- test_loss 0.0253\n",
            "Iteration 1598 -- train_loss: 0.0077 -- test_loss 0.0253\n",
            "Iteration 1600 -- train_loss: 0.0077 -- test_loss 0.0253\n",
            "Iteration 1602 -- train_loss: 0.0077 -- test_loss 0.0253\n",
            "Iteration 1604 -- train_loss: 0.0077 -- test_loss 0.0253\n",
            "Iteration 1606 -- train_loss: 0.0077 -- test_loss 0.0253\n",
            "Iteration 1608 -- train_loss: 0.0077 -- test_loss 0.0253\n",
            "Iteration 1610 -- train_loss: 0.0077 -- test_loss 0.0253\n",
            "Iteration 1612 -- train_loss: 0.0077 -- test_loss 0.0253\n",
            "Iteration 1614 -- train_loss: 0.0077 -- test_loss 0.0253\n",
            "Iteration 1616 -- train_loss: 0.0077 -- test_loss 0.0252\n",
            "Iteration 1618 -- train_loss: 0.0077 -- test_loss 0.0252\n",
            "Iteration 1620 -- train_loss: 0.0077 -- test_loss 0.0253\n",
            "Iteration 1622 -- train_loss: 0.0077 -- test_loss 0.0253\n",
            "Iteration 1624 -- train_loss: 0.0077 -- test_loss 0.0253\n",
            "Iteration 1626 -- train_loss: 0.0077 -- test_loss 0.0252\n",
            "Iteration 1628 -- train_loss: 0.0077 -- test_loss 0.0252\n",
            "Iteration 1630 -- train_loss: 0.0077 -- test_loss 0.0252\n",
            "Iteration 1632 -- train_loss: 0.0077 -- test_loss 0.0252\n",
            "Iteration 1634 -- train_loss: 0.0077 -- test_loss 0.0253\n",
            "Iteration 1636 -- train_loss: 0.0077 -- test_loss 0.0252\n",
            "Iteration 1638 -- train_loss: 0.0077 -- test_loss 0.0253\n",
            "Iteration 1640 -- train_loss: 0.0077 -- test_loss 0.0253\n",
            "Iteration 1642 -- train_loss: 0.0077 -- test_loss 0.0253\n",
            "Iteration 1644 -- train_loss: 0.0077 -- test_loss 0.0252\n",
            "Iteration 1646 -- train_loss: 0.0077 -- test_loss 0.0253\n",
            "Iteration 1648 -- train_loss: 0.0077 -- test_loss 0.0254\n",
            "Iteration 1650 -- train_loss: 0.0077 -- test_loss 0.0253\n",
            "Iteration 1652 -- train_loss: 0.0077 -- test_loss 0.0252\n",
            "Iteration 1654 -- train_loss: 0.0077 -- test_loss 0.0253\n",
            "Iteration 1656 -- train_loss: 0.0077 -- test_loss 0.0254\n",
            "Iteration 1658 -- train_loss: 0.0077 -- test_loss 0.0253\n",
            "Iteration 1660 -- train_loss: 0.0077 -- test_loss 0.0254\n",
            "Iteration 1662 -- train_loss: 0.0077 -- test_loss 0.0254\n",
            "Iteration 1664 -- train_loss: 0.0077 -- test_loss 0.0253\n",
            "Iteration 1666 -- train_loss: 0.0077 -- test_loss 0.0252\n",
            "Iteration 1668 -- train_loss: 0.0077 -- test_loss 0.0254\n",
            "Iteration 1670 -- train_loss: 0.0077 -- test_loss 0.0254\n",
            "Iteration 1672 -- train_loss: 0.0077 -- test_loss 0.0253\n",
            "Iteration 1674 -- train_loss: 0.0077 -- test_loss 0.0253\n",
            "Iteration 1676 -- train_loss: 0.0077 -- test_loss 0.0253\n",
            "Iteration 1678 -- train_loss: 0.0077 -- test_loss 0.0254\n",
            "Iteration 1680 -- train_loss: 0.0077 -- test_loss 0.0254\n",
            "Iteration 1682 -- train_loss: 0.0077 -- test_loss 0.0253\n",
            "Iteration 1684 -- train_loss: 0.0077 -- test_loss 0.0253\n",
            "Iteration 1686 -- train_loss: 0.0077 -- test_loss 0.0254\n",
            "Iteration 1688 -- train_loss: 0.0077 -- test_loss 0.0254\n",
            "Iteration 1690 -- train_loss: 0.0077 -- test_loss 0.0254\n",
            "Iteration 1692 -- train_loss: 0.0077 -- test_loss 0.0254\n",
            "Iteration 1694 -- train_loss: 0.0077 -- test_loss 0.0253\n",
            "Iteration 1696 -- train_loss: 0.0077 -- test_loss 0.0253\n",
            "Iteration 1698 -- train_loss: 0.0077 -- test_loss 0.0254\n",
            "Iteration 1700 -- train_loss: 0.0077 -- test_loss 0.0254\n",
            "Iteration 1702 -- train_loss: 0.0077 -- test_loss 0.0253\n",
            "Iteration 1704 -- train_loss: 0.0077 -- test_loss 0.0253\n",
            "Iteration 1706 -- train_loss: 0.0077 -- test_loss 0.0253\n",
            "Iteration 1708 -- train_loss: 0.0077 -- test_loss 0.0253\n",
            "Iteration 1710 -- train_loss: 0.0077 -- test_loss 0.0254\n",
            "Iteration 1712 -- train_loss: 0.0077 -- test_loss 0.0254\n",
            "Iteration 1714 -- train_loss: 0.0077 -- test_loss 0.0254\n",
            "Iteration 1716 -- train_loss: 0.0077 -- test_loss 0.0254\n",
            "Iteration 1718 -- train_loss: 0.0077 -- test_loss 0.0254\n",
            "Iteration 1720 -- train_loss: 0.0077 -- test_loss 0.0253\n",
            "Iteration 1722 -- train_loss: 0.0077 -- test_loss 0.0253\n",
            "Iteration 1724 -- train_loss: 0.0077 -- test_loss 0.0254\n",
            "Iteration 1726 -- train_loss: 0.0077 -- test_loss 0.0255\n",
            "Iteration 1728 -- train_loss: 0.0077 -- test_loss 0.0254\n",
            "Iteration 1730 -- train_loss: 0.0077 -- test_loss 0.0253\n",
            "Iteration 1732 -- train_loss: 0.0077 -- test_loss 0.0254\n",
            "Iteration 1734 -- train_loss: 0.0077 -- test_loss 0.0255\n",
            "Iteration 1736 -- train_loss: 0.0077 -- test_loss 0.0253\n",
            "Iteration 1738 -- train_loss: 0.0077 -- test_loss 0.0254\n",
            "Iteration 1740 -- train_loss: 0.0077 -- test_loss 0.0253\n",
            "Iteration 1742 -- train_loss: 0.0077 -- test_loss 0.0254\n",
            "Iteration 1744 -- train_loss: 0.0077 -- test_loss 0.0254\n",
            "Iteration 1746 -- train_loss: 0.0077 -- test_loss 0.0255\n",
            "Iteration 1748 -- train_loss: 0.0077 -- test_loss 0.0255\n",
            "Iteration 1750 -- train_loss: 0.0077 -- test_loss 0.0255\n",
            "Iteration 1752 -- train_loss: 0.0077 -- test_loss 0.0254\n",
            "Iteration 1754 -- train_loss: 0.0077 -- test_loss 0.0253\n",
            "Iteration 1756 -- train_loss: 0.0077 -- test_loss 0.0254\n",
            "Iteration 1758 -- train_loss: 0.0077 -- test_loss 0.0255\n",
            "Iteration 1760 -- train_loss: 0.0077 -- test_loss 0.0255\n",
            "Iteration 1762 -- train_loss: 0.0077 -- test_loss 0.0254\n",
            "Iteration 1764 -- train_loss: 0.0077 -- test_loss 0.0255\n",
            "Iteration 1766 -- train_loss: 0.0077 -- test_loss 0.0255\n",
            "Iteration 1768 -- train_loss: 0.0077 -- test_loss 0.0254\n",
            "Iteration 1770 -- train_loss: 0.0077 -- test_loss 0.0254\n",
            "Iteration 1772 -- train_loss: 0.0077 -- test_loss 0.0254\n",
            "Iteration 1774 -- train_loss: 0.0077 -- test_loss 0.0254\n",
            "Iteration 1776 -- train_loss: 0.0077 -- test_loss 0.0254\n",
            "Iteration 1778 -- train_loss: 0.0077 -- test_loss 0.0254\n",
            "Iteration 1780 -- train_loss: 0.0077 -- test_loss 0.0255\n",
            "Iteration 1782 -- train_loss: 0.0077 -- test_loss 0.0255\n",
            "Iteration 1784 -- train_loss: 0.0077 -- test_loss 0.0255\n",
            "Iteration 1786 -- train_loss: 0.0077 -- test_loss 0.0254\n",
            "Iteration 1788 -- train_loss: 0.0077 -- test_loss 0.0254\n",
            "Iteration 1790 -- train_loss: 0.0077 -- test_loss 0.0254\n",
            "Iteration 1792 -- train_loss: 0.0077 -- test_loss 0.0254\n",
            "Iteration 1794 -- train_loss: 0.0077 -- test_loss 0.0254\n",
            "Iteration 1796 -- train_loss: 0.0077 -- test_loss 0.0254\n",
            "Iteration 1798 -- train_loss: 0.0077 -- test_loss 0.0254\n",
            "Iteration 1800 -- train_loss: 0.0077 -- test_loss 0.0254\n",
            "Iteration 1802 -- train_loss: 0.0077 -- test_loss 0.0254\n",
            "Iteration 1804 -- train_loss: 0.0077 -- test_loss 0.0254\n",
            "Iteration 1806 -- train_loss: 0.0077 -- test_loss 0.0254\n",
            "Iteration 1808 -- train_loss: 0.0077 -- test_loss 0.0255\n",
            "Iteration 1810 -- train_loss: 0.0077 -- test_loss 0.0255\n",
            "Iteration 1812 -- train_loss: 0.0077 -- test_loss 0.0255\n",
            "Iteration 1814 -- train_loss: 0.0077 -- test_loss 0.0255\n",
            "Iteration 1816 -- train_loss: 0.0077 -- test_loss 0.0255\n",
            "Iteration 1818 -- train_loss: 0.0077 -- test_loss 0.0255\n",
            "Iteration 1820 -- train_loss: 0.0077 -- test_loss 0.0256\n",
            "Iteration 1822 -- train_loss: 0.0077 -- test_loss 0.0254\n",
            "Iteration 1824 -- train_loss: 0.0077 -- test_loss 0.0255\n",
            "Iteration 1826 -- train_loss: 0.0077 -- test_loss 0.0255\n",
            "Iteration 1828 -- train_loss: 0.0077 -- test_loss 0.0254\n",
            "Iteration 1830 -- train_loss: 0.0077 -- test_loss 0.0254\n",
            "Iteration 1832 -- train_loss: 0.0077 -- test_loss 0.0254\n",
            "Iteration 1834 -- train_loss: 0.0077 -- test_loss 0.0255\n",
            "Iteration 1836 -- train_loss: 0.0077 -- test_loss 0.0256\n",
            "Iteration 1838 -- train_loss: 0.0077 -- test_loss 0.0254\n",
            "Iteration 1840 -- train_loss: 0.0077 -- test_loss 0.0255\n",
            "Iteration 1842 -- train_loss: 0.0077 -- test_loss 0.0255\n",
            "Iteration 1844 -- train_loss: 0.0077 -- test_loss 0.0256\n",
            "Iteration 1846 -- train_loss: 0.0077 -- test_loss 0.0255\n",
            "Iteration 1848 -- train_loss: 0.0077 -- test_loss 0.0254\n",
            "Iteration 1850 -- train_loss: 0.0077 -- test_loss 0.0255\n",
            "Iteration 1852 -- train_loss: 0.0077 -- test_loss 0.0256\n",
            "Iteration 1854 -- train_loss: 0.0077 -- test_loss 0.0255\n",
            "Iteration 1856 -- train_loss: 0.0077 -- test_loss 0.0255\n",
            "Iteration 1858 -- train_loss: 0.0077 -- test_loss 0.0256\n",
            "Iteration 1860 -- train_loss: 0.0077 -- test_loss 0.0255\n",
            "Iteration 1862 -- train_loss: 0.0077 -- test_loss 0.0255\n",
            "Iteration 1864 -- train_loss: 0.0077 -- test_loss 0.0255\n",
            "Iteration 1866 -- train_loss: 0.0077 -- test_loss 0.0255\n",
            "Iteration 1868 -- train_loss: 0.0077 -- test_loss 0.0256\n",
            "Iteration 1870 -- train_loss: 0.0077 -- test_loss 0.0255\n",
            "Iteration 1872 -- train_loss: 0.0077 -- test_loss 0.0256\n",
            "Iteration 1874 -- train_loss: 0.0077 -- test_loss 0.0255\n",
            "Iteration 1876 -- train_loss: 0.0077 -- test_loss 0.0256\n",
            "Iteration 1878 -- train_loss: 0.0077 -- test_loss 0.0255\n",
            "Iteration 1880 -- train_loss: 0.0077 -- test_loss 0.0254\n",
            "Iteration 1882 -- train_loss: 0.0077 -- test_loss 0.0255\n",
            "Iteration 1884 -- train_loss: 0.0077 -- test_loss 0.0256\n",
            "Iteration 1886 -- train_loss: 0.0077 -- test_loss 0.0255\n",
            "Iteration 1888 -- train_loss: 0.0077 -- test_loss 0.0255\n",
            "Iteration 1890 -- train_loss: 0.0077 -- test_loss 0.0255\n",
            "Iteration 1892 -- train_loss: 0.0077 -- test_loss 0.0255\n",
            "Iteration 1894 -- train_loss: 0.0077 -- test_loss 0.0255\n",
            "Iteration 1896 -- train_loss: 0.0077 -- test_loss 0.0255\n",
            "Iteration 1898 -- train_loss: 0.0077 -- test_loss 0.0256\n",
            "Iteration 1900 -- train_loss: 0.0077 -- test_loss 0.0254\n",
            "Iteration 1902 -- train_loss: 0.0076 -- test_loss 0.0255\n",
            "Iteration 1904 -- train_loss: 0.0077 -- test_loss 0.0256\n",
            "Iteration 1906 -- train_loss: 0.0077 -- test_loss 0.0256\n",
            "Iteration 1908 -- train_loss: 0.0077 -- test_loss 0.0255\n",
            "Iteration 1910 -- train_loss: 0.0077 -- test_loss 0.0254\n",
            "Iteration 1912 -- train_loss: 0.0077 -- test_loss 0.0255\n",
            "Iteration 1914 -- train_loss: 0.0077 -- test_loss 0.0256\n",
            "Iteration 1916 -- train_loss: 0.0077 -- test_loss 0.0255\n",
            "Iteration 1918 -- train_loss: 0.0076 -- test_loss 0.0255\n",
            "Iteration 1920 -- train_loss: 0.0077 -- test_loss 0.0256\n",
            "Iteration 1922 -- train_loss: 0.0077 -- test_loss 0.0256\n",
            "Iteration 1924 -- train_loss: 0.0077 -- test_loss 0.0255\n",
            "Iteration 1926 -- train_loss: 0.0076 -- test_loss 0.0255\n",
            "Iteration 1928 -- train_loss: 0.0077 -- test_loss 0.0255\n",
            "Iteration 1930 -- train_loss: 0.0077 -- test_loss 0.0256\n",
            "Iteration 1932 -- train_loss: 0.0077 -- test_loss 0.0256\n",
            "Iteration 1934 -- train_loss: 0.0077 -- test_loss 0.0256\n",
            "Iteration 1936 -- train_loss: 0.0077 -- test_loss 0.0255\n",
            "Iteration 1938 -- train_loss: 0.0077 -- test_loss 0.0256\n",
            "Iteration 1940 -- train_loss: 0.0077 -- test_loss 0.0255\n",
            "Iteration 1942 -- train_loss: 0.0077 -- test_loss 0.0256\n",
            "Iteration 1944 -- train_loss: 0.0077 -- test_loss 0.0255\n",
            "Iteration 1946 -- train_loss: 0.0077 -- test_loss 0.0254\n",
            "Iteration 1948 -- train_loss: 0.0077 -- test_loss 0.0255\n",
            "Iteration 1950 -- train_loss: 0.0077 -- test_loss 0.0255\n",
            "Iteration 1952 -- train_loss: 0.0077 -- test_loss 0.0256\n",
            "Iteration 1954 -- train_loss: 0.0077 -- test_loss 0.0254\n",
            "Iteration 1956 -- train_loss: 0.0076 -- test_loss 0.0254\n",
            "Iteration 1958 -- train_loss: 0.0076 -- test_loss 0.0254\n",
            "Iteration 1960 -- train_loss: 0.0077 -- test_loss 0.0254\n",
            "Iteration 1962 -- train_loss: 0.0076 -- test_loss 0.0253\n",
            "Iteration 1964 -- train_loss: 0.0076 -- test_loss 0.0254\n",
            "Iteration 1966 -- train_loss: 0.0076 -- test_loss 0.0254\n",
            "Iteration 1968 -- train_loss: 0.0076 -- test_loss 0.0253\n",
            "Iteration 1970 -- train_loss: 0.0075 -- test_loss 0.0249\n",
            "Iteration 1972 -- train_loss: 0.0074 -- test_loss 0.0248\n",
            "Iteration 1974 -- train_loss: 0.0074 -- test_loss 0.0247\n",
            "Iteration 1976 -- train_loss: 0.0073 -- test_loss 0.0245\n",
            "Iteration 1978 -- train_loss: 0.0073 -- test_loss 0.0245\n",
            "Iteration 1980 -- train_loss: 0.0074 -- test_loss 0.0245\n",
            "Iteration 1982 -- train_loss: 0.0073 -- test_loss 0.0244\n",
            "Iteration 1984 -- train_loss: 0.0073 -- test_loss 0.0244\n",
            "Iteration 1986 -- train_loss: 0.0073 -- test_loss 0.0243\n",
            "Iteration 1988 -- train_loss: 0.0073 -- test_loss 0.0244\n",
            "Iteration 1990 -- train_loss: 0.0073 -- test_loss 0.0242\n",
            "Iteration 1992 -- train_loss: 0.0073 -- test_loss 0.0242\n",
            "Iteration 1994 -- train_loss: 0.0073 -- test_loss 0.0242\n",
            "Iteration 1996 -- train_loss: 0.0074 -- test_loss 0.0243\n",
            "Iteration 1998 -- train_loss: 0.0073 -- test_loss 0.0241\n"
          ]
        }
      ]
    },
    {
      "cell_type": "code",
      "source": [
        "# Plot results\n",
        "plt.plot(train_losses, label=\"Train Loss\")\n",
        "plt.plot(test_losses, label=\"Test Loss\")\n",
        "plt.legend()\n",
        "plt.show()"
      ],
      "metadata": {
        "id": "Nx5-fJZaupvf",
        "colab": {
          "base_uri": "https://localhost:8080/",
          "height": 430
        },
        "outputId": "e63128cc-04fb-446b-eb9d-8c31fe52fe67"
      },
      "execution_count": null,
      "outputs": [
        {
          "output_type": "display_data",
          "data": {
            "text/plain": [
              "<Figure size 640x480 with 1 Axes>"
            ],
            "image/png": "[encoded data removed]"
          },
          "metadata": {}
        }
      ]
    },
    {
      "cell_type": "code",
      "source": [
        "y_test_scaled_pred = forward_propagation(X_test_scaled, W_1, W_2)\n",
        "y_test_pred = reverse(y_test_scaled_pred, y_train_params)\n",
        "\n",
        "# Let's check whether you did all good!\n",
        "success = test_mse < 0.03\n",
        "print(f\"Test MSE = {test_mse}, < 0.03? {success}\")\n",
        "\n",
        "# Finally, let us compare our predicted years with the ground truth\n",
        "report = pd.DataFrame(None)\n",
        "report[\"y_test\"] = y_test.reshape(-1, )\n",
        "report[\"y_test_pred\"] = y_test_pred\n",
        "report.head()"
      ],
      "metadata": {
        "id": "N1WacLjYOA6Q",
        "colab": {
          "base_uri": "https://localhost:8080/",
          "height": 223
        },
        "outputId": "bbd1280c-e6bf-4fd4-a4d3-a8a5e47aba6c"
      },
      "execution_count": null,
      "outputs": [
        {
          "output_type": "stream",
          "name": "stdout",
          "text": [
            "Test MSE = 0.02421773945526941, < 0.03? True\n"
          ]
        },
        {
          "output_type": "execute_result",
          "data": {
            "text/plain": [
              "   y_test  y_test_pred\n",
              "0    1604  1604.089910\n",
              "1    1601  1606.858290\n",
              "2    1602  1598.487883\n",
              "3    1598  1603.818186\n",
              "4    1588  1588.249659"
            ],
            "text/html": [
              "\n",
              "  <div id=\"df-141b6888-0954-4bf3-8bbb-8907da2fdcfc\" class=\"colab-df-container\">\n",
              "    <div>\n",
              "<style scoped>\n",
              "    .dataframe tbody tr th:only-of-type {\n",
              "        vertical-align: middle;\n",
              "    }\n",
              "\n",
              "    .dataframe tbody tr th {\n",
              "        vertical-align: top;\n",
              "    }\n",
              "\n",
              "    .dataframe thead th {\n",
              "        text-align: right;\n",
              "    }\n",
              "</style>\n",
              "<table border=\"1\" class=\"dataframe\">\n",
              "  <thead>\n",
              "    <tr style=\"text-align: right;\">\n",
              "      <th></th>\n",
              "      <th>y_test</th>\n",
              "      <th>y_test_pred</th>\n",
              "    </tr>\n",
              "  </thead>\n",
              "  <tbody>\n",
              "    <tr>\n",
              "      <th>0</th>\n",
              "      <td>1604</td>\n",
              "      <td>1604.089910</td>\n",
              "    </tr>\n",
              "    <tr>\n",
              "      <th>1</th>\n",
              "      <td>1601</td>\n",
              "      <td>1606.858290</td>\n",
              "    </tr>\n",
              "    <tr>\n",
              "      <th>2</th>\n",
              "      <td>1602</td>\n",
              "      <td>1598.487883</td>\n",
              "    </tr>\n",
              "    <tr>\n",
              "      <th>3</th>\n",
              "      <td>1598</td>\n",
              "      <td>1603.818186</td>\n",
              "    </tr>\n",
              "    <tr>\n",
              "      <th>4</th>\n",
              "      <td>1588</td>\n",
              "      <td>1588.249659</td>\n",
              "    </tr>\n",
              "  </tbody>\n",
              "</table>\n",
              "</div>\n",
              "    <div class=\"colab-df-buttons\">\n",
              "\n",
              "  <div class=\"colab-df-container\">\n",
              "    <button class=\"colab-df-convert\" onclick=\"convertToInteractive('df-141b6888-0954-4bf3-8bbb-8907da2fdcfc')\"\n",
              "            title=\"Convert this dataframe to an interactive table.\"\n",
              "            style=\"display:none;\">\n",
              "\n",
              "  <svg xmlns=\"http://www.w3.org/2000/svg\" height=\"24px\" viewBox=\"0 -960 960 960\">\n",
              "    <path d=\"M120-120v-720h720v720H120Zm60-500h600v-160H180v160Zm220 220h160v-160H400v160Zm0 220h160v-160H400v160ZM180-400h160v-160H180v160Zm440 0h160v-160H620v160ZM180-180h160v-160H180v160Zm440 0h160v-160H620v160Z\"/>\n",
              "  </svg>\n",
              "    </button>\n",
              "\n",
              "  <style>\n",
              "    .colab-df-container {\n",
              "      display:flex;\n",
              "      gap: 12px;\n",
              "    }\n",
              "\n",
              "    .colab-df-convert {\n",
              "      background-color: #E8F0FE;\n",
              "      border: none;\n",
              "      border-radius: 50%;\n",
              "      cursor: pointer;\n",
              "      display: none;\n",
              "      fill: #1967D2;\n",
              "      height: 32px;\n",
              "      padding: 0 0 0 0;\n",
              "      width: 32px;\n",
              "    }\n",
              "\n",
              "    .colab-df-convert:hover {\n",
              "      background-color: #E2EBFA;\n",
              "      box-shadow: 0px 1px 2px rgba(60, 64, 67, 0.3), 0px 1px 3px 1px rgba(60, 64, 67, 0.15);\n",
              "      fill: #174EA6;\n",
              "    }\n",
              "\n",
              "    .colab-df-buttons div {\n",
              "      margin-bottom: 4px;\n",
              "    }\n",
              "\n",
              "    [theme=dark] .colab-df-convert {\n",
              "      background-color: #3B4455;\n",
              "      fill: #D2E3FC;\n",
              "    }\n",
              "\n",
              "    [theme=dark] .colab-df-convert:hover {\n",
              "      background-color: #434B5C;\n",
              "      box-shadow: 0px 1px 3px 1px rgba(0, 0, 0, 0.15);\n",
              "      filter: drop-shadow(0px 1px 2px rgba(0, 0, 0, 0.3));\n",
              "      fill: #FFFFFF;\n",
              "    }\n",
              "  </style>\n",
              "\n",
              "    <script>\n",
              "      const buttonEl =\n",
              "        document.querySelector('#df-141b6888-0954-4bf3-8bbb-8907da2fdcfc button.colab-df-convert');\n",
              "      buttonEl.style.display =\n",
              "        google.colab.kernel.accessAllowed ? 'block' : 'none';\n",
              "\n",
              "      async function convertToInteractive(key) {\n",
              "        const element = document.querySelector('#df-141b6888-0954-4bf3-8bbb-8907da2fdcfc');\n",
              "        const dataTable =\n",
              "          await google.colab.kernel.invokeFunction('convertToInteractive',\n",
              "                                                    [key], {});\n",
              "        if (!dataTable) return;\n",
              "\n",
              "        const docLinkHtml = 'Like what you see? Visit the ' +\n",
              "          '<a target=\"_blank\" href=https://colab.research.google.com/notebooks/data_table.ipynb>data table notebook</a>'\n",
              "          + ' to learn more about interactive tables.';\n",
              "        element.innerHTML = '';\n",
              "        dataTable['output_type'] = 'display_data';\n",
              "        await google.colab.output.renderOutput(dataTable, element);\n",
              "        const docLink = document.createElement('div');\n",
              "        docLink.innerHTML = docLinkHtml;\n",
              "        element.appendChild(docLink);\n",
              "      }\n",
              "    </script>\n",
              "  </div>\n",
              "\n",
              "\n",
              "<div id=\"df-6738e1bf-5a62-4b89-87aa-1f22a81808af\">\n",
              "  <button class=\"colab-df-quickchart\" onclick=\"quickchart('df-6738e1bf-5a62-4b89-87aa-1f22a81808af')\"\n",
              "            title=\"Suggest charts\"\n",
              "            style=\"display:none;\">\n",
              "\n",
              "<svg xmlns=\"http://www.w3.org/2000/svg\" height=\"24px\"viewBox=\"0 0 24 24\"\n",
              "     width=\"24px\">\n",
              "    <g>\n",
              "        <path d=\"M19 3H5c-1.1 0-2 .9-2 2v14c0 1.1.9 2 2 2h14c1.1 0 2-.9 2-2V5c0-1.1-.9-2-2-2zM9 17H7v-7h2v7zm4 0h-2V7h2v10zm4 0h-2v-4h2v4z\"/>\n",
              "    </g>\n",
              "</svg>\n",
              "  </button>\n",
              "\n",
              "<style>\n",
              "  .colab-df-quickchart {\n",
              "      --bg-color: #E8F0FE;\n",
              "      --fill-color: #1967D2;\n",
              "      --hover-bg-color: #E2EBFA;\n",
              "      --hover-fill-color: #174EA6;\n",
              "      --disabled-fill-color: #AAA;\n",
              "      --disabled-bg-color: #DDD;\n",
              "  }\n",
              "\n",
              "  [theme=dark] .colab-df-quickchart {\n",
              "      --bg-color: #3B4455;\n",
              "      --fill-color: #D2E3FC;\n",
              "      --hover-bg-color: #434B5C;\n",
              "      --hover-fill-color: #FFFFFF;\n",
              "      --disabled-bg-color: #3B4455;\n",
              "      --disabled-fill-color: #666;\n",
              "  }\n",
              "\n",
              "  .colab-df-quickchart {\n",
              "    background-color: var(--bg-color);\n",
              "    border: none;\n",
              "    border-radius: 50%;\n",
              "    cursor: pointer;\n",
              "    display: none;\n",
              "    fill: var(--fill-color);\n",
              "    height: 32px;\n",
              "    padding: 0;\n",
              "    width: 32px;\n",
              "  }\n",
              "\n",
              "  .colab-df-quickchart:hover {\n",
              "    background-color: var(--hover-bg-color);\n",
              "    box-shadow: 0 1px 2px rgba(60, 64, 67, 0.3), 0 1px 3px 1px rgba(60, 64, 67, 0.15);\n",
              "    fill: var(--button-hover-fill-color);\n",
              "  }\n",
              "\n",
              "  .colab-df-quickchart-complete:disabled,\n",
              "  .colab-df-quickchart-complete:disabled:hover {\n",
              "    background-color: var(--disabled-bg-color);\n",
              "    fill: var(--disabled-fill-color);\n",
              "    box-shadow: none;\n",
              "  }\n",
              "\n",
              "  .colab-df-spinner {\n",
              "    border: 2px solid var(--fill-color);\n",
              "    border-color: transparent;\n",
              "    border-bottom-color: var(--fill-color);\n",
              "    animation:\n",
              "      spin 1s steps(1) infinite;\n",
              "  }\n",
              "\n",
              "  @keyframes spin {\n",
              "    0% {\n",
              "      border-color: transparent;\n",
              "      border-bottom-color: var(--fill-color);\n",
              "      border-left-color: var(--fill-color);\n",
              "    }\n",
              "    20% {\n",
              "      border-color: transparent;\n",
              "      border-left-color: var(--fill-color);\n",
              "      border-top-color: var(--fill-color);\n",
              "    }\n",
              "    30% {\n",
              "      border-color: transparent;\n",
              "      border-left-color: var(--fill-color);\n",
              "      border-top-color: var(--fill-color);\n",
              "      border-right-color: var(--fill-color);\n",
              "    }\n",
              "    40% {\n",
              "      border-color: transparent;\n",
              "      border-right-color: var(--fill-color);\n",
              "      border-top-color: var(--fill-color);\n",
              "    }\n",
              "    60% {\n",
              "      border-color: transparent;\n",
              "      border-right-color: var(--fill-color);\n",
              "    }\n",
              "    80% {\n",
              "      border-color: transparent;\n",
              "      border-right-color: var(--fill-color);\n",
              "      border-bottom-color: var(--fill-color);\n",
              "    }\n",
              "    90% {\n",
              "      border-color: transparent;\n",
              "      border-bottom-color: var(--fill-color);\n",
              "    }\n",
              "  }\n",
              "</style>\n",
              "\n",
              "  <script>\n",
              "    async function quickchart(key) {\n",
              "      const quickchartButtonEl =\n",
              "        document.querySelector('#' + key + ' button');\n",
              "      quickchartButtonEl.disabled = true;  // To prevent multiple clicks.\n",
              "      quickchartButtonEl.classList.add('colab-df-spinner');\n",
              "      try {\n",
              "        const charts = await google.colab.kernel.invokeFunction(\n",
              "            'suggestCharts', [key], {});\n",
              "      } catch (error) {\n",
              "        console.error('Error during call to suggestCharts:', error);\n",
              "      }\n",
              "      quickchartButtonEl.classList.remove('colab-df-spinner');\n",
              "      quickchartButtonEl.classList.add('colab-df-quickchart-complete');\n",
              "    }\n",
              "    (() => {\n",
              "      let quickchartButtonEl =\n",
              "        document.querySelector('#df-6738e1bf-5a62-4b89-87aa-1f22a81808af button');\n",
              "      quickchartButtonEl.style.display =\n",
              "        google.colab.kernel.accessAllowed ? 'block' : 'none';\n",
              "    })();\n",
              "  </script>\n",
              "</div>\n",
              "    </div>\n",
              "  </div>\n"
            ],
            "application/vnd.google.colaboratory.intrinsic+json": {
              "type": "dataframe",
              "variable_name": "report",
              "summary": "{\n  \"name\": \"report\",\n  \"rows\": 28,\n  \"fields\": [\n    {\n      \"column\": \"y_test\",\n      \"properties\": {\n        \"dtype\": \"number\",\n        \"std\": 7,\n        \"min\": 1587,\n        \"max\": 1610,\n        \"num_unique_values\": 18,\n        \"samples\": [\n          1604,\n          1601,\n          1608\n        ],\n        \"semantic_type\": \"\",\n        \"description\": \"\"\n      }\n    },\n    {\n      \"column\": \"y_test_pred\",\n      \"properties\": {\n        \"dtype\": \"number\",\n        \"std\": 7.88731185366274,\n        \"min\": 1585.8363162208557,\n        \"max\": 1609.1757753915583,\n        \"num_unique_values\": 28,\n        \"samples\": [\n          1609.1757753915583,\n          1607.2836123457753,\n          1591.3901468615245\n        ],\n        \"semantic_type\": \"\",\n        \"description\": \"\"\n      }\n    }\n  ]\n}"
            }
          },
          "metadata": {},
          "execution_count": 49
        }
      ]
    },
    {
      "cell_type": "markdown",
      "source": [
        "`%ENDCODE`"
      ],
      "metadata": {
        "id": "yUqqhnhlv-Tv"
      }
    }
  ]
}